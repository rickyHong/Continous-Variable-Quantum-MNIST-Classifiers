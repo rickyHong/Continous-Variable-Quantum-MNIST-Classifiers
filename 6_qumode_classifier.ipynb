{
 "cells": [
  {
   "cell_type": "markdown",
   "id": "3abbcfbb",
   "metadata": {},
   "source": [
    "### Author: Sophie Choe"
   ]
  },
  {
   "cell_type": "markdown",
   "id": "07d34259",
   "metadata": {},
   "source": [
    "#### Portland State University, Electrical and Computer Engineering"
   ]
  },
  {
   "cell_type": "markdown",
   "id": "5ed8604c",
   "metadata": {},
   "source": [
    "February 2022"
   ]
  },
  {
   "cell_type": "markdown",
   "id": "8bbce944",
   "metadata": {},
   "source": [
    "Dependencies: keras-nightly==2.5.0.dev2021032900 PennyLane==0.17.0 StrawberryFields==0.18.0 tensorflow-2.4.0-cp38-cp38-macosx_10_9_x86_64.whl"
   ]
  },
  {
   "cell_type": "markdown",
   "id": "c2b1738d",
   "metadata": {},
   "source": [
    "# 6-qumode Classifier\n",
    "\n",
    "Classical layers using keras dense and quantum layers using Pennylane"
   ]
  },
  {
   "cell_type": "code",
   "execution_count": 1,
   "id": "417078e3",
   "metadata": {},
   "outputs": [],
   "source": [
    "import tensorflow as tf\n",
    "import tensorflow_datasets as tfds\n",
    "from tensorflow import keras\n",
    "from tensorflow.keras import layers\n",
    "\n",
    "import pennylane as qml\n",
    "import numpy as np\n",
    "\n",
    "import matplotlib.pyplot as plt"
   ]
  },
  {
   "cell_type": "markdown",
   "id": "f4286b6d",
   "metadata": {},
   "source": [
    "## 0. Loading data"
   ]
  },
  {
   "cell_type": "code",
   "execution_count": 2,
   "id": "9cb00f94",
   "metadata": {},
   "outputs": [],
   "source": [
    "mnist = keras.datasets.mnist\n",
    "\n",
    "# datasets are numpy.ndarrays\n",
    "(X_train, Y_train), (X_test, Y_test) = mnist.load_data()     \n",
    "\n",
    "# normalize the image data\n",
    "X_train, X_test = X_train / 255.0, X_test / 255.0"
   ]
  },
  {
   "cell_type": "markdown",
   "id": "45b4234d",
   "metadata": {},
   "source": [
    "With 6 qumodes and the 'probability' measurement method, the size of the output vectors will be cutoff dimension^6. Setting cutoff dimension = 2, we extract vectors of size 2^6 and view them as one-hot encoded labels. Hence we convert the original labels to vectors of size 2^6 by padding with zeros."
   ]
  },
  {
   "cell_type": "code",
   "execution_count": 3,
   "id": "e192f7c9",
   "metadata": {},
   "outputs": [],
   "source": [
    "def one_hot(labels):  \n",
    "       \n",
    "    depth = 2**6       # 2^6 = 64: 10 classes + 54 zeros for padding\n",
    "        \n",
    "    indices = labels.astype(np.int32)    \n",
    "    one_hot_labels = np.eye(depth)[indices].astype(np.float32) \n",
    "    \n",
    "    return one_hot_labels\n",
    "\n",
    "# one-hot encoded labels, each label of length cutoff dimension**2\n",
    "y_train, y_test = one_hot(Y_train), one_hot(Y_test)\n",
    "\n",
    "# using only 600 samples for training in this experiment\n",
    "n_samples = 600\n",
    "test_samples = 100\n",
    "X_train, X_test, y_train, y_test = X_train[:n_samples], X_test[:test_samples], y_train[:n_samples], y_test[:test_samples]"
   ]
  },
  {
   "cell_type": "markdown",
   "id": "962190b9",
   "metadata": {},
   "source": [
    "## 1. Classical circuit"
   ]
  },
  {
   "cell_type": "code",
   "execution_count": 4,
   "id": "c345bae0",
   "metadata": {},
   "outputs": [
    {
     "name": "stdout",
     "output_type": "stream",
     "text": [
      "Model: \"sequential\"\n",
      "_________________________________________________________________\n",
      "Layer (type)                 Output Shape              Param #   \n",
      "=================================================================\n",
      "flatten (Flatten)            (None, 784)               0         \n",
      "_________________________________________________________________\n",
      "dense (Dense)                (None, 128)               100480    \n",
      "_________________________________________________________________\n",
      "dense_1 (Dense)              (None, 72)                9288      \n",
      "_________________________________________________________________\n",
      "dense_2 (Dense)              (None, 46)                3358      \n",
      "=================================================================\n",
      "Total params: 113,126\n",
      "Trainable params: 113,126\n",
      "Non-trainable params: 0\n",
      "_________________________________________________________________\n"
     ]
    }
   ],
   "source": [
    "keras.backend.set_floatx('float32')\n",
    "\n",
    "model = keras.models.Sequential([\n",
    "                                 layers.Flatten(input_shape = (28,28)),\n",
    "                                 layers.Dense(128, activation =\"elu\"),\n",
    "                                 layers.Dense(72, activation =\"elu\"),\n",
    "                                 layers.Dense(46, activation =\"elu\"),\n",
    "                                ])\n",
    "\n",
    "# More than a million parameters for the classical circuit\n",
    "model.summary()"
   ]
  },
  {
   "cell_type": "markdown",
   "id": "0020079a",
   "metadata": {},
   "source": [
    "## 2. Quantum Data Encoding"
   ]
  },
  {
   "cell_type": "markdown",
   "id": "12ed671e",
   "metadata": {},
   "source": [
    "quantum state preparation by using the output of the classical network as parameters"
   ]
  },
  {
   "cell_type": "code",
   "execution_count": 5,
   "id": "de0894c2",
   "metadata": {},
   "outputs": [],
   "source": [
    "def encode_data(x):\n",
    "    qml.Squeezing(x[0], x[1], wires=0)\n",
    "    qml.Squeezing(x[2], x[3], wires=1)\n",
    "    qml.Squeezing(x[4], x[5], wires=2)\n",
    "    qml.Squeezing(x[6], x[7], wires=3)\n",
    "    qml.Squeezing(x[8], x[9], wires=4)  \n",
    "    qml.Squeezing(x[10], x[11], wires=5) \n",
    "    \n",
    "    qml.Beamsplitter(x[12], x[13], wires=[0,1])\n",
    "    qml.Beamsplitter(x[14], x[15], wires=[1,2])\n",
    "    qml.Beamsplitter(x[16], x[17], wires=[2,3])\n",
    "    qml.Beamsplitter(x[18], x[19], wires=[3,4])    \n",
    "    qml.Beamsplitter(x[20], x[21], wires=[4,5]) \n",
    "    \n",
    "    qml.Rotation(x[22], wires=0)\n",
    "    qml.Rotation(x[23], wires=1)\n",
    "    qml.Rotation(x[24], wires=2)\n",
    "    qml.Rotation(x[25], wires=3)\n",
    "    qml.Rotation(x[26], wires=4)\n",
    "    qml.Rotation(x[27], wires=5)\n",
    "   \n",
    "    qml.Displacement(x[28], x[29], wires=0)   \n",
    "    qml.Displacement(x[30], x[31], wires=1)\n",
    "    qml.Displacement(x[32], x[33], wires=2)\n",
    "    qml.Displacement(x[34], x[35], wires=3)\n",
    "    qml.Displacement(x[36], x[37], wires=4)\n",
    "    qml.Displacement(x[38], x[39], wires=5)    \n",
    " \n",
    "    qml.Kerr(x[40], wires=0)\n",
    "    qml.Kerr(x[41], wires=1)\n",
    "    qml.Kerr(x[42], wires=2)\n",
    "    qml.Kerr(x[43], wires=3)\n",
    "    qml.Kerr(x[44], wires=4)\n",
    "    qml.Kerr(x[45], wires=5)    "
   ]
  },
  {
   "cell_type": "markdown",
   "id": "d312ee89",
   "metadata": {},
   "source": [
    "## 3. Quantum neural network"
   ]
  },
  {
   "cell_type": "code",
   "execution_count": 6,
   "id": "9e2f0cfd",
   "metadata": {},
   "outputs": [],
   "source": [
    "def layer(v):\n",
    "    # Interferometer 1\n",
    "    qml.Beamsplitter(v[0], v[1], wires=[0,1])\n",
    "    qml.Beamsplitter(v[2], v[3], wires=[1,2])\n",
    "    qml.Beamsplitter(v[4], v[5], wires=[2,3])\n",
    "    qml.Beamsplitter(v[6], v[7], wires=[3,4])    \n",
    "    qml.Beamsplitter(v[8], v[9], wires=[4,5])    \n",
    "\n",
    "    qml.Rotation(v[10], wires=0)\n",
    "    qml.Rotation(v[11], wires=1)\n",
    "    qml.Rotation(v[12], wires=2)\n",
    "    qml.Rotation(v[13], wires=3)\n",
    "    qml.Rotation(v[14], wires=4)\n",
    "    qml.Rotation(v[15], wires=5)\n",
    "    \n",
    "    # Squeezers\n",
    "    qml.Squeezing(v[16], 0.0, wires=0)\n",
    "    qml.Squeezing(v[17], 0.0, wires=1)\n",
    "    qml.Squeezing(v[18], 0.0, wires=2)\n",
    "    qml.Squeezing(v[19], 0.0, wires=3)\n",
    "    qml.Squeezing(v[20], 0.0, wires=4)\n",
    "    qml.Squeezing(v[21], 0.0, wires=5)\n",
    "    \n",
    "    # Interferometer 2\n",
    "    qml.Beamsplitter(v[22], v[23], wires=[0,1])    \n",
    "    qml.Beamsplitter(v[24], v[25], wires=[1,2])\n",
    "    qml.Beamsplitter(v[26], v[27], wires=[2,3])\n",
    "    qml.Beamsplitter(v[28], v[29], wires=[3,4])\n",
    "    qml.Beamsplitter(v[30], v[31], wires=[4,5])\n",
    "\n",
    "    qml.Rotation(v[32], wires=0)\n",
    "    qml.Rotation(v[33], wires=1)\n",
    "    qml.Rotation(v[34], wires=2)\n",
    "    qml.Rotation(v[35], wires=3)\n",
    "    qml.Rotation(v[36], wires=4)    \n",
    "    qml.Rotation(v[37], wires=5)    \n",
    "\n",
    "    # Bias addition\n",
    "    qml.Displacement(v[38], 0.0, wires=0)\n",
    "    qml.Displacement(v[39], 0.0, wires=1)\n",
    "    qml.Displacement(v[40], 0.0, wires=2)\n",
    "    qml.Displacement(v[41], 0.0, wires=3)\n",
    "    qml.Displacement(v[42], 0.0, wires=4)\n",
    "    qml.Displacement(v[43], 0.0, wires=5)    \n",
    "\n",
    "    # Non-linear activation function\n",
    "    qml.Kerr(v[44], wires=0)\n",
    "    qml.Kerr(v[45], wires=1)\n",
    "    qml.Kerr(v[46], wires=2)\n",
    "    qml.Kerr(v[47], wires=3)\n",
    "    qml.Kerr(v[48], wires=4)\n",
    "    qml.Kerr(v[49], wires=5)    \n",
    "    "
   ]
  },
  {
   "cell_type": "markdown",
   "id": "c6bb2d17",
   "metadata": {},
   "source": [
    "## 4. Parameter initialization"
   ]
  },
  {
   "cell_type": "markdown",
   "id": "4303f210",
   "metadata": {},
   "source": [
    "Initialize parameters for the quantum layers: number of layers x number of parameters needed for all the gates"
   ]
  },
  {
   "cell_type": "code",
   "execution_count": 7,
   "id": "76a5d56d",
   "metadata": {},
   "outputs": [],
   "source": [
    "def init_weights(layers, modes, active_sd=0.0001, passive_sd=0.1):\n",
    "    \n",
    "    M = 10+6  # Number of interferometer parameters: 5 2-parameter beamsplitters + 6 rotations\n",
    "\n",
    "    int1_weights = tf.random.normal(shape=[layers, M], stddev=passive_sd)\n",
    "    s_weights = tf.random.normal(shape=[layers, modes], stddev=active_sd)\n",
    "    int2_weights = tf.random.normal(shape=[layers, M], stddev=passive_sd)\n",
    "    dr_weights = tf.random.normal(shape=[layers, modes], stddev=active_sd)\n",
    "    k_weights = tf.random.normal(shape=[layers, modes], stddev=active_sd)\n",
    "\n",
    "    weights = tf.concat([int1_weights, s_weights, int2_weights, dr_weights, k_weights], axis=1)\n",
    "    weights = tf.Variable(weights)\n",
    "\n",
    "    return weights"
   ]
  },
  {
   "cell_type": "markdown",
   "id": "03995bea",
   "metadata": {},
   "source": [
    "## 5. Quantum device"
   ]
  },
  {
   "cell_type": "code",
   "execution_count": 8,
   "id": "9140fd3d",
   "metadata": {},
   "outputs": [],
   "source": [
    "num_modes = 6\n",
    "cutoff_dim = 2\n",
    "\n",
    "# select a devide \n",
    "dev = qml.device(\"strawberryfields.fock\", wires=num_modes, cutoff_dim=cutoff_dim) \n",
    "\n",
    "@qml.qnode(dev, interface=\"tf\")\n",
    "def quantum_nn(inputs, var):\n",
    "    # Encode input x into quantum state\n",
    "    encode_data(inputs)\n",
    "\n",
    "    # iterative quantum layers\n",
    "    for v in var:\n",
    "        layer(v)\n",
    "\n",
    "    return qml.probs(wires=[0, 1, 2, 3, 4, 5])"
   ]
  },
  {
   "cell_type": "markdown",
   "id": "2594cfb1",
   "metadata": {},
   "source": [
    "## 6. Quantum device"
   ]
  },
  {
   "cell_type": "code",
   "execution_count": 9,
   "id": "bb3d72be",
   "metadata": {},
   "outputs": [],
   "source": [
    "num_layers = 4\n",
    "\n",
    "# initialize weights for quantum layers\n",
    "weights = init_weights(num_layers, num_modes)\n",
    "\n",
    "# convert the quantum layer to a Keras layer\n",
    "shape_tup = weights.shape\n",
    "weight_shapes = {'var': shape_tup}\n",
    "qlayer = qml.qnn.KerasLayer(quantum_nn, weight_shapes, output_dim = 4)\n",
    "\n",
    "# add to the classical sequential model\n",
    "model.add(qlayer)"
   ]
  },
  {
   "cell_type": "markdown",
   "id": "eca3a6a8",
   "metadata": {},
   "source": [
    "## 7. Loss function and optimizer"
   ]
  },
  {
   "cell_type": "code",
   "execution_count": 10,
   "id": "c097d4b9",
   "metadata": {},
   "outputs": [],
   "source": [
    "opt = keras.optimizers.SGD(lr = 0.02)\n",
    "model.compile(opt, loss = 'categorical_crossentropy', metrics =['accuracy'])"
   ]
  },
  {
   "cell_type": "markdown",
   "id": "f5adee51",
   "metadata": {},
   "source": [
    "## 8. Training"
   ]
  },
  {
   "cell_type": "code",
   "execution_count": 11,
   "id": "44b23d51",
   "metadata": {},
   "outputs": [
    {
     "name": "stdout",
     "output_type": "stream",
     "text": [
      "Epoch 1/100\n",
      "10/10 [==============================] - 8357s 859s/step - loss: 3.7070 - accuracy: 0.1383 - val_loss: 2.2152 - val_accuracy: 0.3700\n",
      "Epoch 2/100\n",
      "10/10 [==============================] - 6072s 604s/step - loss: 2.2122 - accuracy: 0.3447 - val_loss: 1.9604 - val_accuracy: 0.4800\n",
      "Epoch 3/100\n",
      "10/10 [==============================] - 12431s 1316s/step - loss: 1.9008 - accuracy: 0.4466 - val_loss: 1.9859 - val_accuracy: 0.4600\n",
      "Epoch 4/100\n",
      "10/10 [==============================] - 11804s 1149s/step - loss: 1.7283 - accuracy: 0.5281 - val_loss: 1.8944 - val_accuracy: 0.5100\n",
      "Epoch 5/100\n",
      "10/10 [==============================] - 5996s 591s/step - loss: 1.6630 - accuracy: 0.5632 - val_loss: 1.7507 - val_accuracy: 0.5000\n",
      "Epoch 6/100\n",
      "10/10 [==============================] - 5508s 544s/step - loss: 1.4991 - accuracy: 0.5966 - val_loss: 1.6667 - val_accuracy: 0.5400\n",
      "Epoch 7/100\n",
      "10/10 [==============================] - 5357s 532s/step - loss: 1.4138 - accuracy: 0.6409 - val_loss: 1.6754 - val_accuracy: 0.5000\n",
      "Epoch 8/100\n",
      "10/10 [==============================] - 5373s 534s/step - loss: 1.3628 - accuracy: 0.6584 - val_loss: 1.5785 - val_accuracy: 0.5400\n",
      "Epoch 9/100\n",
      "10/10 [==============================] - 5379s 534s/step - loss: 1.2714 - accuracy: 0.6717 - val_loss: 1.4493 - val_accuracy: 0.6300\n",
      "Epoch 10/100\n",
      "10/10 [==============================] - 5412s 538s/step - loss: 1.2216 - accuracy: 0.7203 - val_loss: 1.5629 - val_accuracy: 0.5800\n",
      "Epoch 11/100\n",
      "10/10 [==============================] - 21159s 2287s/step - loss: 1.1709 - accuracy: 0.6985 - val_loss: 1.4161 - val_accuracy: 0.6100\n",
      "Epoch 12/100\n",
      "10/10 [==============================] - 6835s 681s/step - loss: 1.0747 - accuracy: 0.7303 - val_loss: 1.4182 - val_accuracy: 0.6000\n",
      "Epoch 13/100\n",
      "10/10 [==============================] - 8875s 924s/step - loss: 1.0304 - accuracy: 0.7587 - val_loss: 1.4104 - val_accuracy: 0.5900\n",
      "Epoch 14/100\n",
      "10/10 [==============================] - 15849s 1672s/step - loss: 1.0365 - accuracy: 0.7553 - val_loss: 1.3320 - val_accuracy: 0.6000\n",
      "Epoch 15/100\n",
      "10/10 [==============================] - 30025s 3266s/step - loss: 1.0114 - accuracy: 0.7591 - val_loss: 1.3595 - val_accuracy: 0.6600\n",
      "Epoch 16/100\n",
      "10/10 [==============================] - 19922s 2137s/step - loss: 0.9562 - accuracy: 0.7652 - val_loss: 1.3310 - val_accuracy: 0.6400\n",
      "Epoch 17/100\n",
      "10/10 [==============================] - 8558s 690s/step - loss: 0.9503 - accuracy: 0.7624 - val_loss: 1.3096 - val_accuracy: 0.6000\n",
      "Epoch 18/100\n",
      "10/10 [==============================] - 6541s 656s/step - loss: 0.9064 - accuracy: 0.7830 - val_loss: 1.2335 - val_accuracy: 0.6400\n",
      "Epoch 19/100\n",
      "10/10 [==============================] - 8605s 885s/step - loss: 0.8627 - accuracy: 0.8008 - val_loss: 1.2373 - val_accuracy: 0.6300\n",
      "Epoch 20/100\n",
      "10/10 [==============================] - 5984s 594s/step - loss: 0.8336 - accuracy: 0.8074 - val_loss: 1.2933 - val_accuracy: 0.6300\n",
      "Epoch 21/100\n",
      "10/10 [==============================] - 43558s 4771s/step - loss: 0.8114 - accuracy: 0.8130 - val_loss: 1.2050 - val_accuracy: 0.6400\n",
      "Epoch 22/100\n",
      "10/10 [==============================] - 12896s 1154s/step - loss: 0.7747 - accuracy: 0.8224 - val_loss: 1.2095 - val_accuracy: 0.6100\n",
      "Epoch 23/100\n",
      "10/10 [==============================] - 7481s 752s/step - loss: 0.7546 - accuracy: 0.8257 - val_loss: 1.1905 - val_accuracy: 0.6200\n",
      "Epoch 24/100\n",
      "10/10 [==============================] - 8617s 883s/step - loss: 0.7538 - accuracy: 0.8306 - val_loss: 1.1696 - val_accuracy: 0.6100\n",
      "Epoch 25/100\n",
      "10/10 [==============================] - 8462s 839s/step - loss: 0.7472 - accuracy: 0.8275 - val_loss: 1.1882 - val_accuracy: 0.6400\n",
      "Epoch 26/100\n",
      "10/10 [==============================] - 48157s 5284s/step - loss: 0.7240 - accuracy: 0.8580 - val_loss: 1.1707 - val_accuracy: 0.6100\n",
      "Epoch 27/100\n",
      "10/10 [==============================] - 12269s 1020s/step - loss: 0.6801 - accuracy: 0.8432 - val_loss: 1.1984 - val_accuracy: 0.6400\n",
      "Epoch 28/100\n",
      "10/10 [==============================] - 8164s 839s/step - loss: 0.6495 - accuracy: 0.8577 - val_loss: 1.1807 - val_accuracy: 0.6400\n",
      "Epoch 29/100\n",
      "10/10 [==============================] - 13847s 1388s/step - loss: 0.6634 - accuracy: 0.8462 - val_loss: 1.1699 - val_accuracy: 0.6200\n",
      "Epoch 30/100\n",
      "10/10 [==============================] - 7968s 796s/step - loss: 0.6650 - accuracy: 0.8488 - val_loss: 1.1440 - val_accuracy: 0.6300\n",
      "Epoch 31/100\n",
      "10/10 [==============================] - 11964s 1251s/step - loss: 0.6023 - accuracy: 0.8762 - val_loss: 1.1715 - val_accuracy: 0.6300\n",
      "Epoch 32/100\n",
      "10/10 [==============================] - 6749s 671s/step - loss: 0.6034 - accuracy: 0.8696 - val_loss: 1.1769 - val_accuracy: 0.5900\n",
      "Epoch 33/100\n",
      "10/10 [==============================] - 5757s 570s/step - loss: 0.6120 - accuracy: 0.8623 - val_loss: 1.1411 - val_accuracy: 0.6400\n",
      "Epoch 34/100\n",
      "10/10 [==============================] - 5751s 571s/step - loss: 0.5705 - accuracy: 0.8909 - val_loss: 1.1918 - val_accuracy: 0.6000\n",
      "Epoch 35/100\n",
      "10/10 [==============================] - 5708s 566s/step - loss: 0.6224 - accuracy: 0.8621 - val_loss: 1.1293 - val_accuracy: 0.6700\n",
      "Epoch 36/100\n",
      "10/10 [==============================] - 5543s 548s/step - loss: 0.5477 - accuracy: 0.8855 - val_loss: 1.1792 - val_accuracy: 0.6100\n",
      "Epoch 37/100\n",
      "10/10 [==============================] - 12524s 1328s/step - loss: 0.6119 - accuracy: 0.8605 - val_loss: 1.1645 - val_accuracy: 0.6400\n",
      "Epoch 38/100\n",
      "10/10 [==============================] - 13014s 1385s/step - loss: 0.5505 - accuracy: 0.8856 - val_loss: 1.1315 - val_accuracy: 0.6800\n",
      "Epoch 39/100\n",
      "10/10 [==============================] - 16158s 1578s/step - loss: 0.5092 - accuracy: 0.9094 - val_loss: 1.1253 - val_accuracy: 0.6500\n",
      "Epoch 40/100\n",
      "10/10 [==============================] - 12296s 1298s/step - loss: 0.5270 - accuracy: 0.8894 - val_loss: 1.1197 - val_accuracy: 0.6300\n",
      "Epoch 41/100\n",
      "10/10 [==============================] - 7019s 699s/step - loss: 0.5392 - accuracy: 0.8814 - val_loss: 1.1327 - val_accuracy: 0.6300\n",
      "Epoch 42/100\n",
      "10/10 [==============================] - 41285s 4510s/step - loss: 0.4767 - accuracy: 0.9148 - val_loss: 1.1239 - val_accuracy: 0.6500\n",
      "Epoch 43/100\n",
      "10/10 [==============================] - 14288s 1517s/step - loss: 0.5013 - accuracy: 0.9200 - val_loss: 1.1026 - val_accuracy: 0.6400\n",
      "Epoch 44/100\n",
      "10/10 [==============================] - 11387s 1193s/step - loss: 0.4806 - accuracy: 0.9177 - val_loss: 1.1436 - val_accuracy: 0.6700\n",
      "Epoch 45/100\n",
      "10/10 [==============================] - 31770s 2854s/step - loss: 0.4756 - accuracy: 0.9047 - val_loss: 1.2053 - val_accuracy: 0.6700\n",
      "Epoch 46/100\n",
      "10/10 [==============================] - 20308s 2178s/step - loss: 0.4619 - accuracy: 0.9126 - val_loss: 1.1893 - val_accuracy: 0.6600\n",
      "Epoch 47/100\n",
      "10/10 [==============================] - 6865s 609s/step - loss: 0.4334 - accuracy: 0.9380 - val_loss: 1.1217 - val_accuracy: 0.6800\n",
      "Epoch 48/100\n",
      "10/10 [==============================] - 11413s 1116s/step - loss: 0.4136 - accuracy: 0.9363 - val_loss: 1.0985 - val_accuracy: 0.6800\n",
      "Epoch 49/100\n",
      "10/10 [==============================] - 10147s 1054s/step - loss: 0.4765 - accuracy: 0.9189 - val_loss: 1.1731 - val_accuracy: 0.6700\n",
      "Epoch 50/100\n",
      "10/10 [==============================] - 41579s 3810s/step - loss: 0.4199 - accuracy: 0.9382 - val_loss: 1.0875 - val_accuracy: 0.6600\n",
      "Epoch 51/100\n",
      "10/10 [==============================] - 24663s 2674s/step - loss: 0.4488 - accuracy: 0.9198 - val_loss: 1.1010 - val_accuracy: 0.6600\n",
      "Epoch 52/100\n",
      "10/10 [==============================] - 9281s 968s/step - loss: 0.4092 - accuracy: 0.9215 - val_loss: 1.1174 - val_accuracy: 0.6800\n",
      "Epoch 53/100\n",
      "10/10 [==============================] - 17275s 1845s/step - loss: 0.4160 - accuracy: 0.9381 - val_loss: 1.2330 - val_accuracy: 0.6300\n",
      "Epoch 54/100\n",
      "10/10 [==============================] - 49686s 5448s/step - loss: 0.4153 - accuracy: 0.9445 - val_loss: 1.0959 - val_accuracy: 0.6700\n",
      "Epoch 55/100\n",
      "10/10 [==============================] - 9014s 937s/step - loss: 0.4013 - accuracy: 0.9351 - val_loss: 1.0987 - val_accuracy: 0.6900\n",
      "Epoch 56/100\n",
      "10/10 [==============================] - 14973s 1547s/step - loss: 0.3575 - accuracy: 0.9556 - val_loss: 1.1405 - val_accuracy: 0.6700\n"
     ]
    },
    {
     "name": "stdout",
     "output_type": "stream",
     "text": [
      "Epoch 57/100\n",
      "10/10 [==============================] - 11317s 1190s/step - loss: 0.4525 - accuracy: 0.9189 - val_loss: 1.2150 - val_accuracy: 0.6800\n",
      "Epoch 58/100\n",
      "10/10 [==============================] - 13054s 1233s/step - loss: 0.3945 - accuracy: 0.9293 - val_loss: 1.1198 - val_accuracy: 0.6800\n",
      "Epoch 59/100\n",
      "10/10 [==============================] - 36450s 3973s/step - loss: 0.3795 - accuracy: 0.9445 - val_loss: 1.0592 - val_accuracy: 0.7100\n",
      "Epoch 60/100\n",
      "10/10 [==============================] - 11047s 1158s/step - loss: 0.3818 - accuracy: 0.9422 - val_loss: 1.1002 - val_accuracy: 0.6700\n",
      "Epoch 61/100\n",
      "10/10 [==============================] - 5842s 575s/step - loss: 0.3631 - accuracy: 0.9496 - val_loss: 1.1496 - val_accuracy: 0.6700\n",
      "Epoch 62/100\n",
      "10/10 [==============================] - 5901s 590s/step - loss: 0.3542 - accuracy: 0.9565 - val_loss: 1.2038 - val_accuracy: 0.7000\n",
      "Epoch 63/100\n",
      "10/10 [==============================] - 5873s 584s/step - loss: 0.3886 - accuracy: 0.9418 - val_loss: 1.0935 - val_accuracy: 0.6700\n",
      "Epoch 64/100\n",
      "10/10 [==============================] - 6055s 599s/step - loss: 0.3314 - accuracy: 0.9583 - val_loss: 1.1239 - val_accuracy: 0.6800\n",
      "Epoch 65/100\n",
      "10/10 [==============================] - 6214s 624s/step - loss: 0.3343 - accuracy: 0.9645 - val_loss: 1.0852 - val_accuracy: 0.6800\n",
      "Epoch 66/100\n",
      "10/10 [==============================] - 6086s 603s/step - loss: 0.3389 - accuracy: 0.9484 - val_loss: 1.1391 - val_accuracy: 0.6700\n",
      "Epoch 67/100\n",
      "10/10 [==============================] - 6403s 636s/step - loss: 0.3336 - accuracy: 0.9410 - val_loss: 1.1135 - val_accuracy: 0.6800\n",
      "Epoch 68/100\n",
      "10/10 [==============================] - 6321s 623s/step - loss: 0.3153 - accuracy: 0.9698 - val_loss: 1.1200 - val_accuracy: 0.6500\n",
      "Epoch 69/100\n",
      "10/10 [==============================] - 5780s 574s/step - loss: 0.3125 - accuracy: 0.9713 - val_loss: 1.1937 - val_accuracy: 0.6800\n",
      "Epoch 70/100\n",
      "10/10 [==============================] - 30343s 2775s/step - loss: 0.3243 - accuracy: 0.9538 - val_loss: 1.0500 - val_accuracy: 0.6900\n",
      "Epoch 71/100\n",
      "10/10 [==============================] - 7873s 802s/step - loss: 0.3440 - accuracy: 0.9617 - val_loss: 1.1571 - val_accuracy: 0.6500\n",
      "Epoch 72/100\n",
      "10/10 [==============================] - 6307s 638s/step - loss: 0.3480 - accuracy: 0.9422 - val_loss: 1.1169 - val_accuracy: 0.6500\n",
      "Epoch 73/100\n",
      "10/10 [==============================] - 7476s 757s/step - loss: 0.3207 - accuracy: 0.9595 - val_loss: 1.0666 - val_accuracy: 0.7100\n",
      "Epoch 74/100\n",
      "10/10 [==============================] - 8050s 823s/step - loss: 0.2850 - accuracy: 0.9752 - val_loss: 1.0894 - val_accuracy: 0.6900\n",
      "Epoch 75/100\n",
      "10/10 [==============================] - 7725s 794s/step - loss: 0.2810 - accuracy: 0.9706 - val_loss: 1.0770 - val_accuracy: 0.6900\n",
      "Epoch 76/100\n",
      "10/10 [==============================] - 6358s 631s/step - loss: 0.2824 - accuracy: 0.9765 - val_loss: 1.1213 - val_accuracy: 0.6600\n",
      "Epoch 77/100\n",
      "10/10 [==============================] - 5797s 576s/step - loss: 0.2875 - accuracy: 0.9689 - val_loss: 1.1042 - val_accuracy: 0.6800\n",
      "Epoch 78/100\n",
      "10/10 [==============================] - 32701s 3564s/step - loss: 0.2651 - accuracy: 0.9684 - val_loss: 1.0998 - val_accuracy: 0.6800\n",
      "Epoch 79/100\n",
      "10/10 [==============================] - 11536s 946s/step - loss: 0.3001 - accuracy: 0.9692 - val_loss: 1.0490 - val_accuracy: 0.7000\n",
      "Epoch 80/100\n",
      "10/10 [==============================] - 7051s 705s/step - loss: 0.2589 - accuracy: 0.9780 - val_loss: 1.1210 - val_accuracy: 0.6700\n",
      "Epoch 81/100\n",
      "10/10 [==============================] - 9020s 908s/step - loss: 0.2806 - accuracy: 0.9712 - val_loss: 1.0606 - val_accuracy: 0.6900\n",
      "Epoch 82/100\n",
      "10/10 [==============================] - 13120s 1375s/step - loss: 0.2431 - accuracy: 0.9759 - val_loss: 1.0556 - val_accuracy: 0.7000\n",
      "Epoch 83/100\n",
      "10/10 [==============================] - 7294s 737s/step - loss: 0.2451 - accuracy: 0.9753 - val_loss: 1.0931 - val_accuracy: 0.6600\n",
      "Epoch 84/100\n",
      "10/10 [==============================] - 5894s 577s/step - loss: 0.2661 - accuracy: 0.9682 - val_loss: 1.0598 - val_accuracy: 0.6900\n",
      "Epoch 85/100\n",
      "10/10 [==============================] - 5726s 568s/step - loss: 0.2459 - accuracy: 0.9852 - val_loss: 1.0776 - val_accuracy: 0.6800\n",
      "Epoch 86/100\n",
      "10/10 [==============================] - 5674s 563s/step - loss: 0.2588 - accuracy: 0.9664 - val_loss: 1.0852 - val_accuracy: 0.6900\n",
      "Epoch 87/100\n",
      "10/10 [==============================] - 5642s 560s/step - loss: 0.2421 - accuracy: 0.9828 - val_loss: 1.0842 - val_accuracy: 0.7000\n",
      "Epoch 88/100\n",
      "10/10 [==============================] - 5671s 564s/step - loss: 0.2974 - accuracy: 0.9606 - val_loss: 1.0586 - val_accuracy: 0.6900\n",
      "Epoch 89/100\n",
      "10/10 [==============================] - 7704s 788s/step - loss: 0.2486 - accuracy: 0.9704 - val_loss: 1.0483 - val_accuracy: 0.6900\n",
      "Epoch 90/100\n",
      "10/10 [==============================] - 10633s 1060s/step - loss: 0.2115 - accuracy: 0.9883 - val_loss: 1.0543 - val_accuracy: 0.6900\n",
      "Epoch 91/100\n",
      "10/10 [==============================] - 7512s 771s/step - loss: 0.2156 - accuracy: 0.9810 - val_loss: 1.0427 - val_accuracy: 0.7000\n",
      "Epoch 92/100\n",
      "10/10 [==============================] - 7127s 720s/step - loss: 0.2232 - accuracy: 0.9818 - val_loss: 1.0397 - val_accuracy: 0.7100\n",
      "Epoch 93/100\n",
      "10/10 [==============================] - 12912s 1359s/step - loss: 0.2157 - accuracy: 0.9798 - val_loss: 1.0381 - val_accuracy: 0.6900\n",
      "Epoch 94/100\n",
      "10/10 [==============================] - 6586s 661s/step - loss: 0.2294 - accuracy: 0.9763 - val_loss: 1.0701 - val_accuracy: 0.7000\n",
      "Epoch 95/100\n",
      "10/10 [==============================] - 7259s 618s/step - loss: 0.2250 - accuracy: 0.9848 - val_loss: 1.0847 - val_accuracy: 0.7200\n",
      "Epoch 96/100\n",
      "10/10 [==============================] - 6624s 666s/step - loss: 0.2252 - accuracy: 0.9746 - val_loss: 0.9981 - val_accuracy: 0.7100\n",
      "Epoch 97/100\n",
      "10/10 [==============================] - 38217s 4181s/step - loss: 0.2184 - accuracy: 0.9807 - val_loss: 1.0213 - val_accuracy: 0.7000\n",
      "Epoch 98/100\n",
      "10/10 [==============================] - 8767s 904s/step - loss: 0.1964 - accuracy: 0.9834 - val_loss: 1.0304 - val_accuracy: 0.7000\n",
      "Epoch 99/100\n",
      "10/10 [==============================] - 8733s 847s/step - loss: 0.2077 - accuracy: 0.9842 - val_loss: 1.0237 - val_accuracy: 0.7100\n",
      "Epoch 100/100\n",
      "10/10 [==============================] - 5963s 591s/step - loss: 0.2055 - accuracy: 0.9822 - val_loss: 1.0424 - val_accuracy: 0.7200\n"
     ]
    }
   ],
   "source": [
    "hybrid = model.fit(X_train, \n",
    "                   y_train,\n",
    "                   epochs = 100,\n",
    "                   batch_size = 64,\n",
    "                   shuffle = True, \n",
    "                   validation_data = (X_test, y_test))"
   ]
  },
  {
   "cell_type": "code",
   "execution_count": 12,
   "id": "c8d46325",
   "metadata": {},
   "outputs": [
    {
     "name": "stdout",
     "output_type": "stream",
     "text": [
      "Model: \"sequential\"\n",
      "_________________________________________________________________\n",
      "Layer (type)                 Output Shape              Param #   \n",
      "=================================================================\n",
      "flatten (Flatten)            (None, 784)               0         \n",
      "_________________________________________________________________\n",
      "dense (Dense)                (None, 128)               100480    \n",
      "_________________________________________________________________\n",
      "dense_1 (Dense)              (None, 72)                9288      \n",
      "_________________________________________________________________\n",
      "dense_2 (Dense)              (None, 46)                3358      \n",
      "_________________________________________________________________\n",
      "keras_layer (KerasLayer)     (None, 4)                 200       \n",
      "=================================================================\n",
      "Total params: 113,326\n",
      "Trainable params: 113,326\n",
      "Non-trainable params: 0\n",
      "_________________________________________________________________\n"
     ]
    }
   ],
   "source": [
    "model.summary()"
   ]
  },
  {
   "cell_type": "markdown",
   "id": "3c7d39a1",
   "metadata": {},
   "source": [
    "## 9. Loss and accuracy graphs"
   ]
  },
  {
   "cell_type": "code",
   "execution_count": 13,
   "id": "cfd7c39c",
   "metadata": {},
   "outputs": [
    {
     "data": {
      "image/png": "[encoded data removed]",
      "text/plain": [
       "<Figure size 640x480 with 1 Axes>"
      ]
     },
     "metadata": {},
     "output_type": "display_data"
    }
   ],
   "source": [
    "# ===================================================================================\n",
    "#                                  Loss History Plot\n",
    "# ===================================================================================\n",
    "\n",
    "plt.title('model loss')\n",
    "plt.plot(hybrid.history['loss'], '-g')\n",
    "plt.xlabel('epoch')\n",
    "plt.ylabel('loss')\n",
    "plt.show()"
   ]
  },
  {
   "cell_type": "code",
   "execution_count": 14,
   "id": "cc6435a2",
   "metadata": {},
   "outputs": [
    {
     "data": {
      "image/png": "[encoded data removed]",
      "text/plain": [
       "<Figure size 640x480 with 1 Axes>"
      ]
     },
     "metadata": {},
     "output_type": "display_data"
    }
   ],
   "source": [
    "# ===================================================================================\n",
    "#                                Accuracy History Plot\n",
    "# ===================================================================================\n",
    "\n",
    "plt.title('model accuracy')\n",
    "plt.plot(hybrid.history['accuracy'], '-g')\n",
    "plt.ylabel('accuracy')\n",
    "plt.show()"
   ]
  }
 ],
 "metadata": {
  "kernelspec": {
   "display_name": "Python 3",
   "language": "python",
   "name": "python3"
  },
  "language_info": {
   "codemirror_mode": {
    "name": "ipython",
    "version": 3
   },
   "file_extension": ".py",
   "mimetype": "text/x-python",
   "name": "python",
   "nbconvert_exporter": "python",
   "pygments_lexer": "ipython3",
   "version": "3.8.5"
  }
 },
 "nbformat": 4,
 "nbformat_minor": 5
}
