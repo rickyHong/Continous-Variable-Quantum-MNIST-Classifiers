{
 "cells": [
  {
   "cell_type": "markdown",
   "id": "5e35f1e0",
   "metadata": {},
   "source": [
    "### Author: Sophie Choe "
   ]
  },
  {
   "cell_type": "markdown",
   "id": "91af41cb",
   "metadata": {},
   "source": [
    "#### Portland State University, Electrical and Computer Engineering\n",
    "February 2022"
   ]
  },
  {
   "cell_type": "markdown",
   "id": "c957c997",
   "metadata": {},
   "source": [
    "Dependencies: keras-nightly==2.5.0.dev2021032900 PennyLane==0.17.0 StrawberryFields==0.18.0 tensorflow-2.4.0-cp38-cp38-macosx_10_9_x86_64.whl"
   ]
  },
  {
   "cell_type": "markdown",
   "id": "c2b1738d",
   "metadata": {},
   "source": [
    "# 2-qumode classifier\n",
    "\n",
    "Classical layers using keras dense and quantum layers using Pennylane"
   ]
  },
  {
   "cell_type": "code",
   "execution_count": 1,
   "id": "417078e3",
   "metadata": {},
   "outputs": [],
   "source": [
    "import tensorflow as tf\n",
    "import tensorflow_datasets as tfds\n",
    "from tensorflow import keras\n",
    "from tensorflow.keras import layers\n",
    "\n",
    "import pennylane as qml\n",
    "import numpy as np\n",
    "\n",
    "import matplotlib.pyplot as plt"
   ]
  },
  {
   "cell_type": "markdown",
   "id": "81f17ea7",
   "metadata": {},
   "source": [
    "## 0. Loading data"
   ]
  },
  {
   "cell_type": "code",
   "execution_count": 2,
   "id": "551f4004",
   "metadata": {},
   "outputs": [],
   "source": [
    "mnist = keras.datasets.mnist\n",
    "\n",
    "# datasets are numpy.ndarrays\n",
    "(X_train, Y_train), (X_test, Y_test) = mnist.load_data()     \n",
    "\n",
    "# normalize the pixels from 0 ~ 225 to 0 ~ 1 \n",
    "X_train, X_test = X_train / 255.0, X_test / 255.0"
   ]
  },
  {
   "cell_type": "markdown",
   "id": "a6f3e45c",
   "metadata": {},
   "source": [
    "One hot encoding the labels. We want the labels to be of length cutoff_dim^(num_modes), hence pad with 6 zeros."
   ]
  },
  {
   "cell_type": "code",
   "execution_count": 3,
   "id": "abd9ff1d",
   "metadata": {},
   "outputs": [],
   "source": [
    "def one_hot(labels):  \n",
    "       \n",
    "    depth =  4**2                       # 10 classes + 6 zeros for padding\n",
    "    indices = labels.astype(np.int32)    \n",
    "    one_hot_labels = np.eye(depth)[indices].astype(np.float32) \n",
    "    \n",
    "    return one_hot_labels\n",
    "\n",
    "# one-hot encoded labels, each label of length cutoff dimension**2\n",
    "y_train, y_test = one_hot(Y_train), one_hot(Y_test)\n",
    "\n",
    "# using only 600 samples for training in this experiment\n",
    "n_samples = 600\n",
    "test_samples = 100\n",
    "X_train, X_test, y_train, y_test = X_train[:n_samples], X_test[:test_samples], y_train[:n_samples], y_test[:test_samples]"
   ]
  },
  {
   "cell_type": "markdown",
   "id": "9123e346",
   "metadata": {},
   "source": [
    "## 1. Classical circuit"
   ]
  },
  {
   "cell_type": "markdown",
   "id": "aa4db275",
   "metadata": {},
   "source": [
    "Define classical layers using Keras Sequential. Take in 28x28 image matrices, flatten, and output vectors of length 14. 3 hidden layers with ELU activation."
   ]
  },
  {
   "cell_type": "code",
   "execution_count": 4,
   "id": "c345bae0",
   "metadata": {},
   "outputs": [
    {
     "name": "stdout",
     "output_type": "stream",
     "text": [
      "Model: \"sequential\"\n",
      "_________________________________________________________________\n",
      "Layer (type)                 Output Shape              Param #   \n",
      "=================================================================\n",
      "flatten (Flatten)            (None, 784)               0         \n",
      "_________________________________________________________________\n",
      "dense (Dense)                (None, 128)               100480    \n",
      "_________________________________________________________________\n",
      "dense_1 (Dense)              (None, 64)                8256      \n",
      "_________________________________________________________________\n",
      "dense_2 (Dense)              (None, 32)                2080      \n",
      "_________________________________________________________________\n",
      "dense_3 (Dense)              (None, 14)                462       \n",
      "=================================================================\n",
      "Total params: 111,278\n",
      "Trainable params: 111,278\n",
      "Non-trainable params: 0\n",
      "_________________________________________________________________\n"
     ]
    }
   ],
   "source": [
    "keras.backend.set_floatx('float32')\n",
    "\n",
    "model = keras.models.Sequential([\n",
    "                                 layers.Flatten(input_shape = (28,28)),\n",
    "                                 layers.Dense(128, activation =\"elu\"),\n",
    "                                 layers.Dense(64, activation =\"elu\"),\n",
    "                                 layers.Dense(32, activation =\"elu\"),\n",
    "                                 layers.Dense(14, activation =\"elu\") \n",
    "                                ])\n",
    "\n",
    "# More than a million parameters for the classical circuit\n",
    "model.summary()"
   ]
  },
  {
   "cell_type": "markdown",
   "id": "9f608203",
   "metadata": {},
   "source": [
    "# 2. Data encoding circuit"
   ]
  },
  {
   "cell_type": "markdown",
   "id": "f39794be",
   "metadata": {},
   "source": [
    "Covert the output vectors from the classical circuit into quantum states by using the entries of the vectors as parameters of continous variable gates."
   ]
  },
  {
   "cell_type": "code",
   "execution_count": 5,
   "id": "25975286",
   "metadata": {},
   "outputs": [],
   "source": [
    "def data_encoding(x):\n",
    "    qml.Squeezing(x[3], x[4], wires=0)\n",
    "    qml.Squeezing(x[9], x[10], wires=1)\n",
    "    \n",
    "    qml.Beamsplitter(x[5], x[6], wires=[0,1])\n",
    "    \n",
    "    qml.Rotation(x[7], wires=0)\n",
    "    qml.Rotation(x[8], wires=1)\n",
    "    \n",
    "    qml.Displacement(x[1], x[2], wires=0)\n",
    "    qml.Displacement(x[11], x[12], wires=1)\n",
    "    \n",
    "    qml.Kerr(x[0], wires=0)\n",
    "    qml.Kerr(x[13], wires=1)"
   ]
  },
  {
   "cell_type": "markdown",
   "id": "71db407c",
   "metadata": {},
   "source": [
    "# 3. Quantum neural network circuit"
   ]
  },
  {
   "cell_type": "code",
   "execution_count": 6,
   "id": "fa8828c8",
   "metadata": {},
   "outputs": [],
   "source": [
    "def qnn_layer(v):\n",
    "    # Interferometer 1\n",
    "    qml.Beamsplitter(v[0], v[1], wires=[0,1])\n",
    "    qml.Rotation(v[2], wires=0)\n",
    "    qml.Rotation(v[3], wires=1)\n",
    "    \n",
    "    # Squeezers\n",
    "    qml.Squeezing(v[4], 0.0, wires=0)\n",
    "    qml.Squeezing(v[5], 0.0, wires=1)\n",
    "    \n",
    "    # Interferometer 2\n",
    "    qml.Beamsplitter(v[6], v[7], wires=[0,1])\n",
    "    qml.Rotation(v[8], wires=0)\n",
    "    qml.Rotation(v[9], wires=1)\n",
    "    \n",
    "    # Bias addition\n",
    "    qml.Displacement(v[10], 0.0, wires=0)\n",
    "    qml.Displacement(v[11], 0.0, wires=1)\n",
    "    \n",
    "    # Non-linear activation function\n",
    "    qml.Kerr(v[12], wires=0)\n",
    "    qml.Kerr(v[13], wires=1)"
   ]
  },
  {
   "cell_type": "markdown",
   "id": "f45687ea",
   "metadata": {},
   "source": [
    "# 4. Initialize parameters"
   ]
  },
  {
   "cell_type": "code",
   "execution_count": 10,
   "id": "76a5d56d",
   "metadata": {},
   "outputs": [],
   "source": [
    "def init_weights(layers, modes, active_sd=0.0001, passive_sd=0.1):\n",
    "    \n",
    "    # Number of interferometer parameters: beamsplitter + 2 rotations\n",
    "    M = 2 + 1 + 1  \n",
    "\n",
    "    int1_weights = tf.random.normal(shape=[layers, M], stddev=passive_sd)\n",
    "    s_weights = tf.random.normal(shape=[layers, modes], stddev=active_sd)\n",
    "    int2_weights = tf.random.normal(shape=[layers, M], stddev=passive_sd)\n",
    "    dr_weights = tf.random.normal(shape=[layers, modes], stddev=active_sd)\n",
    "    k_weights = tf.random.normal(shape=[layers, modes], stddev=active_sd)\n",
    "\n",
    "    weights = tf.concat([int1_weights, s_weights, int2_weights, dr_weights, k_weights], axis=1)\n",
    "    weights = tf.Variable(weights)\n",
    "\n",
    "    return weights"
   ]
  },
  {
   "cell_type": "markdown",
   "id": "36a12aec",
   "metadata": {},
   "source": [
    "# 5. Quantum device"
   ]
  },
  {
   "cell_type": "code",
   "execution_count": 8,
   "id": "50ac70f9",
   "metadata": {},
   "outputs": [],
   "source": [
    "num_modes = 2\n",
    "cutoff_dim = 4\n",
    "\n",
    "# select a devide \n",
    "dev = qml.device(\"strawberryfields.fock\", wires=num_modes, cutoff_dim=cutoff_dim) \n",
    "\n",
    "@qml.qnode(dev, interface=\"tf\")\n",
    "def quantum_nn(inputs, var):\n",
    "    # Encode input x into quantum state\n",
    "    data_encoding(inputs)\n",
    "\n",
    "    # iterative quantum layers\n",
    "    for v in var:\n",
    "        qnn_layer(v)\n",
    "\n",
    "    return qml.probs(wires=[0, 1])"
   ]
  },
  {
   "cell_type": "markdown",
   "id": "8e11851b",
   "metadata": {},
   "source": [
    "# 6. Hybrid circuit"
   ]
  },
  {
   "cell_type": "code",
   "execution_count": 11,
   "id": "bb3d72be",
   "metadata": {},
   "outputs": [],
   "source": [
    "num_layers = 4\n",
    "\n",
    "# initialize weights for quantum layers\n",
    "weigths = init_weights(num_layers, num_modes)\n",
    "\n",
    "# convert the quantum layer to a Keras layer\n",
    "shape_tup = weigths.shape\n",
    "weight_shapes = {'var': shape_tup}\n",
    "qlayer = qml.qnn.KerasLayer(quantum_nn, weight_shapes, output_dim=4)\n",
    "\n",
    "# add to the classical sequential model\n",
    "model.add(qlayer)"
   ]
  },
  {
   "cell_type": "markdown",
   "id": "92331469",
   "metadata": {},
   "source": [
    "# 7. Loss function and optimizer"
   ]
  },
  {
   "cell_type": "code",
   "execution_count": 12,
   "id": "b92b2dd6",
   "metadata": {},
   "outputs": [],
   "source": [
    "opt = keras.optimizers.SGD(lr = 0.02)\n",
    "model.compile(opt, loss = 'categorical_crossentropy', metrics =['accuracy'])"
   ]
  },
  {
   "cell_type": "markdown",
   "id": "910c6ecc",
   "metadata": {},
   "source": [
    "# 8. Training"
   ]
  },
  {
   "cell_type": "code",
   "execution_count": 7,
   "id": "44b23d51",
   "metadata": {},
   "outputs": [
    {
     "name": "stdout",
     "output_type": "stream",
     "text": [
      "Epoch 1/150\n",
      "10/10 [==============================] - 351s 34s/step - loss: 2.8504 - accuracy: 0.1493 - val_loss: 2.3855 - val_accuracy: 0.1700\n",
      "Epoch 2/150\n",
      "10/10 [==============================] - 333s 33s/step - loss: 2.1749 - accuracy: 0.2604 - val_loss: 2.1902 - val_accuracy: 0.2700\n",
      "Epoch 3/150\n",
      "10/10 [==============================] - 325s 32s/step - loss: 2.0493 - accuracy: 0.3236 - val_loss: 2.1392 - val_accuracy: 0.3200\n",
      "Epoch 4/150\n",
      "10/10 [==============================] - 588s 62s/step - loss: 1.9556 - accuracy: 0.3739 - val_loss: 2.0701 - val_accuracy: 0.3400\n",
      "Epoch 5/150\n",
      "10/10 [==============================] - 396s 39s/step - loss: 1.8065 - accuracy: 0.3835 - val_loss: 1.9611 - val_accuracy: 0.3400\n",
      "Epoch 6/150\n",
      "10/10 [==============================] - 358s 36s/step - loss: 1.7062 - accuracy: 0.4234 - val_loss: 1.8944 - val_accuracy: 0.3900\n",
      "Epoch 7/150\n",
      "10/10 [==============================] - 3120s 33s/step - loss: 1.6922 - accuracy: 0.4237 - val_loss: 1.8995 - val_accuracy: 0.3800\n",
      "Epoch 8/150\n",
      "10/10 [==============================] - 330s 33s/step - loss: 1.6467 - accuracy: 0.4606 - val_loss: 1.8918 - val_accuracy: 0.3800\n",
      "Epoch 9/150\n",
      "10/10 [==============================] - 328s 33s/step - loss: 1.6335 - accuracy: 0.4903 - val_loss: 1.8610 - val_accuracy: 0.3800\n",
      "Epoch 10/150\n",
      "10/10 [==============================] - 321s 32s/step - loss: 1.5930 - accuracy: 0.5133 - val_loss: 1.8751 - val_accuracy: 0.3900\n",
      "Epoch 11/150\n",
      "10/10 [==============================] - 316s 31s/step - loss: 1.5130 - accuracy: 0.5535 - val_loss: 1.8328 - val_accuracy: 0.4500\n",
      "Epoch 12/150\n",
      "10/10 [==============================] - 2149s 207s/step - loss: 1.5384 - accuracy: 0.5637 - val_loss: 1.8925 - val_accuracy: 0.4200\n",
      "Epoch 13/150\n",
      "10/10 [==============================] - 396s 39s/step - loss: 1.5485 - accuracy: 0.5358 - val_loss: 1.8198 - val_accuracy: 0.4500\n",
      "Epoch 14/150\n",
      "10/10 [==============================] - 372s 37s/step - loss: 1.5076 - accuracy: 0.5775 - val_loss: 1.7577 - val_accuracy: 0.4800\n",
      "Epoch 15/150\n",
      "10/10 [==============================] - 410s 40s/step - loss: 1.4279 - accuracy: 0.5943 - val_loss: 1.7434 - val_accuracy: 0.4400\n",
      "Epoch 16/150\n",
      "10/10 [==============================] - 1136s 122s/step - loss: 1.3779 - accuracy: 0.6213 - val_loss: 1.7263 - val_accuracy: 0.4300\n",
      "Epoch 17/150\n",
      "10/10 [==============================] - 1861s 117s/step - loss: 1.4580 - accuracy: 0.5784 - val_loss: 1.7264 - val_accuracy: 0.5100\n",
      "Epoch 18/150\n",
      "10/10 [==============================] - 363s 36s/step - loss: 1.3766 - accuracy: 0.6341 - val_loss: 1.7284 - val_accuracy: 0.4600\n",
      "Epoch 19/150\n",
      "10/10 [==============================] - 369s 37s/step - loss: 1.3551 - accuracy: 0.6170 - val_loss: 1.7616 - val_accuracy: 0.5100\n",
      "Epoch 20/150\n",
      "10/10 [==============================] - 312s 31s/step - loss: 1.3835 - accuracy: 0.6240 - val_loss: 1.6710 - val_accuracy: 0.4900\n",
      "Epoch 21/150\n",
      "10/10 [==============================] - 337s 33s/step - loss: 1.3095 - accuracy: 0.6958 - val_loss: 1.6868 - val_accuracy: 0.4600\n",
      "Epoch 22/150\n",
      "10/10 [==============================] - 341s 34s/step - loss: 1.3092 - accuracy: 0.6569 - val_loss: 1.7243 - val_accuracy: 0.4700\n",
      "Epoch 23/150\n",
      "10/10 [==============================] - 329s 33s/step - loss: 1.2811 - accuracy: 0.6957 - val_loss: 1.7241 - val_accuracy: 0.4600\n",
      "Epoch 24/150\n",
      "10/10 [==============================] - 322s 32s/step - loss: 1.3349 - accuracy: 0.6656 - val_loss: 1.6915 - val_accuracy: 0.4700\n",
      "Epoch 25/150\n",
      "10/10 [==============================] - 1200s 130s/step - loss: 1.2257 - accuracy: 0.7400 - val_loss: 1.8223 - val_accuracy: 0.4300\n",
      "Epoch 26/150\n",
      "10/10 [==============================] - 303s 30s/step - loss: 1.3201 - accuracy: 0.6758 - val_loss: 1.6423 - val_accuracy: 0.4800\n",
      "Epoch 27/150\n",
      "10/10 [==============================] - 312s 31s/step - loss: 1.2091 - accuracy: 0.7291 - val_loss: 1.6732 - val_accuracy: 0.4900\n",
      "Epoch 28/150\n",
      "10/10 [==============================] - 2875s 289s/step - loss: 1.2375 - accuracy: 0.7220 - val_loss: 1.6355 - val_accuracy: 0.5100\n",
      "Epoch 29/150\n",
      "10/10 [==============================] - 383s 38s/step - loss: 1.2123 - accuracy: 0.7410 - val_loss: 1.6179 - val_accuracy: 0.4800\n",
      "Epoch 30/150\n",
      "10/10 [==============================] - 385s 38s/step - loss: 1.1880 - accuracy: 0.7313 - val_loss: 1.6479 - val_accuracy: 0.4800\n",
      "Epoch 31/150\n",
      "10/10 [==============================] - 395s 39s/step - loss: 1.1534 - accuracy: 0.7726 - val_loss: 1.6458 - val_accuracy: 0.5100\n",
      "Epoch 32/150\n",
      "10/10 [==============================] - 394s 39s/step - loss: 1.1513 - accuracy: 0.7566 - val_loss: 1.6011 - val_accuracy: 0.5100\n",
      "Epoch 33/150\n",
      "10/10 [==============================] - 355s 35s/step - loss: 1.1280 - accuracy: 0.7741 - val_loss: 1.5684 - val_accuracy: 0.5100\n",
      "Epoch 34/150\n",
      "10/10 [==============================] - 394s 39s/step - loss: 1.1403 - accuracy: 0.7834 - val_loss: 1.5927 - val_accuracy: 0.5100\n",
      "Epoch 35/150\n",
      "10/10 [==============================] - 397s 40s/step - loss: 1.1944 - accuracy: 0.7178 - val_loss: 1.5894 - val_accuracy: 0.5100\n",
      "Epoch 36/150\n",
      "10/10 [==============================] - 396s 39s/step - loss: 1.1015 - accuracy: 0.7993 - val_loss: 1.5540 - val_accuracy: 0.5300\n",
      "Epoch 37/150\n",
      "10/10 [==============================] - 399s 40s/step - loss: 1.0872 - accuracy: 0.7901 - val_loss: 1.5923 - val_accuracy: 0.5500\n",
      "Epoch 38/150\n",
      "10/10 [==============================] - 396s 39s/step - loss: 1.0739 - accuracy: 0.7953 - val_loss: 1.6401 - val_accuracy: 0.5000\n",
      "Epoch 39/150\n",
      "10/10 [==============================] - 397s 39s/step - loss: 1.0832 - accuracy: 0.8053 - val_loss: 1.5330 - val_accuracy: 0.5600\n",
      "Epoch 40/150\n",
      "10/10 [==============================] - 403s 40s/step - loss: 1.0809 - accuracy: 0.7746 - val_loss: 1.5283 - val_accuracy: 0.5400\n",
      "Epoch 41/150\n",
      "10/10 [==============================] - 415s 41s/step - loss: 1.0709 - accuracy: 0.7865 - val_loss: 1.4956 - val_accuracy: 0.5700\n",
      "Epoch 42/150\n",
      "10/10 [==============================] - 407s 41s/step - loss: 1.0532 - accuracy: 0.8091 - val_loss: 1.5748 - val_accuracy: 0.5400\n",
      "Epoch 43/150\n",
      "10/10 [==============================] - 408s 41s/step - loss: 1.0529 - accuracy: 0.8201 - val_loss: 1.6157 - val_accuracy: 0.5000\n",
      "Epoch 44/150\n",
      "10/10 [==============================] - 410s 41s/step - loss: 1.0360 - accuracy: 0.8081 - val_loss: 1.4763 - val_accuracy: 0.5100\n",
      "Epoch 45/150\n",
      "10/10 [==============================] - 411s 41s/step - loss: 1.0096 - accuracy: 0.8356 - val_loss: 1.5051 - val_accuracy: 0.5100\n",
      "Epoch 46/150\n",
      "10/10 [==============================] - 421s 42s/step - loss: 1.0056 - accuracy: 0.8240 - val_loss: 1.5725 - val_accuracy: 0.5400\n",
      "Epoch 47/150\n",
      "10/10 [==============================] - 408s 40s/step - loss: 1.0821 - accuracy: 0.7628 - val_loss: 1.4448 - val_accuracy: 0.5100\n",
      "Epoch 48/150\n",
      "10/10 [==============================] - 387s 38s/step - loss: 1.0126 - accuracy: 0.8163 - val_loss: 1.5537 - val_accuracy: 0.5300\n",
      "Epoch 49/150\n",
      "10/10 [==============================] - 389s 39s/step - loss: 0.9953 - accuracy: 0.8314 - val_loss: 1.4572 - val_accuracy: 0.5600\n",
      "Epoch 50/150\n",
      "10/10 [==============================] - 385s 38s/step - loss: 1.0017 - accuracy: 0.8102 - val_loss: 1.4898 - val_accuracy: 0.5400\n",
      "Epoch 51/150\n",
      "10/10 [==============================] - 384s 38s/step - loss: 0.9671 - accuracy: 0.8382 - val_loss: 1.4776 - val_accuracy: 0.5300\n",
      "Epoch 52/150\n",
      "10/10 [==============================] - 327s 32s/step - loss: 0.9714 - accuracy: 0.8214 - val_loss: 1.4177 - val_accuracy: 0.5300\n",
      "Epoch 53/150\n",
      "10/10 [==============================] - 323s 32s/step - loss: 0.9505 - accuracy: 0.8514 - val_loss: 1.4226 - val_accuracy: 0.5200\n",
      "Epoch 54/150\n",
      "10/10 [==============================] - 1484s 103s/step - loss: 0.9549 - accuracy: 0.8532 - val_loss: 1.6087 - val_accuracy: 0.5200\n",
      "Epoch 55/150\n",
      "10/10 [==============================] - 363s 36s/step - loss: 1.0022 - accuracy: 0.8366 - val_loss: 1.4155 - val_accuracy: 0.5400\n",
      "Epoch 56/150\n",
      "10/10 [==============================] - 365s 36s/step - loss: 0.9327 - accuracy: 0.8664 - val_loss: 1.4127 - val_accuracy: 0.5500\n",
      "Epoch 57/150\n",
      "10/10 [==============================] - 369s 37s/step - loss: 0.9255 - accuracy: 0.8282 - val_loss: 1.4112 - val_accuracy: 0.5400\n"
     ]
    },
    {
     "name": "stdout",
     "output_type": "stream",
     "text": [
      "Epoch 58/150\n",
      "10/10 [==============================] - 378s 38s/step - loss: 0.9203 - accuracy: 0.8494 - val_loss: 1.4017 - val_accuracy: 0.5700\n",
      "Epoch 59/150\n",
      "10/10 [==============================] - 336s 33s/step - loss: 0.9748 - accuracy: 0.8132 - val_loss: 1.4107 - val_accuracy: 0.5700\n",
      "Epoch 60/150\n",
      "10/10 [==============================] - 306s 30s/step - loss: 0.9625 - accuracy: 0.8267 - val_loss: 1.4181 - val_accuracy: 0.5300\n",
      "Epoch 61/150\n",
      "10/10 [==============================] - 7193s 796s/step - loss: 0.9241 - accuracy: 0.8756 - val_loss: 1.4105 - val_accuracy: 0.5300\n",
      "Epoch 62/150\n",
      "10/10 [==============================] - 3600s 366s/step - loss: 0.8755 - accuracy: 0.8762 - val_loss: 1.4482 - val_accuracy: 0.5100\n",
      "Epoch 63/150\n",
      "10/10 [==============================] - 9636s 1038s/step - loss: 0.9023 - accuracy: 0.8710 - val_loss: 1.3604 - val_accuracy: 0.5800\n",
      "Epoch 64/150\n",
      "10/10 [==============================] - 1647s 153s/step - loss: 0.9103 - accuracy: 0.8390 - val_loss: 1.4470 - val_accuracy: 0.5600\n",
      "Epoch 65/150\n",
      "10/10 [==============================] - 308s 31s/step - loss: 0.9400 - accuracy: 0.8217 - val_loss: 1.3648 - val_accuracy: 0.5700\n",
      "Epoch 66/150\n",
      "10/10 [==============================] - 311s 31s/step - loss: 0.8584 - accuracy: 0.8934 - val_loss: 1.3801 - val_accuracy: 0.5700\n",
      "Epoch 67/150\n",
      "10/10 [==============================] - 3218s 304s/step - loss: 0.8959 - accuracy: 0.8623 - val_loss: 1.5101 - val_accuracy: 0.5200\n",
      "Epoch 68/150\n",
      "10/10 [==============================] - 331s 33s/step - loss: 0.9664 - accuracy: 0.8326 - val_loss: 1.3810 - val_accuracy: 0.5900\n",
      "Epoch 69/150\n",
      "10/10 [==============================] - 328s 33s/step - loss: 0.8687 - accuracy: 0.8967 - val_loss: 1.3812 - val_accuracy: 0.5600\n",
      "Epoch 70/150\n",
      "10/10 [==============================] - 331s 33s/step - loss: 0.8405 - accuracy: 0.8911 - val_loss: 1.3455 - val_accuracy: 0.5500\n",
      "Epoch 71/150\n",
      "10/10 [==============================] - 307s 31s/step - loss: 0.8692 - accuracy: 0.8722 - val_loss: 1.3695 - val_accuracy: 0.5200\n",
      "Epoch 72/150\n",
      "10/10 [==============================] - 411s 39s/step - loss: 0.8557 - accuracy: 0.8902 - val_loss: 1.3692 - val_accuracy: 0.5500\n",
      "Epoch 73/150\n",
      "10/10 [==============================] - 322s 32s/step - loss: 0.8828 - accuracy: 0.8749 - val_loss: 1.3510 - val_accuracy: 0.5500\n",
      "Epoch 74/150\n",
      "10/10 [==============================] - 399s 41s/step - loss: 0.8334 - accuracy: 0.8848 - val_loss: 1.3709 - val_accuracy: 0.5100\n",
      "Epoch 75/150\n",
      "10/10 [==============================] - 385s 38s/step - loss: 0.8915 - accuracy: 0.8603 - val_loss: 1.3251 - val_accuracy: 0.5600\n",
      "Epoch 76/150\n",
      "10/10 [==============================] - 369s 36s/step - loss: 0.8161 - accuracy: 0.8896 - val_loss: 1.3384 - val_accuracy: 0.5500\n",
      "Epoch 77/150\n",
      "10/10 [==============================] - 395s 39s/step - loss: 0.8430 - accuracy: 0.8871 - val_loss: 1.3908 - val_accuracy: 0.5700\n",
      "Epoch 78/150\n",
      "10/10 [==============================] - 324s 32s/step - loss: 0.8742 - accuracy: 0.8423 - val_loss: 1.3226 - val_accuracy: 0.5700\n",
      "Epoch 79/150\n",
      "10/10 [==============================] - 316s 31s/step - loss: 0.8237 - accuracy: 0.8898 - val_loss: 1.3102 - val_accuracy: 0.5700\n",
      "Epoch 80/150\n",
      "10/10 [==============================] - 1002s 107s/step - loss: 0.8444 - accuracy: 0.8633 - val_loss: 1.3434 - val_accuracy: 0.5700\n",
      "Epoch 81/150\n",
      "10/10 [==============================] - 1005s 59s/step - loss: 0.8192 - accuracy: 0.8894 - val_loss: 1.3504 - val_accuracy: 0.5600\n",
      "Epoch 82/150\n",
      "10/10 [==============================] - 331s 33s/step - loss: 0.8184 - accuracy: 0.8972 - val_loss: 1.3991 - val_accuracy: 0.5500\n",
      "Epoch 83/150\n",
      "10/10 [==============================] - 331s 33s/step - loss: 0.8208 - accuracy: 0.8804 - val_loss: 1.3521 - val_accuracy: 0.5400\n",
      "Epoch 84/150\n",
      "10/10 [==============================] - 329s 33s/step - loss: 0.8390 - accuracy: 0.8524 - val_loss: 1.2893 - val_accuracy: 0.5300\n",
      "Epoch 85/150\n",
      "10/10 [==============================] - 332s 33s/step - loss: 0.8432 - accuracy: 0.8722 - val_loss: 1.3824 - val_accuracy: 0.5500\n",
      "Epoch 86/150\n",
      "10/10 [==============================] - 330s 33s/step - loss: 0.8251 - accuracy: 0.9060 - val_loss: 1.3130 - val_accuracy: 0.5600\n",
      "Epoch 87/150\n",
      "10/10 [==============================] - 339s 34s/step - loss: 0.8291 - accuracy: 0.8899 - val_loss: 1.3369 - val_accuracy: 0.5600\n",
      "Epoch 88/150\n",
      "10/10 [==============================] - 341s 34s/step - loss: 0.8342 - accuracy: 0.8812 - val_loss: 1.3457 - val_accuracy: 0.5300\n",
      "Epoch 89/150\n",
      "10/10 [==============================] - 664s 70s/step - loss: 0.8372 - accuracy: 0.8741 - val_loss: 1.3666 - val_accuracy: 0.5500\n",
      "Epoch 90/150\n",
      "10/10 [==============================] - 649s 41s/step - loss: 0.7793 - accuracy: 0.8986 - val_loss: 1.3201 - val_accuracy: 0.5900\n",
      "Epoch 91/150\n",
      "10/10 [==============================] - 354s 34s/step - loss: 0.7655 - accuracy: 0.9058 - val_loss: 1.3291 - val_accuracy: 0.5700\n",
      "Epoch 92/150\n",
      "10/10 [==============================] - 322s 31s/step - loss: 0.8074 - accuracy: 0.8754 - val_loss: 1.3319 - val_accuracy: 0.5700\n",
      "Epoch 93/150\n",
      "10/10 [==============================] - 301s 30s/step - loss: 0.7487 - accuracy: 0.9123 - val_loss: 1.3066 - val_accuracy: 0.6000\n",
      "Epoch 94/150\n",
      "10/10 [==============================] - 3450s 380s/step - loss: 0.8026 - accuracy: 0.8920 - val_loss: 1.3423 - val_accuracy: 0.5900\n",
      "Epoch 95/150\n",
      "10/10 [==============================] - 1988s 189s/step - loss: 0.7800 - accuracy: 0.8945 - val_loss: 1.3310 - val_accuracy: 0.5700\n",
      "Epoch 96/150\n",
      "10/10 [==============================] - 504s 53s/step - loss: 0.7776 - accuracy: 0.9015 - val_loss: 1.3192 - val_accuracy: 0.5700\n",
      "Epoch 97/150\n",
      "10/10 [==============================] - 345s 34s/step - loss: 0.7570 - accuracy: 0.9035 - val_loss: 1.2721 - val_accuracy: 0.6000\n",
      "Epoch 98/150\n",
      "10/10 [==============================] - 320s 32s/step - loss: 0.7409 - accuracy: 0.9110 - val_loss: 1.2782 - val_accuracy: 0.5900\n",
      "Epoch 99/150\n",
      "10/10 [==============================] - 324s 32s/step - loss: 0.7539 - accuracy: 0.9009 - val_loss: 1.3242 - val_accuracy: 0.5500\n",
      "Epoch 100/150\n",
      "10/10 [==============================] - 346s 33s/step - loss: 0.7816 - accuracy: 0.8889 - val_loss: 1.2435 - val_accuracy: 0.5900\n",
      "Epoch 101/150\n",
      "10/10 [==============================] - 412s 42s/step - loss: 0.7729 - accuracy: 0.9074 - val_loss: 1.2999 - val_accuracy: 0.5600\n",
      "Epoch 102/150\n",
      "10/10 [==============================] - 349s 35s/step - loss: 0.7420 - accuracy: 0.9300 - val_loss: 1.2365 - val_accuracy: 0.5900\n",
      "Epoch 103/150\n",
      "10/10 [==============================] - 334s 33s/step - loss: 0.7684 - accuracy: 0.9063 - val_loss: 1.2332 - val_accuracy: 0.6100\n",
      "Epoch 104/150\n",
      "10/10 [==============================] - 337s 33s/step - loss: 0.7713 - accuracy: 0.9186 - val_loss: 1.2910 - val_accuracy: 0.5800\n",
      "Epoch 105/150\n",
      "10/10 [==============================] - 294s 29s/step - loss: 0.7403 - accuracy: 0.9113 - val_loss: 1.2688 - val_accuracy: 0.5700\n",
      "Epoch 106/150\n",
      "10/10 [==============================] - 492s 51s/step - loss: 0.7622 - accuracy: 0.9225 - val_loss: 1.2986 - val_accuracy: 0.5600\n",
      "Epoch 107/150\n",
      "10/10 [==============================] - 1098s 89s/step - loss: 0.8113 - accuracy: 0.8743 - val_loss: 1.2948 - val_accuracy: 0.5700\n",
      "Epoch 108/150\n",
      "10/10 [==============================] - 350s 34s/step - loss: 0.7191 - accuracy: 0.9202 - val_loss: 1.3357 - val_accuracy: 0.5800\n",
      "Epoch 109/150\n",
      "10/10 [==============================] - 386s 38s/step - loss: 0.7300 - accuracy: 0.9199 - val_loss: 1.3042 - val_accuracy: 0.5500\n",
      "Epoch 110/150\n",
      "10/10 [==============================] - 390s 39s/step - loss: 0.7122 - accuracy: 0.9104 - val_loss: 1.3572 - val_accuracy: 0.5300\n",
      "Epoch 111/150\n",
      "10/10 [==============================] - 381s 38s/step - loss: 0.7381 - accuracy: 0.8992 - val_loss: 1.2589 - val_accuracy: 0.5900\n",
      "Epoch 112/150\n",
      "10/10 [==============================] - 415s 41s/step - loss: 0.7158 - accuracy: 0.9197 - val_loss: 1.2499 - val_accuracy: 0.6000\n",
      "Epoch 113/150\n",
      "10/10 [==============================] - 304s 30s/step - loss: 0.6943 - accuracy: 0.9266 - val_loss: 1.3533 - val_accuracy: 0.5200\n",
      "Epoch 114/150\n",
      "10/10 [==============================] - 303s 30s/step - loss: 0.7952 - accuracy: 0.8982 - val_loss: 1.2624 - val_accuracy: 0.6200\n",
      "Epoch 115/150\n",
      "10/10 [==============================] - 3052s 315s/step - loss: 0.7139 - accuracy: 0.9319 - val_loss: 1.3549 - val_accuracy: 0.5500\n",
      "Epoch 116/150\n",
      "10/10 [==============================] - 418s 43s/step - loss: 0.7273 - accuracy: 0.9234 - val_loss: 1.2842 - val_accuracy: 0.5500\n",
      "Epoch 117/150\n",
      "10/10 [==============================] - 447s 44s/step - loss: 0.7662 - accuracy: 0.9052 - val_loss: 1.2930 - val_accuracy: 0.5800\n",
      "Epoch 118/150\n",
      "10/10 [==============================] - 384s 38s/step - loss: 0.7196 - accuracy: 0.9135 - val_loss: 1.2927 - val_accuracy: 0.5600\n",
      "Epoch 119/150\n",
      "10/10 [==============================] - 455s 46s/step - loss: 0.7116 - accuracy: 0.9301 - val_loss: 1.2612 - val_accuracy: 0.6000\n",
      "Epoch 120/150\n",
      "10/10 [==============================] - 492s 49s/step - loss: 0.6785 - accuracy: 0.9274 - val_loss: 1.2430 - val_accuracy: 0.6100\n",
      "Epoch 121/150\n",
      "10/10 [==============================] - 431s 43s/step - loss: 0.7062 - accuracy: 0.9353 - val_loss: 1.2217 - val_accuracy: 0.6000\n",
      "Epoch 122/150\n",
      "10/10 [==============================] - 434s 43s/step - loss: 0.6909 - accuracy: 0.9139 - val_loss: 1.2629 - val_accuracy: 0.6000\n",
      "Epoch 123/150\n",
      "10/10 [==============================] - 387s 38s/step - loss: 0.7103 - accuracy: 0.9242 - val_loss: 1.3106 - val_accuracy: 0.6000\n",
      "Epoch 124/150\n",
      "10/10 [==============================] - 378s 38s/step - loss: 0.7193 - accuracy: 0.9152 - val_loss: 1.2786 - val_accuracy: 0.6200\n",
      "Epoch 125/150\n",
      "10/10 [==============================] - 392s 39s/step - loss: 0.6984 - accuracy: 0.9302 - val_loss: 1.2588 - val_accuracy: 0.6400\n",
      "Epoch 126/150\n",
      "10/10 [==============================] - 367s 36s/step - loss: 0.6814 - accuracy: 0.9410 - val_loss: 1.4090 - val_accuracy: 0.5900\n",
      "Epoch 127/150\n",
      "10/10 [==============================] - 372s 37s/step - loss: 0.7037 - accuracy: 0.9211 - val_loss: 1.4977 - val_accuracy: 0.5100\n",
      "Epoch 128/150\n",
      "10/10 [==============================] - 380s 37s/step - loss: 0.8191 - accuracy: 0.8680 - val_loss: 1.3019 - val_accuracy: 0.6400\n",
      "Epoch 129/150\n",
      "10/10 [==============================] - 763s 81s/step - loss: 0.6807 - accuracy: 0.9126 - val_loss: 1.2986 - val_accuracy: 0.6200\n",
      "Epoch 130/150\n",
      "10/10 [==============================] - 925s 38s/step - loss: 0.6948 - accuracy: 0.9314 - val_loss: 1.2926 - val_accuracy: 0.6300\n",
      "Epoch 131/150\n",
      "10/10 [==============================] - 388s 39s/step - loss: 0.6838 - accuracy: 0.9133 - val_loss: 1.3105 - val_accuracy: 0.6100\n",
      "Epoch 132/150\n",
      "10/10 [==============================] - 385s 38s/step - loss: 0.6523 - accuracy: 0.9394 - val_loss: 1.2777 - val_accuracy: 0.5700\n",
      "Epoch 133/150\n",
      "10/10 [==============================] - 626s 65s/step - loss: 0.6497 - accuracy: 0.9223 - val_loss: 1.2740 - val_accuracy: 0.6400\n",
      "Epoch 134/150\n",
      "10/10 [==============================] - 3744s 370s/step - loss: 0.6952 - accuracy: 0.9269 - val_loss: 1.2393 - val_accuracy: 0.6300\n",
      "Epoch 135/150\n",
      "10/10 [==============================] - 375s 37s/step - loss: 0.6707 - accuracy: 0.9273 - val_loss: 1.2225 - val_accuracy: 0.6200\n",
      "Epoch 136/150\n",
      "10/10 [==============================] - 338s 33s/step - loss: 0.6714 - accuracy: 0.9395 - val_loss: 1.3033 - val_accuracy: 0.5900\n",
      "Epoch 137/150\n",
      "10/10 [==============================] - 365s 36s/step - loss: 0.6976 - accuracy: 0.9170 - val_loss: 1.2414 - val_accuracy: 0.6300\n",
      "Epoch 138/150\n",
      "10/10 [==============================] - 325s 30s/step - loss: 0.6314 - accuracy: 0.9359 - val_loss: 1.2597 - val_accuracy: 0.6200\n",
      "Epoch 139/150\n",
      "10/10 [==============================] - 297s 30s/step - loss: 0.6350 - accuracy: 0.9405 - val_loss: 1.2996 - val_accuracy: 0.6100\n",
      "Epoch 140/150\n",
      "10/10 [==============================] - 1252s 136s/step - loss: 0.6316 - accuracy: 0.9539 - val_loss: 1.2873 - val_accuracy: 0.5800\n",
      "Epoch 141/150\n",
      "10/10 [==============================] - 393s 39s/step - loss: 0.6778 - accuracy: 0.9217 - val_loss: 1.2997 - val_accuracy: 0.6200\n",
      "Epoch 142/150\n",
      "10/10 [==============================] - 365s 36s/step - loss: 0.6500 - accuracy: 0.9460 - val_loss: 1.3321 - val_accuracy: 0.6300\n",
      "Epoch 143/150\n",
      "10/10 [==============================] - 404s 40s/step - loss: 0.6424 - accuracy: 0.9353 - val_loss: 1.2702 - val_accuracy: 0.6500\n",
      "Epoch 144/150\n",
      "10/10 [==============================] - 309s 30s/step - loss: 0.6886 - accuracy: 0.9382 - val_loss: 1.2469 - val_accuracy: 0.6100\n",
      "Epoch 145/150\n",
      "10/10 [==============================] - 303s 30s/step - loss: 0.6573 - accuracy: 0.9471 - val_loss: 1.2445 - val_accuracy: 0.6100\n",
      "Epoch 146/150\n",
      "10/10 [==============================] - 423s 42s/step - loss: 0.6370 - accuracy: 0.9419 - val_loss: 1.2591 - val_accuracy: 0.6400\n",
      "Epoch 147/150\n",
      "10/10 [==============================] - 359s 35s/step - loss: 0.6234 - accuracy: 0.9313 - val_loss: 1.2932 - val_accuracy: 0.6100\n",
      "Epoch 148/150\n",
      "10/10 [==============================] - 410s 41s/step - loss: 0.6406 - accuracy: 0.9397 - val_loss: 1.6392 - val_accuracy: 0.4700\n",
      "Epoch 149/150\n",
      "10/10 [==============================] - 431s 43s/step - loss: 0.7608 - accuracy: 0.8766 - val_loss: 1.2566 - val_accuracy: 0.6500\n",
      "Epoch 150/150\n",
      "10/10 [==============================] - 365s 36s/step - loss: 0.6140 - accuracy: 0.9374 - val_loss: 1.2388 - val_accuracy: 0.6400\n"
     ]
    }
   ],
   "source": [
    "hybrid = model.fit(X_train, \n",
    "                   y_train,\n",
    "                   epochs = 150,\n",
    "                   batch_size = 64,\n",
    "                   shuffle = True, \n",
    "                   validation_data = (X_test, y_test))"
   ]
  },
  {
   "cell_type": "code",
   "execution_count": null,
   "id": "6440b922",
   "metadata": {},
   "outputs": [],
   "source": [
    "model.summary()"
   ]
  },
  {
   "cell_type": "markdown",
   "id": "2dd80c8f",
   "metadata": {},
   "source": [
    "# 9. Loss and accuracy graphs"
   ]
  },
  {
   "cell_type": "code",
   "execution_count": null,
   "id": "98fffad7",
   "metadata": {},
   "outputs": [],
   "source": [
    "# ===================================================================================\n",
    "#                                  Loss History Plot\n",
    "# ===================================================================================\n",
    "\n",
    "plt.title('model loss')\n",
    "plt.plot(hybrid.history['loss'])\n",
    "plt.ylabel('loss')\n",
    "plt.show()"
   ]
  },
  {
   "cell_type": "code",
   "execution_count": 13,
   "id": "cc6435a2",
   "metadata": {},
   "outputs": [
    {
     "data": {
      "image/png": "[encoded data removed]",
      "text/plain": [
       "<Figure size 640x480 with 1 Axes>"
      ]
     },
     "metadata": {},
     "output_type": "display_data"
    }
   ],
   "source": [
    "# ===================================================================================\n",
    "#                                Accuracy History Plot\n",
    "# ===================================================================================\n",
    "\n",
    "plt.title('model accuracy')\n",
    "plt.plot(hybrid.history['accuracy'])\n",
    "plt.ylabel('accuracy')\n",
    "plt.show()"
   ]
  }
 ],
 "metadata": {
  "kernelspec": {
   "display_name": "Python 3",
   "language": "python",
   "name": "python3"
  },
  "language_info": {
   "codemirror_mode": {
    "name": "ipython",
    "version": 3
   },
   "file_extension": ".py",
   "mimetype": "text/x-python",
   "name": "python",
   "nbconvert_exporter": "python",
   "pygments_lexer": "ipython3",
   "version": "3.8.5"
  }
 },
 "nbformat": 4,
 "nbformat_minor": 5
}
