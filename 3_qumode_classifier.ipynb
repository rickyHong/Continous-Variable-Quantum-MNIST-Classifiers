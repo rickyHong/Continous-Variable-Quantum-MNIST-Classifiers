{
 "cells": [
  {
   "cell_type": "markdown",
   "id": "97559d7b",
   "metadata": {},
   "source": [
    "### Author: Sophie Choe"
   ]
  },
  {
   "cell_type": "markdown",
   "id": "172a17f7",
   "metadata": {},
   "source": [
    "#### Portland State University, Electrical and Computer Engineering\n",
    "February 2022"
   ]
  },
  {
   "cell_type": "markdown",
   "id": "640a011e",
   "metadata": {},
   "source": [
    "Dependencies: keras-nightly==2.5.0.dev2021032900 PennyLane==0.17.0 StrawberryFields==0.18.0 tensorflow-2.4.0-cp38-cp38-macosx_10_9_x86_64.whl"
   ]
  },
  {
   "cell_type": "markdown",
   "id": "c2b1738d",
   "metadata": {},
   "source": [
    "# 3-qumode classifier: 10 classes\n",
    "\n",
    "Classical layers using keras dense and quantum layers using Pennylane"
   ]
  },
  {
   "cell_type": "code",
   "execution_count": 1,
   "id": "417078e3",
   "metadata": {},
   "outputs": [],
   "source": [
    "import tensorflow as tf\n",
    "import tensorflow_datasets as tfds\n",
    "from tensorflow import keras\n",
    "from tensorflow.keras import layers\n",
    "\n",
    "import pennylane as qml\n",
    "import numpy as np\n",
    "\n",
    "import matplotlib.pyplot as plt"
   ]
  },
  {
   "cell_type": "markdown",
   "id": "f3ea851e",
   "metadata": {},
   "source": [
    "## 0. Loading data"
   ]
  },
  {
   "cell_type": "markdown",
   "id": "87c9665d",
   "metadata": {},
   "source": [
    "Normalize pixel values from 0 ~ 255 to 0 ~ 1. "
   ]
  },
  {
   "cell_type": "code",
   "execution_count": 2,
   "id": "9cb00f94",
   "metadata": {},
   "outputs": [],
   "source": [
    "mnist = keras.datasets.mnist\n",
    "\n",
    "# datasets are numpy.ndarrays\n",
    "(X_train, Y_train), (X_test, Y_test) = mnist.load_data()     \n",
    "\n",
    "# normalize the image data\n",
    "X_train, X_test = X_train / 255.0, X_test / 255.0"
   ]
  },
  {
   "cell_type": "markdown",
   "id": "25133838",
   "metadata": {},
   "source": [
    "One hot encode labels. The output vectors from the quantum circuit will be 3^3 = 27, where as the label vectors are of length 10. Hence enlarge label vectors to length 27 and pad them with 17 zeros."
   ]
  },
  {
   "cell_type": "code",
   "execution_count": 3,
   "id": "e192f7c9",
   "metadata": {},
   "outputs": [],
   "source": [
    "def one_hot(labels):  \n",
    "       \n",
    "    depth = 3**3                       # 10 classes + 6 zeros for padding\n",
    "    indices = labels.astype(np.int32)    \n",
    "    one_hot_labels = np.eye(depth)[indices].astype(np.float32) \n",
    "    \n",
    "    return one_hot_labels\n",
    "\n",
    "# one-hot encoded labels, each label of length cutoff dimension**2\n",
    "y_train, y_test = one_hot(Y_train), one_hot(Y_test)\n",
    "\n",
    "# using only 600 samples for training in this experiment\n",
    "n_samples = 600\n",
    "test_samples = 100\n",
    "X_train, X_test, y_train, y_test = X_train[:n_samples], X_test[:test_samples], y_train[:n_samples], y_test[:test_samples]"
   ]
  },
  {
   "cell_type": "markdown",
   "id": "07836c37",
   "metadata": {},
   "source": [
    "## 1. Classical circuit"
   ]
  },
  {
   "cell_type": "markdown",
   "id": "db4bbf8a",
   "metadata": {},
   "source": [
    "Define classical layers using Keras Sequential. Take in 28x28 image matrices, flatten, and output vectors of length 22. 3 hidden layers with ELU activation."
   ]
  },
  {
   "cell_type": "code",
   "execution_count": 2,
   "id": "c345bae0",
   "metadata": {},
   "outputs": [],
   "source": [
    "keras.backend.set_floatx('float32')\n",
    "\n",
    "model = keras.models.Sequential([\n",
    "                                 layers.Flatten(input_shape = (28,28)),\n",
    "                                 layers.Dense(128, activation =\"elu\"),\n",
    "                                 layers.Dense(64, activation =\"elu\"),\n",
    "                                 layers.Dense(32, activation =\"elu\"),\n",
    "                                 layers.Dense(22, activation =\"elu\") \n",
    "                                ])\n",
    "\n",
    "# More than a million parameters for the classical circuit\n",
    "model.summary()"
   ]
  },
  {
   "cell_type": "markdown",
   "id": "fbffdc3c",
   "metadata": {},
   "source": [
    "## 2. Data encoding circuit"
   ]
  },
  {
   "cell_type": "markdown",
   "id": "11799e1a",
   "metadata": {},
   "source": [
    "Convert output vectors of the classical circuit into quantum states. Use the entries of the vectors as paratemeters of continuous variable gates."
   ]
  },
  {
   "cell_type": "code",
   "execution_count": 5,
   "id": "de0894c2",
   "metadata": {},
   "outputs": [],
   "source": [
    "def init_layer(x):\n",
    "    qml.Squeezing(x[0], 0.0, wires=0)\n",
    "    qml.Squeezing(x[1], 0.0, wires=1)\n",
    "    qml.Squeezing(x[2], 0.0, wires=2)\n",
    "    \n",
    "    qml.Beamsplitter(x[3], x[4], wires=[0,1])\n",
    "    qml.Beamsplitter(x[5], x[6], wires=[1,2])\n",
    "\n",
    "    qml.Rotation(x[7], wires=0)\n",
    "    qml.Rotation(x[8], wires=1)\n",
    "    qml.Rotation(x[9], wires=2)\n",
    "   \n",
    "    qml.Displacement(x[10], 0.0, wires=0)\n",
    "    qml.Displacement(x[11], 0.0, wires=1)\n",
    "    qml.Displacement(x[12], 0.0, wires=2)\n",
    " \n",
    "    qml.Kerr(x[13], wires=0)\n",
    "    qml.Kerr(x[14], wires=1)\n",
    "    qml.Kerr(x[15], wires=2)"
   ]
  },
  {
   "cell_type": "markdown",
   "id": "459a6481",
   "metadata": {},
   "source": [
    "## 3. Qauntum neural network circuit"
   ]
  },
  {
   "cell_type": "markdown",
   "id": "fb28a24f",
   "metadata": {},
   "source": [
    "Implementation of |activation(Wx+b)>. \n",
    "linear transformation W: Interferometer 1 (beamsplitters + rotation matrices), Squeezers, Interferometer 2 (beamsplitters + rotation matrices) \n",
    "Bias addition +b: Displacement gates\n",
    "Activation function: Kerr gates"
   ]
  },
  {
   "cell_type": "code",
   "execution_count": 6,
   "id": "9e2f0cfd",
   "metadata": {},
   "outputs": [],
   "source": [
    "def layer(v):\n",
    "    qml.Beamsplitter(v[0], v[1], wires=[0,1])\n",
    "    qml.Beamsplitter(v[2], v[3], wires=[1,2])\n",
    "\n",
    "    qml.Rotation(v[4], wires=0)\n",
    "    qml.Rotation(v[5], wires=1)\n",
    "    qml.Rotation(v[6], wires=2)\n",
    "\n",
    "    qml.Squeezing(v[7], 0.0, wires=0)\n",
    "    qml.Squeezing(v[8], 0.0, wires=1)\n",
    "    qml.Squeezing(v[9], 0.0, wires=2)\n",
    "    \n",
    "    qml.Beamsplitter(v[10], v[11], wires=[0,1])\n",
    "    qml.Beamsplitter(v[12], v[13], wires=[1,2])\n",
    "\n",
    "    qml.Rotation(v[14], wires=0)\n",
    "    qml.Rotation(v[15], wires=1)\n",
    "    qml.Rotation(v[16], wires=2)\n",
    "\n",
    "    qml.Displacement(v[17], 0.0, wires=0)\n",
    "    qml.Displacement(v[18], 0.0, wires=1)\n",
    "    qml.Displacement(v[19], 0.0, wires=2)\n",
    "\n",
    "    qml.Kerr(v[20], wires=0)\n",
    "    qml.Kerr(v[21], wires=1)\n",
    "    qml.Kerr(v[22], wires=2)\n"
   ]
  },
  {
   "cell_type": "markdown",
   "id": "2f7aecb8",
   "metadata": {},
   "source": [
    "## 4. Parameter initialization"
   ]
  },
  {
   "cell_type": "markdown",
   "id": "a9fba2f2",
   "metadata": {},
   "source": [
    "The parameters to the quantum gates are initialized. These are to be optimized through training."
   ]
  },
  {
   "cell_type": "code",
   "execution_count": 7,
   "id": "76a5d56d",
   "metadata": {},
   "outputs": [],
   "source": [
    "def init_weights(layers, modes, active_sd=0.0001, passive_sd=0.1):\n",
    "    \n",
    "    M = 4+3  # Number of interferometer parameters: 2 2-parameter beamsplitters + 3 rotations\n",
    "\n",
    "    int1_weights = tf.random.normal(shape=[layers, M], stddev=passive_sd)\n",
    "    s_weights = tf.random.normal(shape=[layers, modes], stddev=active_sd)\n",
    "    int2_weights = tf.random.normal(shape=[layers, M], stddev=passive_sd)\n",
    "    dr_weights = tf.random.normal(shape=[layers, modes], stddev=active_sd)\n",
    "    k_weights = tf.random.normal(shape=[layers, modes], stddev=active_sd)\n",
    "\n",
    "    weights = tf.concat([int1_weights, s_weights, int2_weights, dr_weights, k_weights], axis=1)\n",
    "    weights = tf.Variable(weights)\n",
    "\n",
    "    return weights"
   ]
  },
  {
   "cell_type": "markdown",
   "id": "ea750ed6",
   "metadata": {},
   "source": [
    "## 5. Quantum device"
   ]
  },
  {
   "cell_type": "markdown",
   "id": "09a0f1b1",
   "metadata": {},
   "source": [
    "For the expression of qumodes in Fock basis, choose a \"strawberryfields.fock\" device. Define the number of qumodes and cutoff dimension. Run the data encoding circuit and quantum neural network circuit. The probability measurement method (qml.probs(wires)) returns vectors of size 3^3 = 27 (cutoff_dim^num_modes)."
   ]
  },
  {
   "cell_type": "code",
   "execution_count": null,
   "id": "f86930f3",
   "metadata": {},
   "outputs": [],
   "source": [
    "num_modes = 3\n",
    "num_basis = 3\n",
    "\n",
    "dev = qml.device(\"strawberryfields.fock\", wires=num_modes, cutoff_dim=num_basis) \n",
    "\n",
    "@qml.qnode(dev, interface=\"tf\")\n",
    "def quantum_nn(inputs, var):\n",
    "    init_layer(inputs)            # Encode input x into quantum state\n",
    "\n",
    "    for v in var:                 # iterative quantum layers\n",
    "        layer(v)\n",
    "\n",
    "    return qml.probs(wires=[0, 1, 2])  # Measurement "
   ]
  },
  {
   "cell_type": "markdown",
   "id": "545255a7",
   "metadata": {},
   "source": [
    "## 6. Hybrid circuit"
   ]
  },
  {
   "cell_type": "markdown",
   "id": "4805032e",
   "metadata": {},
   "source": [
    "Construct a model circuit (classical + quantum) by converting the quantum layer to a Keras layer."
   ]
  },
  {
   "cell_type": "code",
   "execution_count": 8,
   "id": "bb3d72be",
   "metadata": {},
   "outputs": [],
   "source": [
    "num_layers = 4\n",
    "\n",
    "# initialize weights for quantum layers\n",
    "weights = init_weights(num_layers, num_modes)\n",
    "\n",
    "# Convert the quantum layer to a Keras layer\n",
    "shape_tup = weights.shape\n",
    "weight_shapes = {'var': shape_tup}\n",
    "qlayer = qml.qnn.KerasLayer(quantum_nn, weight_shapes, output_dim = 4)\n",
    "\n",
    "# Add to the classical sequential model\n",
    "model.add(qlayer)"
   ]
  },
  {
   "cell_type": "markdown",
   "id": "3173f00d",
   "metadata": {},
   "source": [
    "## 7. Loss and optimizer"
   ]
  },
  {
   "cell_type": "markdown",
   "id": "86ace49c",
   "metadata": {},
   "source": [
    "Use Keras' built in loss function and optimizer for parameter updates."
   ]
  },
  {
   "cell_type": "code",
   "execution_count": null,
   "id": "7c2ad9aa",
   "metadata": {},
   "outputs": [],
   "source": [
    "opt = keras.optimizers.SGD(lr = 0.03)\n",
    "model.compile(opt, loss = 'categorical_crossentropy', metrics =['accuracy'])\n",
    "model.summary()"
   ]
  },
  {
   "cell_type": "markdown",
   "id": "7ac567dd",
   "metadata": {},
   "source": [
    "## 8. Training"
   ]
  },
  {
   "cell_type": "code",
   "execution_count": 9,
   "id": "44b23d51",
   "metadata": {},
   "outputs": [
    {
     "name": "stdout",
     "output_type": "stream",
     "text": [
      "Epoch 1/100\n",
      "10/10 [==============================] - 5608s 473s/step - loss: 3.3546 - accuracy: 0.1006 - val_loss: 2.0799 - val_accuracy: 0.2300\n",
      "Epoch 2/100\n",
      "10/10 [==============================] - 7212s 776s/step - loss: 2.0746 - accuracy: 0.2931 - val_loss: 2.0503 - val_accuracy: 0.3400\n",
      "Epoch 3/100\n",
      "10/10 [==============================] - 5043s 536s/step - loss: 1.9194 - accuracy: 0.4671 - val_loss: 1.7167 - val_accuracy: 0.5400\n",
      "Epoch 4/100\n",
      "10/10 [==============================] - 35711s 3942s/step - loss: 1.6625 - accuracy: 0.5672 - val_loss: 1.6558 - val_accuracy: 0.5800\n",
      "Epoch 5/100\n",
      "10/10 [==============================] - 3864s 403s/step - loss: 1.5560 - accuracy: 0.6202 - val_loss: 1.5710 - val_accuracy: 0.6400\n",
      "Epoch 6/100\n",
      "10/10 [==============================] - 4490s 475s/step - loss: 1.4570 - accuracy: 0.6860 - val_loss: 1.5156 - val_accuracy: 0.6800\n",
      "Epoch 7/100\n",
      "10/10 [==============================] - 2669s 270s/step - loss: 1.4122 - accuracy: 0.6804 - val_loss: 1.4843 - val_accuracy: 0.6800\n",
      "Epoch 8/100\n",
      "10/10 [==============================] - 2105s 208s/step - loss: 1.3619 - accuracy: 0.7070 - val_loss: 1.4731 - val_accuracy: 0.6900\n",
      "Epoch 9/100\n",
      "10/10 [==============================] - 3802s 400s/step - loss: 1.2786 - accuracy: 0.7392 - val_loss: 1.4247 - val_accuracy: 0.7000\n",
      "Epoch 10/100\n",
      "10/10 [==============================] - 2239s 222s/step - loss: 1.2385 - accuracy: 0.7659 - val_loss: 1.4225 - val_accuracy: 0.7000\n",
      "Epoch 11/100\n",
      "10/10 [==============================] - 3062s 314s/step - loss: 1.1864 - accuracy: 0.7820 - val_loss: 1.4201 - val_accuracy: 0.7100\n",
      "Epoch 12/100\n",
      "10/10 [==============================] - 2121s 207s/step - loss: 1.1683 - accuracy: 0.7964 - val_loss: 1.3337 - val_accuracy: 0.7400\n",
      "Epoch 13/100\n",
      "10/10 [==============================] - 2360s 244s/step - loss: 1.1680 - accuracy: 0.7968 - val_loss: 1.3305 - val_accuracy: 0.7300\n",
      "Epoch 14/100\n",
      "10/10 [==============================] - 1763s 172s/step - loss: 1.1360 - accuracy: 0.7824 - val_loss: 1.3226 - val_accuracy: 0.7500\n",
      "Epoch 15/100\n",
      "10/10 [==============================] - 2279s 235s/step - loss: 1.0930 - accuracy: 0.8196 - val_loss: 1.4752 - val_accuracy: 0.6600\n",
      "Epoch 16/100\n",
      "10/10 [==============================] - 2199s 225s/step - loss: 1.1411 - accuracy: 0.7984 - val_loss: 1.4259 - val_accuracy: 0.6900\n",
      "Epoch 17/100\n",
      "10/10 [==============================] - 2000s 202s/step - loss: 1.1713 - accuracy: 0.7700 - val_loss: 1.3629 - val_accuracy: 0.7200\n",
      "Epoch 18/100\n",
      "10/10 [==============================] - 1781s 177s/step - loss: 1.0614 - accuracy: 0.8047 - val_loss: 1.4286 - val_accuracy: 0.7800\n",
      "Epoch 19/100\n",
      "10/10 [==============================] - 1924s 191s/step - loss: 1.0787 - accuracy: 0.8172 - val_loss: 1.2956 - val_accuracy: 0.7600\n",
      "Epoch 20/100\n",
      "10/10 [==============================] - 1751s 176s/step - loss: 0.9686 - accuracy: 0.8691 - val_loss: 1.2768 - val_accuracy: 0.7200\n",
      "Epoch 21/100\n",
      "10/10 [==============================] - 1728s 169s/step - loss: 1.0255 - accuracy: 0.8318 - val_loss: 1.2671 - val_accuracy: 0.7800\n",
      "Epoch 22/100\n",
      "10/10 [==============================] - 2735s 288s/step - loss: 0.9955 - accuracy: 0.8425 - val_loss: 1.2660 - val_accuracy: 0.7700\n",
      "Epoch 23/100\n",
      "10/10 [==============================] - 1979s 206s/step - loss: 0.9573 - accuracy: 0.8728 - val_loss: 1.2722 - val_accuracy: 0.7500\n",
      "Epoch 24/100\n",
      "10/10 [==============================] - 1441s 151s/step - loss: 0.9340 - accuracy: 0.8714 - val_loss: 1.2246 - val_accuracy: 0.7700\n",
      "Epoch 25/100\n",
      "10/10 [==============================] - 2239s 127s/step - loss: 0.9324 - accuracy: 0.8859 - val_loss: 1.2449 - val_accuracy: 0.8000\n",
      "Epoch 26/100\n",
      "10/10 [==============================] - 1358s 136s/step - loss: 0.9036 - accuracy: 0.8801 - val_loss: 1.2363 - val_accuracy: 0.7900\n",
      "Epoch 27/100\n",
      "10/10 [==============================] - 2126s 222s/step - loss: 0.8761 - accuracy: 0.9095 - val_loss: 1.2922 - val_accuracy: 0.7800\n",
      "Epoch 28/100\n",
      "10/10 [==============================] - 1403s 139s/step - loss: 0.9560 - accuracy: 0.8565 - val_loss: 1.2154 - val_accuracy: 0.7900\n",
      "Epoch 29/100\n",
      "10/10 [==============================] - 1494s 148s/step - loss: 0.8597 - accuracy: 0.9151 - val_loss: 1.2196 - val_accuracy: 0.7800\n",
      "Epoch 30/100\n",
      "10/10 [==============================] - 15688s 1726s/step - loss: 0.8847 - accuracy: 0.9116 - val_loss: 1.1991 - val_accuracy: 0.8000\n",
      "Epoch 31/100\n",
      "10/10 [==============================] - 13561s 1328s/step - loss: 0.8259 - accuracy: 0.9150 - val_loss: 1.2206 - val_accuracy: 0.7800\n",
      "Epoch 32/100\n",
      "10/10 [==============================] - 2329s 244s/step - loss: 0.9067 - accuracy: 0.8641 - val_loss: 1.2548 - val_accuracy: 0.7500\n",
      "Epoch 33/100\n",
      "10/10 [==============================] - 1402s 140s/step - loss: 0.8661 - accuracy: 0.9064 - val_loss: 1.3091 - val_accuracy: 0.7500\n",
      "Epoch 34/100\n",
      "10/10 [==============================] - 4344s 468s/step - loss: 0.8432 - accuracy: 0.9113 - val_loss: 1.2071 - val_accuracy: 0.7900\n",
      "Epoch 35/100\n",
      "10/10 [==============================] - 1027s 100s/step - loss: 0.8234 - accuracy: 0.8991 - val_loss: 1.1866 - val_accuracy: 0.7600\n",
      "Epoch 36/100\n",
      "10/10 [==============================] - 932s 93s/step - loss: 0.7888 - accuracy: 0.9411 - val_loss: 1.2180 - val_accuracy: 0.7600\n",
      "Epoch 37/100\n",
      "10/10 [==============================] - 908s 89s/step - loss: 0.7736 - accuracy: 0.9432 - val_loss: 1.2164 - val_accuracy: 0.8000\n",
      "Epoch 38/100\n",
      "10/10 [==============================] - 1454s 152s/step - loss: 0.8189 - accuracy: 0.9063 - val_loss: 1.1785 - val_accuracy: 0.8200\n",
      "Epoch 39/100\n",
      "10/10 [==============================] - 978s 97s/step - loss: 0.7732 - accuracy: 0.9418 - val_loss: 1.1584 - val_accuracy: 0.7900\n",
      "Epoch 40/100\n",
      "10/10 [==============================] - 957s 95s/step - loss: 0.7816 - accuracy: 0.9264 - val_loss: 1.1560 - val_accuracy: 0.8000\n",
      "Epoch 41/100\n",
      "10/10 [==============================] - 1233s 125s/step - loss: 0.7372 - accuracy: 0.9371 - val_loss: 1.1823 - val_accuracy: 0.7900\n",
      "Epoch 42/100\n",
      "10/10 [==============================] - 1363s 141s/step - loss: 0.7810 - accuracy: 0.8991 - val_loss: 1.1810 - val_accuracy: 0.7400\n",
      "Epoch 43/100\n",
      "10/10 [==============================] - 1013s 101s/step - loss: 0.7460 - accuracy: 0.9277 - val_loss: 1.2031 - val_accuracy: 0.7700\n",
      "Epoch 44/100\n",
      "10/10 [==============================] - 1090s 109s/step - loss: 0.7884 - accuracy: 0.9377 - val_loss: 1.1752 - val_accuracy: 0.7700\n",
      "Epoch 45/100\n",
      "10/10 [==============================] - 1054s 105s/step - loss: 0.7334 - accuracy: 0.9422 - val_loss: 1.2483 - val_accuracy: 0.7400\n",
      "Epoch 46/100\n",
      "10/10 [==============================] - 1112s 110s/step - loss: 0.7198 - accuracy: 0.9482 - val_loss: 1.1711 - val_accuracy: 0.7000\n",
      "Epoch 47/100\n",
      "10/10 [==============================] - 1092s 108s/step - loss: 0.7395 - accuracy: 0.9287 - val_loss: 1.2536 - val_accuracy: 0.7700\n",
      "Epoch 48/100\n",
      "10/10 [==============================] - 942s 91s/step - loss: 0.7549 - accuracy: 0.9394 - val_loss: 1.1657 - val_accuracy: 0.7800\n",
      "Epoch 49/100\n",
      "10/10 [==============================] - 863s 84s/step - loss: 0.7426 - accuracy: 0.9332 - val_loss: 1.1591 - val_accuracy: 0.7600\n",
      "Epoch 50/100\n",
      "10/10 [==============================] - 922s 93s/step - loss: 0.7087 - accuracy: 0.9513 - val_loss: 1.1906 - val_accuracy: 0.7500\n",
      "Epoch 51/100\n",
      "10/10 [==============================] - 2041s 216s/step - loss: 0.6981 - accuracy: 0.9442 - val_loss: 1.1484 - val_accuracy: 0.7600\n",
      "Epoch 52/100\n",
      "10/10 [==============================] - 933s 94s/step - loss: 0.7203 - accuracy: 0.9517 - val_loss: 1.1274 - val_accuracy: 0.7700\n",
      "Epoch 53/100\n",
      "10/10 [==============================] - 1006s 100s/step - loss: 0.6692 - accuracy: 0.9734 - val_loss: 1.1005 - val_accuracy: 0.7600\n",
      "Epoch 54/100\n",
      "10/10 [==============================] - 1029s 102s/step - loss: 0.6883 - accuracy: 0.9485 - val_loss: 1.0960 - val_accuracy: 0.7700\n",
      "Epoch 55/100\n",
      "10/10 [==============================] - 1050s 104s/step - loss: 0.6509 - accuracy: 0.9430 - val_loss: 1.0919 - val_accuracy: 0.7800\n",
      "Epoch 56/100\n",
      "10/10 [==============================] - 1044s 104s/step - loss: 0.6437 - accuracy: 0.9427 - val_loss: 1.2037 - val_accuracy: 0.7300\n",
      "Epoch 57/100\n",
      "10/10 [==============================] - 1042s 103s/step - loss: 0.6667 - accuracy: 0.9580 - val_loss: 1.3088 - val_accuracy: 0.7400\n",
      "Epoch 58/100\n",
      "10/10 [==============================] - 1039s 103s/step - loss: 0.7569 - accuracy: 0.9035 - val_loss: 1.1079 - val_accuracy: 0.7500\n",
      "Epoch 59/100\n",
      "10/10 [==============================] - 1052s 104s/step - loss: 0.6367 - accuracy: 0.9603 - val_loss: 1.1280 - val_accuracy: 0.7500\n",
      "Epoch 60/100\n",
      "10/10 [==============================] - 1243s 126s/step - loss: 0.6361 - accuracy: 0.9705 - val_loss: 1.1349 - val_accuracy: 0.7600\n",
      "Epoch 61/100\n",
      "10/10 [==============================] - 1102s 112s/step - loss: 0.6195 - accuracy: 0.9796 - val_loss: 1.1465 - val_accuracy: 0.7500\n",
      "Epoch 62/100\n",
      "10/10 [==============================] - 915s 91s/step - loss: 0.6111 - accuracy: 0.9772 - val_loss: 1.1081 - val_accuracy: 0.7800\n",
      "Epoch 63/100\n",
      "10/10 [==============================] - 939s 93s/step - loss: 0.5993 - accuracy: 0.9746 - val_loss: 1.1349 - val_accuracy: 0.7900\n",
      "Epoch 64/100\n",
      "10/10 [==============================] - 913s 91s/step - loss: 0.5965 - accuracy: 0.9708 - val_loss: 1.1045 - val_accuracy: 0.7400\n",
      "Epoch 65/100\n",
      "10/10 [==============================] - 922s 92s/step - loss: 0.6081 - accuracy: 0.9693 - val_loss: 1.1562 - val_accuracy: 0.7300\n",
      "Epoch 66/100\n",
      "10/10 [==============================] - 1670s 175s/step - loss: 0.6033 - accuracy: 0.9631 - val_loss: 1.1973 - val_accuracy: 0.7300\n",
      "Epoch 67/100\n",
      "10/10 [==============================] - 883s 88s/step - loss: 0.6334 - accuracy: 0.9827 - val_loss: 1.0903 - val_accuracy: 0.7600\n",
      "Epoch 68/100\n",
      "10/10 [==============================] - 949s 95s/step - loss: 0.6148 - accuracy: 0.9786 - val_loss: 1.0783 - val_accuracy: 0.7700\n",
      "Epoch 69/100\n",
      "10/10 [==============================] - 993s 99s/step - loss: 0.5753 - accuracy: 0.9807 - val_loss: 1.0944 - val_accuracy: 0.7400\n",
      "Epoch 70/100\n",
      "10/10 [==============================] - 1045s 104s/step - loss: 0.5839 - accuracy: 0.9676 - val_loss: 1.0636 - val_accuracy: 0.7800\n",
      "Epoch 71/100\n",
      "10/10 [==============================] - 1100s 111s/step - loss: 0.5795 - accuracy: 0.9769 - val_loss: 1.0930 - val_accuracy: 0.7600\n",
      "Epoch 72/100\n",
      "10/10 [==============================] - 975s 96s/step - loss: 0.5849 - accuracy: 0.9808 - val_loss: 1.0647 - val_accuracy: 0.7700\n",
      "Epoch 73/100\n",
      "10/10 [==============================] - 952s 94s/step - loss: 0.5558 - accuracy: 0.9871 - val_loss: 1.0948 - val_accuracy: 0.7600\n",
      "Epoch 74/100\n",
      "10/10 [==============================] - 1471s 154s/step - loss: 0.5559 - accuracy: 0.9901 - val_loss: 1.0858 - val_accuracy: 0.7400\n",
      "Epoch 75/100\n",
      "10/10 [==============================] - 1188s 117s/step - loss: 0.5435 - accuracy: 0.9880 - val_loss: 1.1057 - val_accuracy: 0.7700\n",
      "Epoch 76/100\n",
      "10/10 [==============================] - 35408s 3921s/step - loss: 0.5554 - accuracy: 0.9817 - val_loss: 1.0783 - val_accuracy: 0.7700\n",
      "Epoch 77/100\n",
      "10/10 [==============================] - 828s 82s/step - loss: 0.5244 - accuracy: 0.9910 - val_loss: 1.1209 - val_accuracy: 0.7400\n",
      "Epoch 78/100\n",
      "10/10 [==============================] - 857s 86s/step - loss: 0.6077 - accuracy: 0.9531 - val_loss: 1.0950 - val_accuracy: 0.7700\n",
      "Epoch 79/100\n",
      "10/10 [==============================] - 851s 83s/step - loss: 0.5422 - accuracy: 0.9853 - val_loss: 1.0897 - val_accuracy: 0.7500\n",
      "Epoch 80/100\n",
      "10/10 [==============================] - 863s 87s/step - loss: 0.5326 - accuracy: 0.9765 - val_loss: 1.0569 - val_accuracy: 0.7800\n",
      "Epoch 81/100\n",
      "10/10 [==============================] - 826s 80s/step - loss: 0.5489 - accuracy: 0.9401 - val_loss: 1.0999 - val_accuracy: 0.7100\n",
      "Epoch 82/100\n",
      "10/10 [==============================] - 897s 87s/step - loss: 0.5446 - accuracy: 0.9685 - val_loss: 1.0423 - val_accuracy: 0.7600\n",
      "Epoch 83/100\n",
      "10/10 [==============================] - 949s 95s/step - loss: 0.5198 - accuracy: 0.9873 - val_loss: 1.0680 - val_accuracy: 0.7800\n",
      "Epoch 84/100\n",
      "10/10 [==============================] - 812s 81s/step - loss: 0.5570 - accuracy: 0.9741 - val_loss: 1.0811 - val_accuracy: 0.7400\n",
      "Epoch 85/100\n",
      "10/10 [==============================] - 3842s 418s/step - loss: 0.5095 - accuracy: 0.9814 - val_loss: 1.0840 - val_accuracy: 0.7500\n",
      "Epoch 86/100\n",
      "10/10 [==============================] - 776s 77s/step - loss: 0.5101 - accuracy: 0.9787 - val_loss: 1.0541 - val_accuracy: 0.8000\n",
      "Epoch 87/100\n",
      "10/10 [==============================] - 822s 83s/step - loss: 0.5076 - accuracy: 0.9875 - val_loss: 1.0443 - val_accuracy: 0.7500\n",
      "Epoch 88/100\n",
      "10/10 [==============================] - 825s 82s/step - loss: 0.4907 - accuracy: 0.9843 - val_loss: 1.0740 - val_accuracy: 0.7400\n",
      "Epoch 89/100\n",
      "10/10 [==============================] - 789s 78s/step - loss: 0.5398 - accuracy: 0.9929 - val_loss: 1.0635 - val_accuracy: 0.7500\n",
      "Epoch 90/100\n",
      "10/10 [==============================] - 755s 75s/step - loss: 0.4949 - accuracy: 0.9719 - val_loss: 1.0553 - val_accuracy: 0.7700\n",
      "Epoch 91/100\n",
      "10/10 [==============================] - 996s 99s/step - loss: 0.4968 - accuracy: 0.9865 - val_loss: 1.0218 - val_accuracy: 0.7500\n",
      "Epoch 92/100\n",
      "10/10 [==============================] - 879s 87s/step - loss: 0.4962 - accuracy: 0.9931 - val_loss: 1.0462 - val_accuracy: 0.7700\n",
      "Epoch 93/100\n",
      "10/10 [==============================] - 833s 83s/step - loss: 0.4784 - accuracy: 0.9870 - val_loss: 1.0926 - val_accuracy: 0.7500\n",
      "Epoch 94/100\n",
      "10/10 [==============================] - 836s 83s/step - loss: 0.4866 - accuracy: 0.9815 - val_loss: 1.0364 - val_accuracy: 0.7700\n",
      "Epoch 95/100\n",
      "10/10 [==============================] - 841s 84s/step - loss: 0.4643 - accuracy: 0.9772 - val_loss: 1.0289 - val_accuracy: 0.7500\n",
      "Epoch 96/100\n",
      "10/10 [==============================] - 768s 75s/step - loss: 0.4671 - accuracy: 0.9773 - val_loss: 1.0246 - val_accuracy: 0.7500\n",
      "Epoch 97/100\n",
      "10/10 [==============================] - 1402s 125s/step - loss: 0.4839 - accuracy: 0.9848 - val_loss: 1.0218 - val_accuracy: 0.7300\n",
      "Epoch 98/100\n",
      "10/10 [==============================] - 1248s 96s/step - loss: 0.4717 - accuracy: 0.9909 - val_loss: 1.0527 - val_accuracy: 0.7600\n",
      "Epoch 99/100\n",
      "10/10 [==============================] - 943s 92s/step - loss: 0.4643 - accuracy: 0.9852 - val_loss: 1.0321 - val_accuracy: 0.7700\n",
      "Epoch 100/100\n",
      "10/10 [==============================] - 763s 76s/step - loss: 0.4567 - accuracy: 0.9804 - val_loss: 1.0128 - val_accuracy: 0.7800\n"
     ]
    }
   ],
   "source": [
    "hybrid = model.fit(X_train, \n",
    "                   y_train,\n",
    "                   epochs = 100,\n",
    "                   batch_size = 64,\n",
    "                   shuffle = True, \n",
    "                   validation_data = (X_test, y_test))"
   ]
  },
  {
   "cell_type": "code",
   "execution_count": null,
   "id": "8e77cb77",
   "metadata": {},
   "outputs": [],
   "source": [
    "model.summary()"
   ]
  },
  {
   "cell_type": "markdown",
   "id": "5c6e0daa",
   "metadata": {},
   "source": [
    "## 9. Loss and accuracy graphs"
   ]
  },
  {
   "cell_type": "code",
   "execution_count": 11,
   "id": "cfd7c39c",
   "metadata": {},
   "outputs": [
    {
     "data": {
      "image/png": "[encoded data removed]",
      "text/plain": [
       "<Figure size 640x480 with 1 Axes>"
      ]
     },
     "metadata": {},
     "output_type": "display_data"
    }
   ],
   "source": [
    "# ===================================================================================\n",
    "#                                Loss History Plot\n",
    "# ===================================================================================\n",
    "\n",
    "plt.title('model loss')\n",
    "plt.plot(hybrid.history['loss'], '-g')\n",
    "plt.ylabel('loss')\n",
    "plt.show()"
   ]
  },
  {
   "cell_type": "code",
   "execution_count": 12,
   "id": "cc6435a2",
   "metadata": {},
   "outputs": [
    {
     "data": {
      "image/png": "[encoded data removed]",
      "text/plain": [
       "<Figure size 640x480 with 1 Axes>"
      ]
     },
     "metadata": {},
     "output_type": "display_data"
    }
   ],
   "source": [
    "# ===================================================================================\n",
    "#                                Accuracy History Plot\n",
    "# ===================================================================================\n",
    "\n",
    "plt.title('model accuracy')\n",
    "plt.plot(hybrid.history['accuracy'])\n",
    "plt.ylabel('accuracy')\n",
    "plt.show()"
   ]
  }
 ],
 "metadata": {
  "kernelspec": {
   "display_name": "Python 3",
   "language": "python",
   "name": "python3"
  },
  "language_info": {
   "codemirror_mode": {
    "name": "ipython",
    "version": 3
   },
   "file_extension": ".py",
   "mimetype": "text/x-python",
   "name": "python",
   "nbconvert_exporter": "python",
   "pygments_lexer": "ipython3",
   "version": "3.8.5"
  }
 },
 "nbformat": 4,
 "nbformat_minor": 5
}
