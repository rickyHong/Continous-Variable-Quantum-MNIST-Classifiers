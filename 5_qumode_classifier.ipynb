{
 "cells": [
  {
   "cell_type": "markdown",
   "id": "211f864b",
   "metadata": {},
   "source": [
    "### Author: Sophie Choe"
   ]
  },
  {
   "cell_type": "markdown",
   "id": "bb6d2715",
   "metadata": {},
   "source": [
    "#### Portland State University, Electrical and Computer Engineering\n",
    "February 2022"
   ]
  },
  {
   "cell_type": "markdown",
   "id": "58a59281",
   "metadata": {},
   "source": [
    "Dependencies: keras-nightly==2.5.0.dev2021032900 PennyLane==0.17.0 StrawberryFields==0.18.0 tensorflow-2.4.0-cp38-cp38-macosx_10_9_x86_64.whl"
   ]
  },
  {
   "cell_type": "markdown",
   "id": "c2b1738d",
   "metadata": {},
   "source": [
    "# 5-qumode Classifier\n",
    "\n",
    "Classical layers using keras dense and quantum layers using Pennylane"
   ]
  },
  {
   "cell_type": "code",
   "execution_count": 1,
   "id": "417078e3",
   "metadata": {},
   "outputs": [],
   "source": [
    "import tensorflow as tf\n",
    "import tensorflow_datasets as tfds\n",
    "from tensorflow import keras\n",
    "from tensorflow.keras import layers\n",
    "\n",
    "import pennylane as qml\n",
    "import numpy as np\n",
    "\n",
    "import matplotlib.pyplot as plt"
   ]
  },
  {
   "cell_type": "markdown",
   "id": "f6094394",
   "metadata": {},
   "source": [
    "## 0. Loading data"
   ]
  },
  {
   "cell_type": "code",
   "execution_count": 2,
   "id": "9cb00f94",
   "metadata": {},
   "outputs": [],
   "source": [
    "mnist = keras.datasets.mnist\n",
    "\n",
    "# datasets are numpy.ndarrays\n",
    "(X_train, Y_train), (X_test, Y_test) = mnist.load_data()     \n",
    "\n",
    "# normalize the image data\n",
    "X_train, X_test = X_train / 255.0, X_test / 255.0"
   ]
  },
  {
   "cell_type": "code",
   "execution_count": 3,
   "id": "e192f7c9",
   "metadata": {},
   "outputs": [],
   "source": [
    "def one_hot(labels):  \n",
    "       \n",
    "    depth = 2**5                      # 2^5 = 32. 10 classes + 22 zeros for padding\n",
    "    indices = labels.astype(np.int32)    \n",
    "    one_hot_labels = np.eye(depth)[indices].astype(np.float32) \n",
    "    \n",
    "    return one_hot_labels\n",
    "\n",
    "# one-hot encoded labels, each label of length cutoff dimension**2\n",
    "y_train, y_test = one_hot(Y_train), one_hot(Y_test)\n",
    "\n",
    "# using only 600 samples for training in this experiment\n",
    "n_samples = 600\n",
    "test_samples = 100\n",
    "X_train, X_test, y_train, y_test = X_train[:n_samples], X_test[:test_samples], y_train[:n_samples], y_test[:test_samples]"
   ]
  },
  {
   "cell_type": "markdown",
   "id": "17cb802a",
   "metadata": {},
   "source": [
    "## 1. Classical circuit"
   ]
  },
  {
   "cell_type": "code",
   "execution_count": 4,
   "id": "c345bae0",
   "metadata": {},
   "outputs": [],
   "source": [
    "keras.backend.set_floatx('float32')\n",
    "\n",
    "model = keras.models.Sequential([\n",
    "                                 layers.Flatten(input_shape = (28,28)),\n",
    "                                 layers.Dense(128, activation =\"elu\"),\n",
    "                                 layers.Dense(64, activation =\"elu\"),\n",
    "                                 layers.Dense(38, activation =\"elu\"),\n",
    "                                ])\n",
    "\n",
    "# More than a million parameters for the classical circuit\n",
    "model.summary()"
   ]
  },
  {
   "cell_type": "markdown",
   "id": "630d3d40",
   "metadata": {},
   "source": [
    "## 2. Quantum data encoding"
   ]
  },
  {
   "cell_type": "code",
   "execution_count": 5,
   "id": "de0894c2",
   "metadata": {},
   "outputs": [],
   "source": [
    "def encode_data(x):\n",
    "    qml.Squeezing(x[0], x[1], wires=0)\n",
    "    qml.Squeezing(x[2], x[3], wires=1)\n",
    "    qml.Squeezing(x[4], x[5], wires=2)\n",
    "    qml.Squeezing(x[6], x[7], wires=3)\n",
    "    qml.Squeezing(x[8], x[9], wires=4)    \n",
    "    \n",
    "    qml.Beamsplitter(x[10], x[11], wires=[0,1])\n",
    "    qml.Beamsplitter(x[12], x[13], wires=[1,2])\n",
    "    qml.Beamsplitter(x[14], x[15], wires=[2,3])\n",
    "    qml.Beamsplitter(x[16], x[17], wires=[3,4])    \n",
    "\n",
    "    qml.Rotation(x[18], wires=0)\n",
    "    qml.Rotation(x[19], wires=1)\n",
    "    qml.Rotation(x[20], wires=2)\n",
    "    qml.Rotation(x[21], wires=3)\n",
    "    qml.Rotation(x[22], wires=4)\n",
    "   \n",
    "    qml.Displacement(x[23], x[24], wires=0)\n",
    "    qml.Displacement(x[25], x[26], wires=1)\n",
    "    qml.Displacement(x[27], x[28], wires=2)\n",
    "    qml.Displacement(x[29], x[30], wires=3)\n",
    "    qml.Displacement(x[31], x[32], wires=4)    \n",
    " \n",
    "    qml.Kerr(x[33], wires=0)\n",
    "    qml.Kerr(x[34], wires=1)\n",
    "    qml.Kerr(x[35], wires=2)\n",
    "    qml.Kerr(x[36], wires=3)\n",
    "    qml.Kerr(x[37], wires=4)"
   ]
  },
  {
   "cell_type": "markdown",
   "id": "da8c7870",
   "metadata": {},
   "source": [
    "## 3. Quantum neural network circuit"
   ]
  },
  {
   "cell_type": "code",
   "execution_count": 6,
   "id": "9e2f0cfd",
   "metadata": {},
   "outputs": [],
   "source": [
    "def qnn_layer(v):\n",
    "    # Interferometer 1\n",
    "    qml.Beamsplitter(v[0], v[1], wires=[0,1])\n",
    "    qml.Beamsplitter(v[2], v[3], wires=[1,2])\n",
    "    qml.Beamsplitter(v[4], v[5], wires=[2,3])\n",
    "    qml.Beamsplitter(v[6], v[7], wires=[3,4])    \n",
    "\n",
    "    qml.Rotation(v[8], wires=0)\n",
    "    qml.Rotation(v[9], wires=1)\n",
    "    qml.Rotation(v[10], wires=2)\n",
    "    qml.Rotation(v[11], wires=3)\n",
    "    qml.Rotation(v[12], wires=4)\n",
    "    \n",
    "    # Squeezers\n",
    "    qml.Squeezing(v[13], 0.0, wires=0)\n",
    "    qml.Squeezing(v[14], 0.0, wires=1)\n",
    "    qml.Squeezing(v[15], 0.0, wires=2)\n",
    "    qml.Squeezing(v[16], 0.0, wires=3)\n",
    "    qml.Squeezing(v[17], 0.0, wires=4)\n",
    "    \n",
    "    # Interferometer 2\n",
    "    qml.Beamsplitter(v[18], v[19], wires=[0,1])\n",
    "    qml.Beamsplitter(v[20], v[21], wires=[1,2])\n",
    "    qml.Beamsplitter(v[22], v[23], wires=[2,3])\n",
    "    qml.Beamsplitter(v[24], v[25], wires=[3,4])\n",
    "\n",
    "    qml.Rotation(v[26], wires=0)\n",
    "    qml.Rotation(v[27], wires=1)\n",
    "    qml.Rotation(v[28], wires=2)\n",
    "    qml.Rotation(v[29], wires=3)\n",
    "    qml.Rotation(v[30], wires=4)    \n",
    "\n",
    "    # Bias addition\n",
    "    qml.Displacement(v[31], 0.0, wires=0)\n",
    "    qml.Displacement(v[32], 0.0, wires=1)\n",
    "    qml.Displacement(v[33], 0.0, wires=2)\n",
    "    qml.Displacement(v[34], 0.0, wires=3)\n",
    "    qml.Displacement(v[35], 0.0, wires=4)    \n",
    "\n",
    "    # Non-linear activation function\n",
    "    qml.Kerr(v[36], wires=0)\n",
    "    qml.Kerr(v[37], wires=1)\n",
    "    qml.Kerr(v[38], wires=2)\n",
    "    qml.Kerr(v[39], wires=3)\n",
    "    qml.Kerr(v[40], wires=4)"
   ]
  },
  {
   "cell_type": "markdown",
   "id": "3cbdcb4f",
   "metadata": {},
   "source": [
    "## 4. Parameter initialization"
   ]
  },
  {
   "cell_type": "code",
   "execution_count": 7,
   "id": "76a5d56d",
   "metadata": {},
   "outputs": [],
   "source": [
    "def init_weights(layers, modes, active_sd=0.0001, passive_sd=0.1):\n",
    "    \n",
    "    M = 8+5  # Number of interferometer parameters: 4 2-parameter beamsplitters + 5 rotations\n",
    "\n",
    "    int1_weights = tf.random.normal(shape=[layers, M], stddev=passive_sd)\n",
    "    s_weights = tf.random.normal(shape=[layers, modes], stddev=active_sd)\n",
    "    int2_weights = tf.random.normal(shape=[layers, M], stddev=passive_sd)\n",
    "    dr_weights = tf.random.normal(shape=[layers, modes], stddev=active_sd)\n",
    "    k_weights = tf.random.normal(shape=[layers, modes], stddev=active_sd)\n",
    "\n",
    "    weights = tf.concat([int1_weights, s_weights, int2_weights, dr_weights, k_weights], axis=1)\n",
    "    weights = tf.Variable(weights)\n",
    "\n",
    "    return weights\n",
    "\n"
   ]
  },
  {
   "cell_type": "markdown",
   "id": "08b298cb",
   "metadata": {},
   "source": [
    "## 5. Quantum device"
   ]
  },
  {
   "cell_type": "markdown",
   "id": "33002806",
   "metadata": {},
   "source": [
    "For continuous variable Fock-basis computing, we need a \"strawberryfields.fock\" device. Define quantum nerual network circuit, composed of data encoding and neural network."
   ]
  },
  {
   "cell_type": "code",
   "execution_count": null,
   "id": "efa9729d",
   "metadata": {},
   "outputs": [],
   "source": [
    "num_modes = 5\n",
    "num_basis = 2\n",
    "\n",
    "# select a devide \n",
    "dev = qml.device(\"strawberryfields.fock\", wires=num_modes, cutoff_dim=num_basis) \n",
    "\n",
    "@qml.qnode(dev, interface=\"tf\")\n",
    "def quantum_nn(inputs, var):\n",
    "    # Encode input x into quantum state\n",
    "    encode_data(inputs)\n",
    "\n",
    "    # iterative quantum layers\n",
    "    for v in var:\n",
    "        qnn_layer(v)\n",
    "\n",
    "    return qml.probs(wires=[0, 1, 2, 3, 4])"
   ]
  },
  {
   "cell_type": "markdown",
   "id": "46bb9458",
   "metadata": {},
   "source": [
    "## 6. Hybrid circuit"
   ]
  },
  {
   "cell_type": "code",
   "execution_count": 8,
   "id": "bb3d72be",
   "metadata": {},
   "outputs": [],
   "source": [
    "num_layers = 4\n",
    "\n",
    "# initialize weights for quantum layers\n",
    "weights = init_weights(num_layers, num_modes)\n",
    "\n",
    "# convert the quantum layer to a Keras layer\n",
    "shape_tup = weights.shape\n",
    "weight_shapes = {'var': shape_tup}\n",
    "qlayer = qml.qnn.KerasLayer(quantum_nn, weight_shapes, output_dim = num_modes)\n",
    "\n",
    "# add to the classical sequential model\n",
    "model.add(qlayer)"
   ]
  },
  {
   "cell_type": "markdown",
   "id": "df14080f",
   "metadata": {},
   "source": [
    "## 7. Loss function and optimizer"
   ]
  },
  {
   "cell_type": "code",
   "execution_count": null,
   "id": "47619a58",
   "metadata": {},
   "outputs": [],
   "source": [
    "opt = keras.optimizers.SGD(lr = 0.02)\n",
    "model.compile(opt, loss = 'categorical_crossentropy', metrics =['accuracy'])"
   ]
  },
  {
   "cell_type": "markdown",
   "id": "3006d4ed",
   "metadata": {},
   "source": [
    "## 8. Training"
   ]
  },
  {
   "cell_type": "code",
   "execution_count": null,
   "id": "44b23d51",
   "metadata": {},
   "outputs": [
    {
     "name": "stdout",
     "output_type": "stream",
     "text": [
      "Epoch 1/100\n",
      "10/10 [==============================] - 6421s 645s/step - loss: 3.3549 - accuracy: 0.1131 - val_loss: 2.1302 - val_accuracy: 0.2200\n",
      "Epoch 2/100\n",
      "10/10 [==============================] - 7824s 800s/step - loss: 2.0154 - accuracy: 0.2730 - val_loss: 1.9099 - val_accuracy: 0.3100\n",
      "Epoch 3/100\n",
      "10/10 [==============================] - 6810s 678s/step - loss: 1.7922 - accuracy: 0.3652 - val_loss: 1.7190 - val_accuracy: 0.3800\n",
      "Epoch 4/100\n",
      "10/10 [==============================] - 26446s 2859s/step - loss: 1.6126 - accuracy: 0.4257 - val_loss: 1.6511 - val_accuracy: 0.3200\n",
      "Epoch 5/100\n",
      "10/10 [==============================] - 17356s 1847s/step - loss: 1.4937 - accuracy: 0.4870 - val_loss: 1.5039 - val_accuracy: 0.4600\n",
      "Epoch 6/100\n",
      "10/10 [==============================] - 6838s 644s/step - loss: 1.3855 - accuracy: 0.5514 - val_loss: 1.4609 - val_accuracy: 0.4500\n",
      "Epoch 7/100\n",
      "10/10 [==============================] - 7468s 764s/step - loss: 1.2875 - accuracy: 0.5972 - val_loss: 1.3490 - val_accuracy: 0.5400\n",
      "Epoch 8/100\n",
      "10/10 [==============================] - 7507s 749s/step - loss: 1.2342 - accuracy: 0.6076 - val_loss: 1.2990 - val_accuracy: 0.6000\n",
      "Epoch 9/100\n",
      "10/10 [==============================] - 8780s 895s/step - loss: 1.1632 - accuracy: 0.6649 - val_loss: 1.2701 - val_accuracy: 0.5700\n",
      "Epoch 10/100\n",
      "10/10 [==============================] - 8061s 800s/step - loss: 1.1734 - accuracy: 0.6603 - val_loss: 1.2687 - val_accuracy: 0.5500\n",
      "Epoch 11/100\n",
      "10/10 [==============================] - 8116s 807s/step - loss: 1.1098 - accuracy: 0.6610 - val_loss: 1.2173 - val_accuracy: 0.5900\n",
      "Epoch 12/100\n",
      "10/10 [==============================] - 25153s 2694s/step - loss: 1.0388 - accuracy: 0.7187 - val_loss: 1.2527 - val_accuracy: 0.5600\n",
      "Epoch 13/100\n",
      "10/10 [==============================] - 11606s 1197s/step - loss: 1.0341 - accuracy: 0.6994 - val_loss: 1.1969 - val_accuracy: 0.5600\n",
      "Epoch 14/100\n",
      "10/10 [==============================] - 8696s 870s/step - loss: 0.9916 - accuracy: 0.7409 - val_loss: 1.1831 - val_accuracy: 0.6000\n",
      "Epoch 15/100\n",
      "10/10 [==============================] - 9369s 950s/step - loss: 0.9977 - accuracy: 0.7013 - val_loss: 1.1369 - val_accuracy: 0.6300\n",
      "Epoch 16/100\n",
      "10/10 [==============================] - 7953s 790s/step - loss: 0.9506 - accuracy: 0.7209 - val_loss: 1.1465 - val_accuracy: 0.6300\n",
      "Epoch 17/100\n",
      "10/10 [==============================] - 9461s 981s/step - loss: 0.9233 - accuracy: 0.7323 - val_loss: 1.1827 - val_accuracy: 0.6200\n",
      "Epoch 18/100\n",
      "10/10 [==============================] - 7688s 782s/step - loss: 0.8631 - accuracy: 0.7678 - val_loss: 1.1308 - val_accuracy: 0.6100\n",
      "Epoch 19/100\n",
      "10/10 [==============================] - 7170s 713s/step - loss: 0.8629 - accuracy: 0.7422 - val_loss: 1.1079 - val_accuracy: 0.6700\n",
      "Epoch 20/100\n",
      "10/10 [==============================] - 26189s 2828s/step - loss: 0.8393 - accuracy: 0.7696 - val_loss: 1.0959 - val_accuracy: 0.6500\n",
      "Epoch 21/100\n",
      "10/10 [==============================] - 10638s 1110s/step - loss: 0.8336 - accuracy: 0.7466 - val_loss: 1.1399 - val_accuracy: 0.6500\n",
      "Epoch 22/100\n",
      "10/10 [==============================] - 6751s 650s/step - loss: 0.8339 - accuracy: 0.7755 - val_loss: 1.0778 - val_accuracy: 0.6500\n",
      "Epoch 23/100\n",
      "10/10 [==============================] - 8452s 869s/step - loss: 0.7888 - accuracy: 0.7908 - val_loss: 1.0688 - val_accuracy: 0.6700\n",
      "Epoch 24/100\n",
      "10/10 [==============================] - 6801s 637s/step - loss: 0.7453 - accuracy: 0.8106 - val_loss: 1.0736 - val_accuracy: 0.6600\n",
      "Epoch 25/100\n",
      "10/10 [==============================] - 7185s 729s/step - loss: 0.7213 - accuracy: 0.8166 - val_loss: 1.1526 - val_accuracy: 0.6300\n",
      "Epoch 26/100\n",
      "10/10 [==============================] - 8328s 840s/step - loss: 0.7468 - accuracy: 0.7845 - val_loss: 1.0736 - val_accuracy: 0.6700\n",
      "Epoch 27/100\n",
      "10/10 [==============================] - 36956s 4030s/step - loss: 0.7068 - accuracy: 0.8078 - val_loss: 1.0917 - val_accuracy: 0.6500\n",
      "Epoch 28/100\n",
      "10/10 [==============================] - 12530s 1125s/step - loss: 0.7112 - accuracy: 0.8086 - val_loss: 1.0737 - val_accuracy: 0.7000\n",
      "Epoch 29/100\n",
      "10/10 [==============================] - 5968s 592s/step - loss: 0.6817 - accuracy: 0.8156 - val_loss: 1.0205 - val_accuracy: 0.7100\n",
      "Epoch 30/100\n",
      "10/10 [==============================] - 7519s 764s/step - loss: 0.6790 - accuracy: 0.8102 - val_loss: 0.9931 - val_accuracy: 0.7000\n",
      "Epoch 31/100\n",
      "10/10 [==============================] - 6806s 671s/step - loss: 0.6594 - accuracy: 0.8221 - val_loss: 1.0599 - val_accuracy: 0.6800\n",
      "Epoch 32/100\n",
      "10/10 [==============================] - 7931s 794s/step - loss: 0.6403 - accuracy: 0.8294 - val_loss: 1.0643 - val_accuracy: 0.7100\n",
      "Epoch 33/100\n",
      "10/10 [==============================] - 8100s 825s/step - loss: 0.6238 - accuracy: 0.8545 - val_loss: 1.0228 - val_accuracy: 0.6900\n",
      "Epoch 34/100\n",
      "10/10 [==============================] - 38698s 4219s/step - loss: 0.6223 - accuracy: 0.8360 - val_loss: 0.9905 - val_accuracy: 0.7100\n",
      "Epoch 35/100\n",
      "10/10 [==============================] - 5954s 593s/step - loss: 0.5702 - accuracy: 0.8646 - val_loss: 1.0832 - val_accuracy: 0.6600\n",
      "Epoch 36/100\n",
      "10/10 [==============================] - 10544s 1089s/step - loss: 0.5872 - accuracy: 0.8639 - val_loss: 1.1089 - val_accuracy: 0.6600\n",
      "Epoch 37/100\n",
      "10/10 [==============================] - 6917s 696s/step - loss: 0.6019 - accuracy: 0.8577 - val_loss: 1.0006 - val_accuracy: 0.7300\n",
      "Epoch 38/100\n",
      "10/10 [==============================] - 8680s 752s/step - loss: 0.5157 - accuracy: 0.8825 - val_loss: 1.0085 - val_accuracy: 0.6900\n",
      "Epoch 39/100\n",
      "10/10 [==============================] - 7292s 671s/step - loss: 0.5673 - accuracy: 0.8574 - val_loss: 0.9993 - val_accuracy: 0.6900\n",
      "Epoch 40/100\n",
      "10/10 [==============================] - 7468s 757s/step - loss: 0.5541 - accuracy: 0.8733 - val_loss: 1.0323 - val_accuracy: 0.6800\n",
      "Epoch 41/100\n",
      "10/10 [==============================] - 6574s 653s/step - loss: 0.5453 - accuracy: 0.8708 - val_loss: 0.9947 - val_accuracy: 0.7100\n",
      "Epoch 42/100\n",
      "10/10 [==============================] - 6697s 662s/step - loss: 0.5270 - accuracy: 0.8781 - val_loss: 0.9983 - val_accuracy: 0.7300\n",
      "Epoch 43/100\n",
      "10/10 [==============================] - 6518s 650s/step - loss: 0.5436 - accuracy: 0.8519 - val_loss: 1.0459 - val_accuracy: 0.7100\n",
      "Epoch 44/100\n",
      "10/10 [==============================] - 18925s 2025s/step - loss: 0.5044 - accuracy: 0.8780 - val_loss: 0.9437 - val_accuracy: 0.7000\n",
      "Epoch 45/100\n",
      "10/10 [==============================] - 6902s 646s/step - loss: 0.4974 - accuracy: 0.8795 - val_loss: 1.0125 - val_accuracy: 0.7200\n",
      "Epoch 46/100\n",
      "10/10 [==============================] - 10277s 1075s/step - loss: 0.5380 - accuracy: 0.8654 - val_loss: 1.0227 - val_accuracy: 0.6600\n",
      "Epoch 47/100\n",
      "10/10 [==============================] - 7161s 725s/step - loss: 0.5065 - accuracy: 0.8828 - val_loss: 0.9620 - val_accuracy: 0.7200\n",
      "Epoch 48/100\n",
      "10/10 [==============================] - 8400s 869s/step - loss: 0.4536 - accuracy: 0.9003 - val_loss: 0.9444 - val_accuracy: 0.7100\n",
      "Epoch 49/100\n",
      "10/10 [==============================] - 6588s 646s/step - loss: 0.4587 - accuracy: 0.8922 - val_loss: 1.0347 - val_accuracy: 0.7100\n",
      "Epoch 50/100\n",
      "10/10 [==============================] - 11376s 1169s/step - loss: 0.4413 - accuracy: 0.9097 - val_loss: 1.1542 - val_accuracy: 0.6400\n",
      "Epoch 51/100\n",
      "10/10 [==============================] - 6548s 647s/step - loss: 0.4543 - accuracy: 0.9083 - val_loss: 1.0269 - val_accuracy: 0.6800\n",
      "Epoch 52/100\n",
      "10/10 [==============================] - 8574s 742s/step - loss: 0.4198 - accuracy: 0.9159 - val_loss: 0.9402 - val_accuracy: 0.7100\n",
      "Epoch 53/100\n",
      "10/10 [==============================] - 6918s 683s/step - loss: 0.4388 - accuracy: 0.9252 - val_loss: 1.1637 - val_accuracy: 0.6400\n",
      "Epoch 54/100\n",
      "10/10 [==============================] - 26380s 2850s/step - loss: 0.5231 - accuracy: 0.8545 - val_loss: 1.0887 - val_accuracy: 0.6600\n",
      "Epoch 55/100\n",
      "10/10 [==============================] - 12561s 1327s/step - loss: 0.4313 - accuracy: 0.9175 - val_loss: 1.0072 - val_accuracy: 0.6900\n",
      "Epoch 56/100\n",
      "10/10 [==============================] - 7584s 772s/step - loss: 0.3960 - accuracy: 0.9340 - val_loss: 0.9788 - val_accuracy: 0.7100\n"
     ]
    },
    {
     "name": "stdout",
     "output_type": "stream",
     "text": [
      "Epoch 57/100\n",
      "10/10 [==============================] - 9747s 1010s/step - loss: 0.4138 - accuracy: 0.9115 - val_loss: 0.9872 - val_accuracy: 0.7300\n",
      "Epoch 58/100\n",
      "10/10 [==============================] - 6981s 697s/step - loss: 0.3863 - accuracy: 0.9159 - val_loss: 0.9032 - val_accuracy: 0.7300\n",
      "Epoch 59/100\n",
      "10/10 [==============================] - 6916s 686s/step - loss: 0.3744 - accuracy: 0.9289 - val_loss: 1.0505 - val_accuracy: 0.6600\n",
      "Epoch 60/100\n",
      "10/10 [==============================] - 6255s 616s/step - loss: 0.3624 - accuracy: 0.9349 - val_loss: 0.9508 - val_accuracy: 0.7100\n",
      "Epoch 61/100\n",
      "10/10 [==============================] - 6210s 617s/step - loss: 0.3874 - accuracy: 0.9294 - val_loss: 1.0931 - val_accuracy: 0.7100\n",
      "Epoch 62/100\n",
      "10/10 [==============================] - 16772s 1790s/step - loss: 0.3981 - accuracy: 0.9188 - val_loss: 1.1178 - val_accuracy: 0.6900\n",
      "Epoch 63/100\n",
      "10/10 [==============================] - 7978s 804s/step - loss: 0.4013 - accuracy: 0.9084 - val_loss: 0.9536 - val_accuracy: 0.7100\n",
      "Epoch 64/100\n",
      "10/10 [==============================] - 6505s 649s/step - loss: 0.3588 - accuracy: 0.9330 - val_loss: 0.9824 - val_accuracy: 0.7300\n",
      "Epoch 65/100\n",
      "10/10 [==============================] - 8573s 875s/step - loss: 0.3600 - accuracy: 0.9227 - val_loss: 0.9236 - val_accuracy: 0.7200\n",
      "Epoch 66/100\n",
      "10/10 [==============================] - 7163s 716s/step - loss: 0.3633 - accuracy: 0.9249 - val_loss: 0.9535 - val_accuracy: 0.7100\n",
      "Epoch 67/100\n",
      "10/10 [==============================] - 7623s 768s/step - loss: 0.3388 - accuracy: 0.9456 - val_loss: 0.9151 - val_accuracy: 0.7200\n",
      "Epoch 68/100\n",
      "10/10 [==============================] - 9929s 1018s/step - loss: 0.3382 - accuracy: 0.9357 - val_loss: 0.9862 - val_accuracy: 0.6900\n",
      "Epoch 69/100\n",
      "10/10 [==============================] - 10380s 1055s/step - loss: 0.3347 - accuracy: 0.9313 - val_loss: 1.0326 - val_accuracy: 0.7500\n",
      "Epoch 70/100\n",
      "10/10 [==============================] - 10543s 1059s/step - loss: 0.3288 - accuracy: 0.9436 - val_loss: 0.9765 - val_accuracy: 0.6900\n",
      "Epoch 71/100\n",
      "10/10 [==============================] - 7919s 787s/step - loss: 0.3208 - accuracy: 0.9369 - val_loss: 0.9856 - val_accuracy: 0.7100\n",
      "Epoch 72/100\n",
      "10/10 [==============================] - 13283s 1365s/step - loss: 0.3195 - accuracy: 0.9474 - val_loss: 0.9361 - val_accuracy: 0.7200\n",
      "Epoch 73/100\n",
      "10/10 [==============================] - 11414s 1173s/step - loss: 0.2948 - accuracy: 0.9493 - val_loss: 0.9182 - val_accuracy: 0.7100\n",
      "Epoch 74/100\n",
      "10/10 [==============================] - 9555s 666s/step - loss: 0.3185 - accuracy: 0.9323 - val_loss: 0.9424 - val_accuracy: 0.7400\n",
      "Epoch 75/100\n",
      "10/10 [==============================] - 8218s 733s/step - loss: 0.2863 - accuracy: 0.9594 - val_loss: 0.9003 - val_accuracy: 0.7200\n",
      "Epoch 76/100\n",
      "10/10 [==============================] - 8364s 857s/step - loss: 0.3177 - accuracy: 0.9473 - val_loss: 0.9308 - val_accuracy: 0.7200\n",
      "Epoch 77/100\n",
      "10/10 [==============================] - 7800s 794s/step - loss: 0.2868 - accuracy: 0.9604 - val_loss: 1.0126 - val_accuracy: 0.7000\n",
      "Epoch 78/100\n",
      "10/10 [==============================] - 18392s 1959s/step - loss: 0.2940 - accuracy: 0.9525 - val_loss: 1.0001 - val_accuracy: 0.7000\n",
      "Epoch 79/100\n",
      "10/10 [==============================] - 30094s 3163s/step - loss: 0.2870 - accuracy: 0.9577 - val_loss: 0.9435 - val_accuracy: 0.7200\n",
      "Epoch 80/100\n",
      "10/10 [==============================] - 9915s 1032s/step - loss: 0.2822 - accuracy: 0.9499 - val_loss: 0.9663 - val_accuracy: 0.7300\n",
      "Epoch 81/100\n",
      "10/10 [==============================] - 9349s 969s/step - loss: 0.2988 - accuracy: 0.9413 - val_loss: 1.0123 - val_accuracy: 0.7000\n",
      "Epoch 82/100\n",
      "10/10 [==============================] - 8025s 813s/step - loss: 0.2573 - accuracy: 0.9584 - val_loss: 1.0086 - val_accuracy: 0.6900\n",
      "Epoch 83/100\n",
      "10/10 [==============================] - 7432s 747s/step - loss: 0.2785 - accuracy: 0.9423 - val_loss: 0.9559 - val_accuracy: 0.7400\n",
      "Epoch 84/100\n",
      "10/10 [==============================] - 6649s 666s/step - loss: 0.2600 - accuracy: 0.9599 - val_loss: 1.0102 - val_accuracy: 0.7000\n",
      "Epoch 85/100\n",
      "10/10 [==============================] - 11068s 1061s/step - loss: 0.2647 - accuracy: 0.9595 - val_loss: 0.9202 - val_accuracy: 0.7100\n",
      "Epoch 86/100\n",
      "10/10 [==============================] - 28597s 3091s/step - loss: 0.2365 - accuracy: 0.9762 - val_loss: 0.9332 - val_accuracy: 0.7400\n",
      "Epoch 87/100\n",
      "10/10 [==============================] - 7106s 718s/step - loss: 0.2569 - accuracy: 0.9609 - val_loss: 0.9890 - val_accuracy: 0.6900\n",
      "Epoch 88/100\n",
      "10/10 [==============================] - 6265s 620s/step - loss: 0.2513 - accuracy: 0.9688 - val_loss: 0.9314 - val_accuracy: 0.7200\n",
      "Epoch 89/100\n",
      "10/10 [==============================] - 6419s 642s/step - loss: 0.2310 - accuracy: 0.9724 - val_loss: 0.9436 - val_accuracy: 0.7600\n",
      "Epoch 90/100\n",
      "10/10 [==============================] - 7828s 645s/step - loss: 0.2300 - accuracy: 0.9792 - val_loss: 0.9506 - val_accuracy: 0.7200\n",
      "Epoch 91/100\n",
      "10/10 [==============================] - 6563s 652s/step - loss: 0.2144 - accuracy: 0.9862 - val_loss: 0.9002 - val_accuracy: 0.7400\n",
      "Epoch 92/100\n",
      "10/10 [==============================] - 10283s 952s/step - loss: 0.2389 - accuracy: 0.9736 - val_loss: 0.9198 - val_accuracy: 0.7400\n",
      "Epoch 93/100\n",
      "10/10 [==============================] - 7181s 716s/step - loss: 0.2381 - accuracy: 0.9715 - val_loss: 0.9104 - val_accuracy: 0.7200\n",
      "Epoch 94/100\n",
      "10/10 [==============================] - 7075s 707s/step - loss: 0.2165 - accuracy: 0.9829 - val_loss: 0.9706 - val_accuracy: 0.7200\n",
      "Epoch 95/100\n",
      "10/10 [==============================] - 7393s 707s/step - loss: 0.2240 - accuracy: 0.9769 - val_loss: 0.9886 - val_accuracy: 0.7400\n",
      "Epoch 96/100\n",
      "10/10 [==============================] - 7204s 712s/step - loss: 0.2260 - accuracy: 0.9753 - val_loss: 0.9416 - val_accuracy: 0.7500\n",
      "Epoch 97/100\n",
      "10/10 [==============================] - 7113s 709s/step - loss: 0.2039 - accuracy: 0.9804 - val_loss: 1.0748 - val_accuracy: 0.6900\n",
      "Epoch 98/100\n",
      "10/10 [==============================] - 10576s 1087s/step - loss: 0.2271 - accuracy: 0.9757 - val_loss: 0.9395 - val_accuracy: 0.7300\n",
      "Epoch 99/100\n",
      "10/10 [==============================] - 7494s 749s/step - loss: 0.1941 - accuracy: 0.9855 - val_loss: 0.9261 - val_accuracy: 0.7200\n",
      "Epoch 100/100\n",
      " 8/10 [=======================>......] - ETA: 29:33 - loss: 0.2071 - accuracy: 0.9850"
     ]
    }
   ],
   "source": [
    "hybrid = model.fit(X_train, \n",
    "                   y_train,\n",
    "                   epochs = 100,\n",
    "                   batch_size = 64,\n",
    "                   shuffle = True, \n",
    "                   validation_data = (X_test, y_test))"
   ]
  },
  {
   "cell_type": "code",
   "execution_count": 10,
   "id": "c8d46325",
   "metadata": {},
   "outputs": [
    {
     "name": "stdout",
     "output_type": "stream",
     "text": [
      "Model: \"sequential\"\n",
      "_________________________________________________________________\n",
      "Layer (type)                 Output Shape              Param #   \n",
      "=================================================================\n",
      "flatten (Flatten)            (None, 784)               0         \n",
      "_________________________________________________________________\n",
      "dense (Dense)                (None, 128)               100480    \n",
      "_________________________________________________________________\n",
      "dense_1 (Dense)              (None, 64)                8256      \n",
      "_________________________________________________________________\n",
      "dense_2 (Dense)              (None, 32)                2080      \n",
      "_________________________________________________________________\n",
      "dense_3 (Dense)              (None, 16)                528       \n",
      "_________________________________________________________________\n",
      "keras_layer (KerasLayer)     (None, 4)                 92        \n",
      "=================================================================\n",
      "Total params: 111,436\n",
      "Trainable params: 111,436\n",
      "Non-trainable params: 0\n",
      "_________________________________________________________________\n"
     ]
    }
   ],
   "source": [
    "model.summary()"
   ]
  },
  {
   "cell_type": "markdown",
   "id": "13b5fa7b",
   "metadata": {},
   "source": [
    "## 9. Loss and accuracy graphs"
   ]
  },
  {
   "cell_type": "code",
   "execution_count": 11,
   "id": "cfd7c39c",
   "metadata": {},
   "outputs": [
    {
     "data": {
      "image/png": "[encoded data removed]",
      "text/plain": [
       "<Figure size 640x480 with 1 Axes>"
      ]
     },
     "metadata": {},
     "output_type": "display_data"
    }
   ],
   "source": [
    "# ===================================================================================\n",
    "#                                  Loss History Plot\n",
    "# ===================================================================================\n",
    "\n",
    "plt.title('model loss')\n",
    "plt.plot(hybrid.history['loss'], '-g')\n",
    "plt.ylabel('loss')\n",
    "plt.xlabel('epoch')\n",
    "plt.show()"
   ]
  },
  {
   "cell_type": "code",
   "execution_count": 12,
   "id": "cc6435a2",
   "metadata": {},
   "outputs": [
    {
     "data": {
      "image/png": "[encoded data removed]",
      "text/plain": [
       "<Figure size 640x480 with 1 Axes>"
      ]
     },
     "metadata": {},
     "output_type": "display_data"
    }
   ],
   "source": [
    "# ===================================================================================\n",
    "#                                Accuracy History Plot\n",
    "# ===================================================================================\n",
    "\n",
    "plt.title('model accuracy')\n",
    "plt.plot(hybrid.history['accuracy'], '-g')\n",
    "plt.ylabel('accuracy')\n",
    "plt.show()"
   ]
  }
 ],
 "metadata": {
  "kernelspec": {
   "display_name": "Python 3",
   "language": "python",
   "name": "python3"
  },
  "language_info": {
   "codemirror_mode": {
    "name": "ipython",
    "version": 3
   },
   "file_extension": ".py",
   "mimetype": "text/x-python",
   "name": "python",
   "nbconvert_exporter": "python",
   "pygments_lexer": "ipython3",
   "version": "3.8.5"
  }
 },
 "nbformat": 4,
 "nbformat_minor": 5
}
