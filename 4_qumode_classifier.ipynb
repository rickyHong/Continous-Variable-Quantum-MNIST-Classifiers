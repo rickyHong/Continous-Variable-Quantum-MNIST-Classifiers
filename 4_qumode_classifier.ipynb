{
 "cells": [
  {
   "cell_type": "markdown",
   "id": "4d6aa70b",
   "metadata": {},
   "source": [
    "### Author: Sophie Choe"
   ]
  },
  {
   "cell_type": "markdown",
   "id": "97b10033",
   "metadata": {},
   "source": [
    "#### Portland State University, Electrical and Computer Engineering"
   ]
  },
  {
   "cell_type": "markdown",
   "id": "c2b1738d",
   "metadata": {},
   "source": [
    "# 4-qumode classifier\n",
    "\n",
    "Classical layers using keras dense and quantum layers using Pennylane"
   ]
  },
  {
   "cell_type": "code",
   "execution_count": 1,
   "id": "417078e3",
   "metadata": {},
   "outputs": [],
   "source": [
    "import tensorflow as tf\n",
    "import tensorflow_datasets as tfds\n",
    "from tensorflow import keras\n",
    "from tensorflow.keras import layers\n",
    "\n",
    "import pennylane as qml\n",
    "import numpy as np\n",
    "\n",
    "import matplotlib.pyplot as plt"
   ]
  },
  {
   "cell_type": "markdown",
   "id": "84a81d5b",
   "metadata": {},
   "source": [
    "## 0. Loading data"
   ]
  },
  {
   "cell_type": "markdown",
   "id": "3d91f7fa",
   "metadata": {},
   "source": [
    "Normalize pixel values from 0 ~ 255 to 0 ~ 1"
   ]
  },
  {
   "cell_type": "code",
   "execution_count": 2,
   "id": "9cb00f94",
   "metadata": {},
   "outputs": [],
   "source": [
    "mnist = keras.datasets.mnist\n",
    "\n",
    "# datasets are numpy.ndarrays\n",
    "(X_train, Y_train), (X_test, Y_test) = mnist.load_data()     \n",
    "\n",
    "# normalize the image data\n",
    "X_train, X_test = X_train / 255.0, X_test / 255.0"
   ]
  },
  {
   "cell_type": "markdown",
   "id": "642c2280",
   "metadata": {},
   "source": [
    "One hot encode labels to vectors of size cutoff_dim^(num_qumodes)"
   ]
  },
  {
   "cell_type": "code",
   "execution_count": 3,
   "id": "849f33ec",
   "metadata": {},
   "outputs": [],
   "source": [
    "def one_hot(labels):  \n",
    "       \n",
    "    depth =  2**4                       # 10 classes + 6 zeros for padding\n",
    "    indices = labels.astype(np.int32)    \n",
    "    one_hot_labels = np.eye(depth)[indices].astype(np.float32) \n",
    "    \n",
    "    return one_hot_labels\n",
    "\n",
    "# one-hot encoded labels, each label of length cutoff dimension**2\n",
    "y_train, y_test = one_hot(Y_train), one_hot(Y_test)\n",
    "\n",
    "# using only 600 samples for training in this experiment\n",
    "n_samples = 600\n",
    "test_samples = 100\n",
    "X_train, X_test, y_train, y_test = X_train[:n_samples], X_test[:test_samples], y_train[:n_samples], y_test[:test_samples]"
   ]
  },
  {
   "cell_type": "markdown",
   "id": "8185cf3c",
   "metadata": {},
   "source": [
    "## 1. Classical circuit"
   ]
  },
  {
   "cell_type": "markdown",
   "id": "54114c44",
   "metadata": {},
   "source": [
    "Define classical layers using Keras Sequential. Take in 28x28 image matrices, flatten, and output vectors of length 30. 2 hidden layers with ELU activation."
   ]
  },
  {
   "cell_type": "code",
   "execution_count": 4,
   "id": "46bb059f",
   "metadata": {},
   "outputs": [
    {
     "name": "stdout",
     "output_type": "stream",
     "text": [
      "Model: \"sequential\"\n",
      "_________________________________________________________________\n",
      "Layer (type)                 Output Shape              Param #   \n",
      "=================================================================\n",
      "flatten (Flatten)            (None, 784)               0         \n",
      "_________________________________________________________________\n",
      "dense (Dense)                (None, 128)               100480    \n",
      "_________________________________________________________________\n",
      "dense_1 (Dense)              (None, 64)                8256      \n",
      "_________________________________________________________________\n",
      "dense_2 (Dense)              (None, 30)                1950      \n",
      "=================================================================\n",
      "Total params: 110,686\n",
      "Trainable params: 110,686\n",
      "Non-trainable params: 0\n",
      "_________________________________________________________________\n"
     ]
    }
   ],
   "source": [
    "keras.backend.set_floatx('float32')\n",
    "\n",
    "model = keras.models.Sequential([\n",
    "                                 layers.Flatten(input_shape = (28,28)),\n",
    "                                 layers.Dense(128, activation =\"elu\"),\n",
    "                                 layers.Dense(64, activation =\"elu\"),\n",
    "                                 layers.Dense(30),\n",
    "                                ])\n",
    "\n",
    "# More than a million parameters for the classical circuit\n",
    "model.summary()"
   ]
  },
  {
   "cell_type": "markdown",
   "id": "b3e30830",
   "metadata": {},
   "source": [
    "## 2. Data encoding circuit"
   ]
  },
  {
   "cell_type": "markdown",
   "id": "a7c72d96",
   "metadata": {},
   "source": [
    "Encode the output vectors from the classical network into quantum states using the vector entries as parameters of continuous variable gates. "
   ]
  },
  {
   "cell_type": "code",
   "execution_count": 13,
   "id": "6a5e27b4",
   "metadata": {},
   "outputs": [],
   "source": [
    "def encode_data(x):\n",
    "    qml.Squeezing(x[0], x[1], wires=0)\n",
    "    qml.Squeezing(x[2], x[3], wires=1)\n",
    "    qml.Squeezing(x[4], x[5], wires=2)\n",
    "    qml.Squeezing(x[6], x[7], wires=3)\n",
    "    \n",
    "    qml.Beamsplitter(x[8], x[9], wires=[0,1])\n",
    "    qml.Beamsplitter(x[10], x[11], wires=[1,2])\n",
    "    qml.Beamsplitter(x[12], x[13], wires=[2,3])\n",
    "    \n",
    "    qml.Rotation(x[14], wires=0)\n",
    "    qml.Rotation(x[15], wires=1)\n",
    "    qml.Rotation(x[16], wires=2)\n",
    "    qml.Rotation(x[17], wires=3)    \n",
    "    \n",
    "    qml.Displacement(x[18], x[19], wires=0)\n",
    "    qml.Displacement(x[20], x[21], wires=1)\n",
    "    qml.Displacement(x[22], x[23], wires=2)\n",
    "    qml.Displacement(x[24], x[25], wires=3) \n",
    "    \n",
    "    qml.Kerr(x[26], wires=0)\n",
    "    qml.Kerr(x[27], wires=1)\n",
    "    qml.Kerr(x[28], wires=2)\n",
    "    qml.Kerr(x[29], wires=3)"
   ]
  },
  {
   "cell_type": "markdown",
   "id": "9eca77da",
   "metadata": {},
   "source": [
    "## 3. Qauntum neural network circuit"
   ]
  },
  {
   "cell_type": "code",
   "execution_count": 6,
   "id": "de0894c2",
   "metadata": {},
   "outputs": [],
   "source": [
    "def qnn_layer(v):\n",
    "    \n",
    "    # Linear transformation W = Interferemeter, squeezers, interferometer\n",
    "    # Interferometer 1\n",
    "    qml.Beamsplitter(v[0], v[1], wires=[0,1])\n",
    "    qml.Beamsplitter(v[2], v[3], wires=[1,2])\n",
    "    qml.Beamsplitter(v[4], v[5], wires=[2,3])\n",
    "    \n",
    "    qml.Rotation(v[6], wires=0)\n",
    "    qml.Rotation(v[7], wires=1)\n",
    "    qml.Rotation(v[8], wires=2)\n",
    "    qml.Rotation(v[9], wires=3)\n",
    "    \n",
    "    # Squeezers\n",
    "    qml.Squeezing(v[10], 0.0, wires=0)\n",
    "    qml.Squeezing(v[11], 0.0, wires=1)\n",
    "    qml.Squeezing(v[12], 0.0, wires=2)\n",
    "    qml.Squeezing(v[13], 0.0, wires=3) \n",
    "    \n",
    "    # Interferometer 2\n",
    "    qml.Beamsplitter(v[14], v[15], wires=[0,1])\n",
    "    qml.Beamsplitter(v[16], v[17], wires=[1,2])\n",
    "    qml.Beamsplitter(v[18], v[19], wires=[2,3])\n",
    "    \n",
    "    qml.Rotation(v[20], wires=0)\n",
    "    qml.Rotation(v[21], wires=1)\n",
    "    qml.Rotation(v[22], wires=2)\n",
    "    qml.Rotation(v[23], wires=3)\n",
    "    \n",
    "    # Bias addition\n",
    "    qml.Displacement(v[24], 0.0, wires=0)\n",
    "    qml.Displacement(v[25], 0.0, wires=1)\n",
    "    qml.Displacement(v[26], 0.0, wires=2)\n",
    "    qml.Displacement(v[27], 0.0, wires=3)\n",
    "    \n",
    "    # Non-linear activation\n",
    "    qml.Kerr(v[28], wires=0)\n",
    "    qml.Kerr(v[29], wires=1)\n",
    "    qml.Kerr(v[30], wires=2)\n",
    "    qml.Kerr(v[31], wires=3)"
   ]
  },
  {
   "cell_type": "markdown",
   "id": "f35f8312",
   "metadata": {},
   "source": [
    "## 4. Parameter initialization"
   ]
  },
  {
   "cell_type": "markdown",
   "id": "ea0d1751",
   "metadata": {},
   "source": [
    "Initialize parameters for the quantum layers: number of layers x number of parameters needed for all the gates"
   ]
  },
  {
   "cell_type": "code",
   "execution_count": 7,
   "id": "76a5d56d",
   "metadata": {},
   "outputs": [],
   "source": [
    "def init_weights(layers, modes, active_sd=0.0001, passive_sd=0.1):\n",
    "    \n",
    "    M = 6+4  # Number of interferometer parameters: 3 2-parameter beamsplitters + 4 rotations\n",
    "\n",
    "    int1_weights = tf.random.normal(shape=[layers, M], stddev=passive_sd)\n",
    "    s_weights = tf.random.normal(shape=[layers, modes], stddev=active_sd)\n",
    "    int2_weights = tf.random.normal(shape=[layers, M], stddev=passive_sd)\n",
    "    dr_weights = tf.random.normal(shape=[layers, modes], stddev=active_sd)\n",
    "    k_weights = tf.random.normal(shape=[layers, modes], stddev=active_sd)\n",
    "\n",
    "    weights = tf.concat([int1_weights, s_weights, int2_weights, dr_weights, k_weights], axis=1)\n",
    "    weights = tf.Variable(weights)\n",
    "\n",
    "    return weights"
   ]
  },
  {
   "cell_type": "markdown",
   "id": "9f2b136b",
   "metadata": {},
   "source": [
    "## 5. Quantum device"
   ]
  },
  {
   "cell_type": "markdown",
   "id": "d07c0173",
   "metadata": {},
   "source": [
    "For the expression of qumodes in Fock basis, choose a \"strawberryfields.fock\" device. Define the number of qumodes and cutoff dimension. Run the data encoding circuit and quantum neural network circuit. The probability measurement method (qml.probs(wires)) returns vectors of size 2^4 = 16 (cutoff_dim^num_modes)."
   ]
  },
  {
   "cell_type": "code",
   "execution_count": 26,
   "id": "83dee8c3",
   "metadata": {},
   "outputs": [],
   "source": [
    "num_modes = 4\n",
    "cutoff_dim = 2\n",
    "\n",
    "# select a devide \n",
    "dev = qml.device(\"strawberryfields.fock\", wires=num_modes, cutoff_dim=cutoff_dim) \n",
    "\n",
    "@qml.qnode(dev, interface=\"tf\")\n",
    "def quantum_nn(inputs, var):\n",
    "    # Encode input x into quantum state\n",
    "    init_layer(inputs)\n",
    "\n",
    "    # iterative quantum layers\n",
    "    for v in var:\n",
    "        layer(v)\n",
    "\n",
    "    return qml.probs(wires=[0, 1, 2, 3])  # Measurement"
   ]
  },
  {
   "cell_type": "markdown",
   "id": "96eedc15",
   "metadata": {},
   "source": [
    "## 6. Hybrid circuit"
   ]
  },
  {
   "cell_type": "code",
   "execution_count": 27,
   "id": "bb3d72be",
   "metadata": {},
   "outputs": [],
   "source": [
    "num_layers = 4\n",
    "\n",
    "# initialize weights for quantum layers\n",
    "weights = init_weights(num_layers, num_modes)\n",
    "\n",
    "# convert the quantum layer to a Keras layer\n",
    "shape_tup = weights.shape\n",
    "weight_shapes = {'var': shape_tup}\n",
    "qlayer = qml.qnn.KerasLayer(quantum_nn, weight_shapes, output_dim = 4)\n",
    "\n",
    "# add to the classical sequential model\n",
    "model.add(qlayer)\n"
   ]
  },
  {
   "cell_type": "markdown",
   "id": "198357cc",
   "metadata": {},
   "source": [
    "## 7. Loss function and optimizer"
   ]
  },
  {
   "cell_type": "code",
   "execution_count": 29,
   "id": "1d32cad7",
   "metadata": {},
   "outputs": [],
   "source": [
    "opt = keras.optimizers.SGD(lr = 0.02)\n",
    "model.compile(opt, loss = 'categorical_crossentropy', metrics =['accuracy'])"
   ]
  },
  {
   "cell_type": "markdown",
   "id": "c433de7a",
   "metadata": {},
   "source": [
    "## 8. Training"
   ]
  },
  {
   "cell_type": "code",
   "execution_count": 11,
   "id": "44b23d51",
   "metadata": {},
   "outputs": [
    {
     "name": "stdout",
     "output_type": "stream",
     "text": [
      "Epoch 1/70\n",
      "25/25 [==============================] - 3264s 133s/step - loss: 2.5297 - accuracy: 0.2474 - val_loss: 1.9022 - val_accuracy: 0.3600\n",
      "Epoch 2/70\n",
      "25/25 [==============================] - 2818s 113s/step - loss: 1.6432 - accuracy: 0.5106 - val_loss: 1.3988 - val_accuracy: 0.6000\n",
      "Epoch 3/70\n",
      "25/25 [==============================] - 2775s 111s/step - loss: 1.2322 - accuracy: 0.6732 - val_loss: 2.6377 - val_accuracy: 0.1900\n",
      "Epoch 4/70\n",
      "25/25 [==============================] - 2622s 106s/step - loss: 1.3326 - accuracy: 0.6144 - val_loss: 1.1969 - val_accuracy: 0.7000\n",
      "Epoch 5/70\n",
      "25/25 [==============================] - 6702s 267s/step - loss: 0.9805 - accuracy: 0.7499 - val_loss: 1.0918 - val_accuracy: 0.7100\n",
      "Epoch 6/70\n",
      "25/25 [==============================] - 3338s 137s/step - loss: 0.8674 - accuracy: 0.7841 - val_loss: 1.0537 - val_accuracy: 0.7000\n",
      "Epoch 7/70\n",
      "25/25 [==============================] - 1870s 75s/step - loss: 0.7672 - accuracy: 0.8335 - val_loss: 1.1539 - val_accuracy: 0.6700\n",
      "Epoch 8/70\n",
      "25/25 [==============================] - 2765s 112s/step - loss: 0.7773 - accuracy: 0.8250 - val_loss: 1.0281 - val_accuracy: 0.6700\n",
      "Epoch 9/70\n",
      "25/25 [==============================] - 2863s 115s/step - loss: 0.7261 - accuracy: 0.8351 - val_loss: 0.9559 - val_accuracy: 0.7300\n",
      "Epoch 10/70\n",
      "25/25 [==============================] - 2945s 118s/step - loss: 0.6802 - accuracy: 0.8396 - val_loss: 0.9645 - val_accuracy: 0.7300\n",
      "Epoch 11/70\n",
      "25/25 [==============================] - 6288s 257s/step - loss: 0.6786 - accuracy: 0.8277 - val_loss: 0.9251 - val_accuracy: 0.7200\n",
      "Epoch 12/70\n",
      "25/25 [==============================] - 37374s 1508s/step - loss: 0.6326 - accuracy: 0.8482 - val_loss: 0.9232 - val_accuracy: 0.7400\n",
      "Epoch 13/70\n",
      "25/25 [==============================] - 2815s 113s/step - loss: 0.5689 - accuracy: 0.8879 - val_loss: 0.8743 - val_accuracy: 0.7100\n",
      "Epoch 14/70\n",
      "25/25 [==============================] - 3166s 128s/step - loss: 0.5598 - accuracy: 0.8793 - val_loss: 0.8920 - val_accuracy: 0.7400\n",
      "Epoch 15/70\n",
      "25/25 [==============================] - 3924s 159s/step - loss: 0.5805 - accuracy: 0.8651 - val_loss: 0.8728 - val_accuracy: 0.7500\n",
      "Epoch 16/70\n",
      "25/25 [==============================] - 6235s 255s/step - loss: 0.5351 - accuracy: 0.8874 - val_loss: 0.8440 - val_accuracy: 0.7400\n",
      "Epoch 17/70\n",
      "25/25 [==============================] - 2574s 104s/step - loss: 0.4539 - accuracy: 0.9286 - val_loss: 0.8938 - val_accuracy: 0.7300\n",
      "Epoch 18/70\n",
      "25/25 [==============================] - 3233s 130s/step - loss: 0.4550 - accuracy: 0.9120 - val_loss: 0.8779 - val_accuracy: 0.7600\n",
      "Epoch 19/70\n",
      "25/25 [==============================] - 5754s 235s/step - loss: 0.4691 - accuracy: 0.9091 - val_loss: 0.8931 - val_accuracy: 0.7400\n",
      "Epoch 20/70\n",
      "25/25 [==============================] - 3473s 138s/step - loss: 0.4208 - accuracy: 0.9453 - val_loss: 0.8751 - val_accuracy: 0.7400\n",
      "Epoch 21/70\n",
      "25/25 [==============================] - 4215s 169s/step - loss: 0.4240 - accuracy: 0.9389 - val_loss: 0.8729 - val_accuracy: 0.7300\n",
      "Epoch 22/70\n",
      "25/25 [==============================] - 27727s 1151s/step - loss: 0.3934 - accuracy: 0.9298 - val_loss: 0.8545 - val_accuracy: 0.7500\n",
      "Epoch 23/70\n",
      "25/25 [==============================] - 17373s 672s/step - loss: 0.3573 - accuracy: 0.9681 - val_loss: 0.8867 - val_accuracy: 0.7200\n",
      "Epoch 24/70\n",
      "25/25 [==============================] - 3496s 138s/step - loss: 0.3754 - accuracy: 0.9523 - val_loss: 0.9008 - val_accuracy: 0.7300\n",
      "Epoch 25/70\n",
      "25/25 [==============================] - 3926s 158s/step - loss: 0.3902 - accuracy: 0.9532 - val_loss: 0.8338 - val_accuracy: 0.7300\n",
      "Epoch 26/70\n",
      "25/25 [==============================] - 4352s 176s/step - loss: 0.3549 - accuracy: 0.9572 - val_loss: 0.8523 - val_accuracy: 0.7700\n",
      "Epoch 27/70\n",
      "25/25 [==============================] - 4075s 164s/step - loss: 0.3444 - accuracy: 0.9606 - val_loss: 0.7897 - val_accuracy: 0.7800\n",
      "Epoch 28/70\n",
      "25/25 [==============================] - 2890s 114s/step - loss: 0.3467 - accuracy: 0.9494 - val_loss: 0.8349 - val_accuracy: 0.7800\n",
      "Epoch 29/70\n",
      "25/25 [==============================] - 4981s 204s/step - loss: 0.3286 - accuracy: 0.9722 - val_loss: 0.8759 - val_accuracy: 0.7300\n",
      "Epoch 30/70\n",
      "25/25 [==============================] - 2648s 106s/step - loss: 0.3197 - accuracy: 0.9742 - val_loss: 0.8053 - val_accuracy: 0.8000\n",
      "Epoch 31/70\n",
      "25/25 [==============================] - 3014s 122s/step - loss: 0.3121 - accuracy: 0.9757 - val_loss: 0.8139 - val_accuracy: 0.7700\n",
      "Epoch 32/70\n",
      "25/25 [==============================] - 9731s 402s/step - loss: 0.2858 - accuracy: 0.9789 - val_loss: 0.7808 - val_accuracy: 0.7900\n",
      "Epoch 33/70\n",
      "25/25 [==============================] - 2414s 96s/step - loss: 0.2994 - accuracy: 0.9784 - val_loss: 0.8104 - val_accuracy: 0.8000\n",
      "Epoch 34/70\n",
      "25/25 [==============================] - 32375s 1345s/step - loss: 0.2686 - accuracy: 0.9745 - val_loss: 0.7769 - val_accuracy: 0.7900\n",
      "Epoch 35/70\n",
      "25/25 [==============================] - 12448s 496s/step - loss: 0.2741 - accuracy: 0.9724 - val_loss: 0.8834 - val_accuracy: 0.7600\n",
      "Epoch 36/70\n",
      "25/25 [==============================] - 2453s 98s/step - loss: 0.2726 - accuracy: 0.9827 - val_loss: 0.8218 - val_accuracy: 0.7900\n",
      "Epoch 37/70\n",
      "25/25 [==============================] - 2629s 105s/step - loss: 0.2554 - accuracy: 0.9797 - val_loss: 0.7658 - val_accuracy: 0.8000\n",
      "Epoch 38/70\n",
      "25/25 [==============================] - 17205s 712s/step - loss: 0.2479 - accuracy: 0.9819 - val_loss: 0.7778 - val_accuracy: 0.8000\n",
      "Epoch 39/70\n",
      "25/25 [==============================] - 3271s 132s/step - loss: 0.2325 - accuracy: 0.9777 - val_loss: 0.8262 - val_accuracy: 0.7600\n",
      "Epoch 40/70\n",
      "25/25 [==============================] - 2624s 106s/step - loss: 0.2258 - accuracy: 0.9916 - val_loss: 0.7542 - val_accuracy: 0.8100\n",
      "Epoch 41/70\n",
      "25/25 [==============================] - 2779s 111s/step - loss: 0.2307 - accuracy: 0.9896 - val_loss: 0.7990 - val_accuracy: 0.7700\n",
      "Epoch 42/70\n",
      "25/25 [==============================] - 8168s 336s/step - loss: 0.2247 - accuracy: 0.9877 - val_loss: 0.7898 - val_accuracy: 0.8000\n",
      "Epoch 43/70\n",
      "25/25 [==============================] - 2629s 105s/step - loss: 0.2380 - accuracy: 0.9882 - val_loss: 0.8096 - val_accuracy: 0.7800\n",
      "Epoch 44/70\n",
      "25/25 [==============================] - 2466s 99s/step - loss: 0.2272 - accuracy: 0.9858 - val_loss: 0.7397 - val_accuracy: 0.8200\n",
      "Epoch 45/70\n",
      "25/25 [==============================] - 2617s 105s/step - loss: 0.2137 - accuracy: 0.9912 - val_loss: 0.7439 - val_accuracy: 0.8100\n",
      "Epoch 46/70\n",
      "25/25 [==============================] - 2555s 102s/step - loss: 0.2048 - accuracy: 0.9950 - val_loss: 0.8201 - val_accuracy: 0.8000\n",
      "Epoch 47/70\n",
      "25/25 [==============================] - 2340s 94s/step - loss: 0.1994 - accuracy: 0.9890 - val_loss: 0.7642 - val_accuracy: 0.8000\n",
      "Epoch 48/70\n",
      "25/25 [==============================] - 2341s 94s/step - loss: 0.1945 - accuracy: 0.9885 - val_loss: 0.7730 - val_accuracy: 0.7900\n",
      "Epoch 49/70\n",
      "25/25 [==============================] - 2251s 90s/step - loss: 0.1904 - accuracy: 0.9944 - val_loss: 0.7464 - val_accuracy: 0.7900\n",
      "Epoch 50/70\n",
      "25/25 [==============================] - 2252s 90s/step - loss: 0.1763 - accuracy: 0.9949 - val_loss: 0.7551 - val_accuracy: 0.8000\n",
      "Epoch 51/70\n",
      "25/25 [==============================] - 17728s 735s/step - loss: 0.1835 - accuracy: 0.9866 - val_loss: 0.7622 - val_accuracy: 0.7900\n",
      "Epoch 52/70\n",
      "25/25 [==============================] - 4368s 178s/step - loss: 0.1616 - accuracy: 0.9963 - val_loss: 0.7887 - val_accuracy: 0.8200\n",
      "Epoch 53/70\n",
      "25/25 [==============================] - 3956s 161s/step - loss: 0.1981 - accuracy: 0.9881 - val_loss: 0.7537 - val_accuracy: 0.8000\n",
      "Epoch 54/70\n",
      "25/25 [==============================] - 1922s 76s/step - loss: 0.1716 - accuracy: 0.9968 - val_loss: 0.7455 - val_accuracy: 0.8100\n",
      "Epoch 55/70\n",
      "25/25 [==============================] - 1682s 67s/step - loss: 0.1743 - accuracy: 0.9954 - val_loss: 0.7404 - val_accuracy: 0.7800\n",
      "Epoch 56/70\n",
      "25/25 [==============================] - 3637s 149s/step - loss: 0.1645 - accuracy: 0.9958 - val_loss: 0.7466 - val_accuracy: 0.8100\n",
      "Epoch 57/70\n",
      "25/25 [==============================] - 5398s 220s/step - loss: 0.1603 - accuracy: 0.9984 - val_loss: 0.7485 - val_accuracy: 0.8200\n",
      "Epoch 58/70\n",
      "25/25 [==============================] - 4223s 171s/step - loss: 0.1577 - accuracy: 0.9958 - val_loss: 0.7333 - val_accuracy: 0.8100\n",
      "Epoch 59/70\n",
      "25/25 [==============================] - 6269s 254s/step - loss: 0.1587 - accuracy: 0.9950 - val_loss: 0.7081 - val_accuracy: 0.7900\n",
      "Epoch 60/70\n",
      "25/25 [==============================] - 4776s 191s/step - loss: 0.1542 - accuracy: 0.9913 - val_loss: 0.7618 - val_accuracy: 0.7700\n",
      "Epoch 61/70\n",
      "25/25 [==============================] - 7730s 316s/step - loss: 0.1491 - accuracy: 0.9965 - val_loss: 0.7335 - val_accuracy: 0.7900\n",
      "Epoch 62/70\n",
      "25/25 [==============================] - 4189s 168s/step - loss: 0.1422 - accuracy: 0.9968 - val_loss: 0.7364 - val_accuracy: 0.8100\n",
      "Epoch 63/70\n",
      "25/25 [==============================] - 5968s 210s/step - loss: 0.1501 - accuracy: 0.9965 - val_loss: 0.7296 - val_accuracy: 0.8000\n",
      "Epoch 64/70\n",
      "25/25 [==============================] - 36637s 1490s/step - loss: 0.1403 - accuracy: 0.9984 - val_loss: 0.7285 - val_accuracy: 0.8000\n",
      "Epoch 65/70\n",
      "25/25 [==============================] - 10836s 445s/step - loss: 0.1425 - accuracy: 0.9954 - val_loss: 0.7405 - val_accuracy: 0.8000\n",
      "Epoch 66/70\n",
      "25/25 [==============================] - 5858s 237s/step - loss: 0.1373 - accuracy: 0.9982 - val_loss: 0.7211 - val_accuracy: 0.8000\n",
      "Epoch 67/70\n",
      "25/25 [==============================] - 5567s 224s/step - loss: 0.1264 - accuracy: 0.9987 - val_loss: 0.7347 - val_accuracy: 0.8000\n",
      "Epoch 68/70\n",
      "25/25 [==============================] - 4916s 198s/step - loss: 0.1322 - accuracy: 0.9994 - val_loss: 0.7614 - val_accuracy: 0.7900\n",
      "Epoch 69/70\n",
      "25/25 [==============================] - 8050s 328s/step - loss: 0.1297 - accuracy: 0.9987 - val_loss: 0.7069 - val_accuracy: 0.8100\n",
      "Epoch 70/70\n",
      "25/25 [==============================] - 5396s 218s/step - loss: 0.1199 - accuracy: 1.0000 - val_loss: 0.7697 - val_accuracy: 0.7900\n"
     ]
    }
   ],
   "source": [
    "hybrid = model.fit(X_train, \n",
    "                   y_train,\n",
    "                   epochs = 70,\n",
    "                   batch_size = 24,\n",
    "                   shuffle = True, \n",
    "                   validation_data = (X_test, y_test))"
   ]
  },
  {
   "cell_type": "code",
   "execution_count": null,
   "id": "07a2a88f",
   "metadata": {},
   "outputs": [],
   "source": [
    "model.summary()"
   ]
  },
  {
   "cell_type": "markdown",
   "id": "49b07412",
   "metadata": {},
   "source": [
    "## 9. Loss and accuracy graphs"
   ]
  },
  {
   "cell_type": "code",
   "execution_count": 14,
   "id": "cfd7c39c",
   "metadata": {},
   "outputs": [
    {
     "data": {
      "image/png": "[encoded data removed]",
      "text/plain": [
       "<Figure size 640x480 with 1 Axes>"
      ]
     },
     "metadata": {},
     "output_type": "display_data"
    }
   ],
   "source": [
    "# ===================================================================================\n",
    "#                                  Loss History Plot\n",
    "# ===================================================================================\n",
    "\n",
    "plt.title('model loss')\n",
    "plt.plot(hybrid.history['loss'], '-g')\n",
    "plt.ylabel('loss')\n",
    "plt.show()"
   ]
  },
  {
   "cell_type": "code",
   "execution_count": 16,
   "id": "cc6435a2",
   "metadata": {},
   "outputs": [
    {
     "data": {
      "image/png": "[encoded data removed]",
      "text/plain": [
       "<Figure size 640x480 with 1 Axes>"
      ]
     },
     "metadata": {},
     "output_type": "display_data"
    }
   ],
   "source": [
    "# ===================================================================================\n",
    "#                                Accuracy History Plot\n",
    "# ===================================================================================\n",
    "\n",
    "plt.title('model accuracy')\n",
    "plt.plot(hybrid.history['accuracy'], '-g')\n",
    "plt.ylabel('accuracy')\n",
    "plt.show()"
   ]
  },
  {
   "cell_type": "code",
   "execution_count": null,
   "id": "77a458a1",
   "metadata": {},
   "outputs": [],
   "source": []
  }
 ],
 "metadata": {
  "kernelspec": {
   "display_name": "Python 3",
   "language": "python",
   "name": "python3"
  },
  "language_info": {
   "codemirror_mode": {
    "name": "ipython",
    "version": 3
   },
   "file_extension": ".py",
   "mimetype": "text/x-python",
   "name": "python",
   "nbconvert_exporter": "python",
   "pygments_lexer": "ipython3",
   "version": "3.8.5"
  }
 },
 "nbformat": 4,
 "nbformat_minor": 5
}
