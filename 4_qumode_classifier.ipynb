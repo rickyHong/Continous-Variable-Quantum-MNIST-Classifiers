{
 "cells": [
  {
   "cell_type": "markdown",
   "id": "4d6aa70b",
   "metadata": {},
   "source": [
    "### Author: Sophie Choe"
   ]
  },
  {
   "cell_type": "markdown",
   "id": "97b10033",
   "metadata": {},
   "source": [
    "#### Portland State University, Electrical and Computer Engineering"
   ]
  },
  {
   "cell_type": "markdown",
   "id": "595ccfec",
   "metadata": {},
   "source": [
    "Dependencies: keras-nightly==2.5.0.dev2021032900 PennyLane==0.17.0 StrawberryFields==0.18.0 tensorflow-2.4.0-cp38-cp38-macosx_10_9_x86_64.whl"
   ]
  },
  {
   "cell_type": "markdown",
   "id": "c2b1738d",
   "metadata": {},
   "source": [
    "# 4-qumode classifier\n",
    "\n",
    "Classical and Continuous Variable Quantum hybrid network: Classical layers using keras dense and quantum layers using Pennylane"
   ]
  },
  {
   "cell_type": "code",
   "execution_count": 1,
   "id": "417078e3",
   "metadata": {},
   "outputs": [],
   "source": [
    "import tensorflow as tf\n",
    "import tensorflow_datasets as tfds\n",
    "from tensorflow import keras\n",
    "from tensorflow.keras import layers\n",
    "\n",
    "import pennylane as qml\n",
    "import numpy as np\n",
    "\n",
    "import matplotlib.pyplot as plt"
   ]
  },
  {
   "cell_type": "markdown",
   "id": "84a81d5b",
   "metadata": {},
   "source": [
    "## 0. Loading data"
   ]
  },
  {
   "cell_type": "markdown",
   "id": "3d91f7fa",
   "metadata": {},
   "source": [
    "Normalize pixel values from 0 ~ 255 to 0 ~ 1"
   ]
  },
  {
   "cell_type": "code",
   "execution_count": 2,
   "id": "9cb00f94",
   "metadata": {},
   "outputs": [],
   "source": [
    "mnist = keras.datasets.mnist\n",
    "\n",
    "# datasets are numpy.ndarrays\n",
    "(X_train, Y_train), (X_test, Y_test) = mnist.load_data()     \n",
    "\n",
    "# normalize the image data\n",
    "X_train, X_test = X_train / 255.0, X_test / 255.0"
   ]
  },
  {
   "cell_type": "markdown",
   "id": "642c2280",
   "metadata": {},
   "source": [
    "One hot encode labels to vectors of size cutoff_dim^(num_qumodes)"
   ]
  },
  {
   "cell_type": "code",
   "execution_count": 3,
   "id": "849f33ec",
   "metadata": {},
   "outputs": [],
   "source": [
    "def one_hot(labels):  \n",
    "       \n",
    "    depth =  2**4                       # 10 classes + 6 zeros for padding\n",
    "    indices = labels.astype(np.int32)    \n",
    "    one_hot_labels = np.eye(depth)[indices].astype(np.float32) \n",
    "    \n",
    "    return one_hot_labels\n",
    "\n",
    "# one-hot encoded labels, each label of length cutoff dimension**2\n",
    "y_train, y_test = one_hot(Y_train), one_hot(Y_test)\n",
    "\n",
    "# using only 600 samples for training in this experiment\n",
    "n_samples = 600\n",
    "test_samples = 100\n",
    "X_train, X_test, y_train, y_test = X_train[:n_samples], X_test[:test_samples], y_train[:n_samples], y_test[:test_samples]"
   ]
  },
  {
   "cell_type": "markdown",
   "id": "8185cf3c",
   "metadata": {},
   "source": [
    "## 1. Classical circuit"
   ]
  },
  {
   "cell_type": "markdown",
   "id": "54114c44",
   "metadata": {},
   "source": [
    "Define classical layers using Keras Sequential. Take in 28x28 image matrices, flatten, and output vectors of length 30. 2 hidden layers with ELU activation."
   ]
  },
  {
   "cell_type": "code",
   "execution_count": 4,
   "id": "46bb059f",
   "metadata": {},
   "outputs": [
    {
     "name": "stdout",
     "output_type": "stream",
     "text": [
      "Model: \"sequential\"\n",
      "_________________________________________________________________\n",
      "Layer (type)                 Output Shape              Param #   \n",
      "=================================================================\n",
      "flatten (Flatten)            (None, 784)               0         \n",
      "_________________________________________________________________\n",
      "dense (Dense)                (None, 392)               307720    \n",
      "_________________________________________________________________\n",
      "dense_1 (Dense)              (None, 196)               77028     \n",
      "_________________________________________________________________\n",
      "dense_2 (Dense)              (None, 98)                19306     \n",
      "_________________________________________________________________\n",
      "dense_3 (Dense)              (None, 49)                4851      \n",
      "_________________________________________________________________\n",
      "dense_4 (Dense)              (None, 30)                1500      \n",
      "=================================================================\n",
      "Total params: 410,405\n",
      "Trainable params: 410,405\n",
      "Non-trainable params: 0\n",
      "_________________________________________________________________\n"
     ]
    }
   ],
   "source": [
    "keras.backend.set_floatx('float32')\n",
    "\n",
    "model = keras.models.Sequential([\n",
    "                                 layers.Flatten(input_shape = (28,28)),\n",
    "                                 layers.Dense(392, activation =\"elu\"),\n",
    "                                 layers.Dense(196, activation =\"elu\"),\n",
    "                                 layers.Dense(98),\n",
    "                                 layers.Dense(49, activation =\"elu\"),\n",
    "                                 layers.Dense(30),\n",
    "                                ])\n",
    "\n",
    "# More than a million parameters for the classical circuit\n",
    "model.summary()"
   ]
  },
  {
   "cell_type": "markdown",
   "id": "b3e30830",
   "metadata": {},
   "source": [
    "## 2. Data encoding circuit"
   ]
  },
  {
   "cell_type": "markdown",
   "id": "a7c72d96",
   "metadata": {},
   "source": [
    "Encode the output vectors from the classical network into quantum states using the vector entries as parameters of continuous variable gates. "
   ]
  },
  {
   "cell_type": "code",
   "execution_count": 5,
   "id": "6a5e27b4",
   "metadata": {},
   "outputs": [],
   "source": [
    "def encode_data(x):\n",
    "    qml.Squeezing(x[0], x[1], wires=0)\n",
    "    qml.Squeezing(x[2], x[3], wires=1)\n",
    "    qml.Squeezing(x[4], x[5], wires=2)\n",
    "    qml.Squeezing(x[6], x[7], wires=3)\n",
    "    \n",
    "    qml.Beamsplitter(x[8], x[9], wires=[0,1])\n",
    "    qml.Beamsplitter(x[10], x[11], wires=[1,2])\n",
    "    qml.Beamsplitter(x[12], x[13], wires=[2,3])\n",
    "    \n",
    "    qml.Rotation(x[14], wires=0)\n",
    "    qml.Rotation(x[15], wires=1)\n",
    "    qml.Rotation(x[16], wires=2)\n",
    "    qml.Rotation(x[17], wires=3)    \n",
    "    \n",
    "    qml.Displacement(x[18], x[19], wires=0)\n",
    "    qml.Displacement(x[20], x[21], wires=1)\n",
    "    qml.Displacement(x[22], x[23], wires=2)\n",
    "    qml.Displacement(x[24], x[25], wires=3) \n",
    "    \n",
    "    qml.Kerr(x[26], wires=0)\n",
    "    qml.Kerr(x[27], wires=1)\n",
    "    qml.Kerr(x[28], wires=2)\n",
    "    qml.Kerr(x[29], wires=3)"
   ]
  },
  {
   "cell_type": "markdown",
   "id": "9eca77da",
   "metadata": {},
   "source": [
    "## 3. Qauntum neural network circuit"
   ]
  },
  {
   "cell_type": "code",
   "execution_count": 6,
   "id": "de0894c2",
   "metadata": {},
   "outputs": [],
   "source": [
    "def layer(v):\n",
    "    \n",
    "    # Linear transformation W = Interferemeter, squeezers, interferometer\n",
    "    # Interferometer 1\n",
    "    qml.Beamsplitter(v[0], v[1], wires=[0,1])\n",
    "    qml.Beamsplitter(v[2], v[3], wires=[1,2])\n",
    "    qml.Beamsplitter(v[4], v[5], wires=[2,3])\n",
    "    \n",
    "    qml.Rotation(v[6], wires=0)\n",
    "    qml.Rotation(v[7], wires=1)\n",
    "    qml.Rotation(v[8], wires=2)\n",
    "    qml.Rotation(v[9], wires=3)\n",
    "    \n",
    "    # Squeezers\n",
    "    qml.Squeezing(v[10], 0.0, wires=0)\n",
    "    qml.Squeezing(v[11], 0.0, wires=1)\n",
    "    qml.Squeezing(v[12], 0.0, wires=2)\n",
    "    qml.Squeezing(v[13], 0.0, wires=3) \n",
    "    \n",
    "    # Interferometer 2\n",
    "    qml.Beamsplitter(v[14], v[15], wires=[0,1])\n",
    "    qml.Beamsplitter(v[16], v[17], wires=[1,2])\n",
    "    qml.Beamsplitter(v[18], v[19], wires=[2,3])\n",
    "    \n",
    "    qml.Rotation(v[20], wires=0)\n",
    "    qml.Rotation(v[21], wires=1)\n",
    "    qml.Rotation(v[22], wires=2)\n",
    "    qml.Rotation(v[23], wires=3)\n",
    "    \n",
    "    # Bias addition\n",
    "    qml.Displacement(v[24], 0.0, wires=0)\n",
    "    qml.Displacement(v[25], 0.0, wires=1)\n",
    "    qml.Displacement(v[26], 0.0, wires=2)\n",
    "    qml.Displacement(v[27], 0.0, wires=3)\n",
    "    \n",
    "    # Non-linear activation\n",
    "    qml.Kerr(v[28], wires=0)\n",
    "    qml.Kerr(v[29], wires=1)\n",
    "    qml.Kerr(v[30], wires=2)\n",
    "    qml.Kerr(v[31], wires=3)"
   ]
  },
  {
   "cell_type": "markdown",
   "id": "9f2b136b",
   "metadata": {},
   "source": [
    "## 4. Quantum device"
   ]
  },
  {
   "cell_type": "markdown",
   "id": "d07c0173",
   "metadata": {},
   "source": [
    "For the expression of qumodes in Fock basis, choose a \"strawberryfields.fock\" device. Define the number of qumodes and cutoff dimension. Run the data encoding circuit and quantum neural network circuit. The probability measurement method (qml.probs(wires)) returns vectors of size 2^4 = 16 (cutoff_dim^num_modes)."
   ]
  },
  {
   "cell_type": "code",
   "execution_count": 8,
   "id": "83dee8c3",
   "metadata": {},
   "outputs": [],
   "source": [
    "num_modes = 4\n",
    "cutoff_dim = 2\n",
    "\n",
    "# select a devide \n",
    "dev = qml.device(\"strawberryfields.fock\", wires=num_modes, cutoff_dim=cutoff_dim) \n",
    "\n",
    "@qml.qnode(dev, interface=\"tf\")\n",
    "def quantum_nn(inputs, var):\n",
    "    # Encode input x into quantum state\n",
    "    encode_data(inputs)\n",
    "\n",
    "    # iterative quantum layers\n",
    "    for v in var:\n",
    "        layer(v)\n",
    "\n",
    "    return qml.probs(wires=[0, 1, 2, 3])  # Measurement"
   ]
  },
  {
   "cell_type": "markdown",
   "id": "96eedc15",
   "metadata": {},
   "source": [
    "## 5. Hybrid circuit"
   ]
  },
  {
   "cell_type": "code",
   "execution_count": 10,
   "id": "bb3d72be",
   "metadata": {},
   "outputs": [],
   "source": [
    "weight_shape = {'var': (4,32)}          # 4 layers and 32 parameters per layer, Keras layer will initialize.\n",
    "\n",
    "num_layers = 4\n",
    "qlayer = qml.qnn.KerasLayer(quantum_nn, weight_shape, output_dim = 4)\n",
    "\n",
    "# add to the classical sequential model\n",
    "model.add(qlayer)\n"
   ]
  },
  {
   "cell_type": "markdown",
   "id": "198357cc",
   "metadata": {},
   "source": [
    "## 6. Loss function and optimizer"
   ]
  },
  {
   "cell_type": "code",
   "execution_count": 11,
   "id": "1d32cad7",
   "metadata": {},
   "outputs": [],
   "source": [
    "opt = keras.optimizers.SGD(lr = 0.02)\n",
    "model.compile(opt, loss = 'categorical_crossentropy', metrics =['accuracy'])"
   ]
  },
  {
   "cell_type": "markdown",
   "id": "c433de7a",
   "metadata": {},
   "source": [
    "## 7. Training"
   ]
  },
  {
   "cell_type": "code",
   "execution_count": 12,
   "id": "44b23d51",
   "metadata": {},
   "outputs": [
    {
     "name": "stdout",
     "output_type": "stream",
     "text": [
      "Epoch 1/70\n",
      "10/10 [==============================] - 1382s 140s/step - loss: 2.9951 - accuracy: 0.1697 - val_loss: 2.2072 - val_accuracy: 0.2700\n",
      "Epoch 2/70\n",
      "10/10 [==============================] - 1655s 170s/step - loss: 1.9471 - accuracy: 0.3921 - val_loss: 2.6418 - val_accuracy: 0.2600\n",
      "Epoch 3/70\n",
      "10/10 [==============================] - 1938s 197s/step - loss: 1.9178 - accuracy: 0.4227 - val_loss: 1.6940 - val_accuracy: 0.4700\n",
      "Epoch 4/70\n",
      "10/10 [==============================] - 12172s 1334s/step - loss: 1.5007 - accuracy: 0.5805 - val_loss: 1.7040 - val_accuracy: 0.4900\n",
      "Epoch 5/70\n",
      "10/10 [==============================] - 14883s 1466s/step - loss: 1.4438 - accuracy: 0.5998 - val_loss: 1.3845 - val_accuracy: 0.5900\n",
      "Epoch 6/70\n",
      "10/10 [==============================] - 7353s 661s/step - loss: 1.1971 - accuracy: 0.7134 - val_loss: 1.3443 - val_accuracy: 0.6000\n",
      "Epoch 7/70\n",
      "10/10 [==============================] - 6382s 690s/step - loss: 1.1569 - accuracy: 0.7099 - val_loss: 1.3299 - val_accuracy: 0.6100\n",
      "Epoch 8/70\n",
      "10/10 [==============================] - 5532s 518s/step - loss: 1.0633 - accuracy: 0.7327 - val_loss: 1.3823 - val_accuracy: 0.5900\n",
      "Epoch 9/70\n",
      "10/10 [==============================] - 1820s 183s/step - loss: 1.0054 - accuracy: 0.7659 - val_loss: 1.2668 - val_accuracy: 0.6600\n",
      "Epoch 10/70\n",
      "10/10 [==============================] - 1814s 182s/step - loss: 0.9874 - accuracy: 0.7804 - val_loss: 1.1943 - val_accuracy: 0.6200\n",
      "Epoch 11/70\n",
      "10/10 [==============================] - 4285s 409s/step - loss: 0.9234 - accuracy: 0.7911 - val_loss: 1.2333 - val_accuracy: 0.6200\n",
      "Epoch 12/70\n",
      "10/10 [==============================] - 1854s 176s/step - loss: 0.8662 - accuracy: 0.7978 - val_loss: 1.0955 - val_accuracy: 0.6600\n",
      "Epoch 13/70\n",
      "10/10 [==============================] - 2911s 303s/step - loss: 0.8484 - accuracy: 0.8037 - val_loss: 1.1831 - val_accuracy: 0.6400\n",
      "Epoch 14/70\n",
      "10/10 [==============================] - 1737s 171s/step - loss: 0.8317 - accuracy: 0.8091 - val_loss: 1.2126 - val_accuracy: 0.6400\n",
      "Epoch 15/70\n",
      "10/10 [==============================] - 4082s 432s/step - loss: 0.7482 - accuracy: 0.8082 - val_loss: 1.0863 - val_accuracy: 0.6900\n",
      "Epoch 16/70\n",
      "10/10 [==============================] - 1743s 168s/step - loss: 0.7280 - accuracy: 0.8267 - val_loss: 1.2221 - val_accuracy: 0.6400\n",
      "Epoch 17/70\n",
      "10/10 [==============================] - 4198s 448s/step - loss: 0.6950 - accuracy: 0.8291 - val_loss: 1.2001 - val_accuracy: 0.6500\n",
      "Epoch 18/70\n",
      "10/10 [==============================] - 1846s 184s/step - loss: 0.7085 - accuracy: 0.8383 - val_loss: 1.0801 - val_accuracy: 0.7000\n",
      "Epoch 19/70\n",
      "10/10 [==============================] - 2047s 208s/step - loss: 0.5855 - accuracy: 0.8769 - val_loss: 1.0720 - val_accuracy: 0.6600\n",
      "Epoch 20/70\n",
      "10/10 [==============================] - 4410s 464s/step - loss: 0.5897 - accuracy: 0.8683 - val_loss: 1.0643 - val_accuracy: 0.6800\n",
      "Epoch 21/70\n",
      "10/10 [==============================] - 1908s 191s/step - loss: 0.5772 - accuracy: 0.8704 - val_loss: 0.9931 - val_accuracy: 0.7400\n",
      "Epoch 22/70\n",
      "10/10 [==============================] - 4217s 447s/step - loss: 0.5320 - accuracy: 0.8956 - val_loss: 1.2893 - val_accuracy: 0.6000\n",
      "Epoch 23/70\n",
      "10/10 [==============================] - 15053s 1541s/step - loss: 0.6110 - accuracy: 0.8575 - val_loss: 1.0679 - val_accuracy: 0.7200\n",
      "Epoch 24/70\n",
      "10/10 [==============================] - 21399s 2223s/step - loss: 0.5024 - accuracy: 0.8974 - val_loss: 0.9927 - val_accuracy: 0.6800\n",
      "Epoch 25/70\n",
      "10/10 [==============================] - 3445s 228s/step - loss: 0.4774 - accuracy: 0.9094 - val_loss: 1.1123 - val_accuracy: 0.6900\n",
      "Epoch 26/70\n",
      "10/10 [==============================] - 2456s 259s/step - loss: 0.5331 - accuracy: 0.9045 - val_loss: 1.0351 - val_accuracy: 0.7000\n",
      "Epoch 27/70\n",
      "10/10 [==============================] - 1718s 176s/step - loss: 0.4633 - accuracy: 0.9256 - val_loss: 1.0393 - val_accuracy: 0.6700\n",
      "Epoch 28/70\n",
      "10/10 [==============================] - 2294s 240s/step - loss: 0.5062 - accuracy: 0.9023 - val_loss: 1.0764 - val_accuracy: 0.7400\n",
      "Epoch 29/70\n",
      "10/10 [==============================] - 3369s 285s/step - loss: 0.4960 - accuracy: 0.9047 - val_loss: 1.0784 - val_accuracy: 0.7200\n",
      "Epoch 30/70\n",
      "10/10 [==============================] - 1249s 124s/step - loss: 0.5062 - accuracy: 0.9015 - val_loss: 0.9433 - val_accuracy: 0.7700\n",
      "Epoch 31/70\n",
      "10/10 [==============================] - 2984s 316s/step - loss: 0.4127 - accuracy: 0.9106 - val_loss: 1.1146 - val_accuracy: 0.6800\n",
      "Epoch 32/70\n",
      "10/10 [==============================] - 11554s 1172s/step - loss: 0.3830 - accuracy: 0.9444 - val_loss: 0.9391 - val_accuracy: 0.7500\n",
      "Epoch 33/70\n",
      "10/10 [==============================] - 2320s 242s/step - loss: 0.3761 - accuracy: 0.9436 - val_loss: 1.1654 - val_accuracy: 0.6600\n",
      "Epoch 34/70\n",
      "10/10 [==============================] - 2076s 215s/step - loss: 0.3925 - accuracy: 0.9514 - val_loss: 1.0021 - val_accuracy: 0.6900\n",
      "Epoch 35/70\n",
      "10/10 [==============================] - 1264s 126s/step - loss: 0.3434 - accuracy: 0.9613 - val_loss: 0.9509 - val_accuracy: 0.7400\n",
      "Epoch 36/70\n",
      "10/10 [==============================] - 1581s 161s/step - loss: 0.3540 - accuracy: 0.9558 - val_loss: 1.0313 - val_accuracy: 0.7300\n",
      "Epoch 37/70\n",
      "10/10 [==============================] - 1243s 123s/step - loss: 0.3497 - accuracy: 0.9641 - val_loss: 1.0081 - val_accuracy: 0.7200\n",
      "Epoch 38/70\n",
      "10/10 [==============================] - 1365s 138s/step - loss: 0.3213 - accuracy: 0.9557 - val_loss: 1.0416 - val_accuracy: 0.6500\n",
      "Epoch 39/70\n",
      "10/10 [==============================] - 3114s 319s/step - loss: 0.3412 - accuracy: 0.9643 - val_loss: 1.0064 - val_accuracy: 0.7100\n",
      "Epoch 40/70\n",
      "10/10 [==============================] - 2395s 251s/step - loss: 0.2999 - accuracy: 0.9718 - val_loss: 0.9560 - val_accuracy: 0.7300\n",
      "Epoch 41/70\n",
      "10/10 [==============================] - 1452s 145s/step - loss: 0.2922 - accuracy: 0.9703 - val_loss: 1.0067 - val_accuracy: 0.7200\n",
      "Epoch 42/70\n",
      "10/10 [==============================] - 1393s 137s/step - loss: 0.2726 - accuracy: 0.9802 - val_loss: 1.0006 - val_accuracy: 0.7200\n",
      "Epoch 43/70\n",
      "10/10 [==============================] - 7325s 722s/step - loss: 0.3310 - accuracy: 0.9723 - val_loss: 0.9089 - val_accuracy: 0.7600\n",
      "Epoch 44/70\n",
      "10/10 [==============================] - 17628s 1743s/step - loss: 0.2695 - accuracy: 0.9830 - val_loss: 0.9610 - val_accuracy: 0.7300\n",
      "Epoch 45/70\n",
      "10/10 [==============================] - 16285s 1622s/step - loss: 0.3239 - accuracy: 0.9613 - val_loss: 0.9850 - val_accuracy: 0.7000\n",
      "Epoch 46/70\n",
      "10/10 [==============================] - 3137s 180s/step - loss: 0.2493 - accuracy: 0.9857 - val_loss: 0.9291 - val_accuracy: 0.7600\n",
      "Epoch 47/70\n",
      "10/10 [==============================] - 2024s 157s/step - loss: 0.2650 - accuracy: 0.9832 - val_loss: 0.9996 - val_accuracy: 0.7000\n",
      "Epoch 48/70\n",
      "10/10 [==============================] - 1610s 165s/step - loss: 0.3219 - accuracy: 0.9709 - val_loss: 0.9569 - val_accuracy: 0.7200\n",
      "Epoch 49/70\n",
      "10/10 [==============================] - 1330s 132s/step - loss: 0.2636 - accuracy: 0.9836 - val_loss: 0.9319 - val_accuracy: 0.7300\n",
      "Epoch 50/70\n",
      "10/10 [==============================] - 2143s 222s/step - loss: 0.2275 - accuracy: 0.9894 - val_loss: 0.9493 - val_accuracy: 0.7500\n",
      "Epoch 51/70\n",
      "10/10 [==============================] - 1617s 166s/step - loss: 0.2404 - accuracy: 0.9882 - val_loss: 0.9769 - val_accuracy: 0.7100\n",
      "Epoch 52/70\n",
      "10/10 [==============================] - 1384s 137s/step - loss: 0.2195 - accuracy: 0.9858 - val_loss: 0.9488 - val_accuracy: 0.7200\n",
      "Epoch 53/70\n",
      "10/10 [==============================] - 2333s 241s/step - loss: 0.2274 - accuracy: 0.9915 - val_loss: 0.9739 - val_accuracy: 0.7300\n",
      "Epoch 54/70\n",
      "10/10 [==============================] - 2544s 269s/step - loss: 0.2214 - accuracy: 0.9880 - val_loss: 0.9301 - val_accuracy: 0.7200\n",
      "Epoch 55/70\n",
      "10/10 [==============================] - 1352s 134s/step - loss: 0.2278 - accuracy: 0.9954 - val_loss: 0.9970 - val_accuracy: 0.7500\n",
      "Epoch 56/70\n",
      "10/10 [==============================] - 1462s 146s/step - loss: 0.2165 - accuracy: 0.9869 - val_loss: 0.9273 - val_accuracy: 0.7500\n",
      "Epoch 57/70\n",
      "10/10 [==============================] - 1387s 138s/step - loss: 0.2136 - accuracy: 0.9953 - val_loss: 1.0968 - val_accuracy: 0.6800\n",
      "Epoch 58/70\n",
      "10/10 [==============================] - 1734s 176s/step - loss: 0.2285 - accuracy: 0.9868 - val_loss: 0.9515 - val_accuracy: 0.7400\n",
      "Epoch 59/70\n",
      "10/10 [==============================] - 2793s 291s/step - loss: 0.2105 - accuracy: 0.9944 - val_loss: 0.8986 - val_accuracy: 0.7700\n",
      "Epoch 60/70\n",
      "10/10 [==============================] - 2322s 243s/step - loss: 0.2128 - accuracy: 0.9919 - val_loss: 0.9093 - val_accuracy: 0.7500\n",
      "Epoch 61/70\n",
      "10/10 [==============================] - 1533s 153s/step - loss: 0.1931 - accuracy: 0.9930 - val_loss: 0.9337 - val_accuracy: 0.7600\n",
      "Epoch 62/70\n",
      "10/10 [==============================] - 1583s 158s/step - loss: 0.1781 - accuracy: 0.9963 - val_loss: 0.8980 - val_accuracy: 0.7800\n",
      "Epoch 63/70\n",
      "10/10 [==============================] - 1717s 172s/step - loss: 0.2032 - accuracy: 0.9941 - val_loss: 0.9277 - val_accuracy: 0.7600\n",
      "Epoch 64/70\n",
      "10/10 [==============================] - 1871s 187s/step - loss: 0.1887 - accuracy: 0.9981 - val_loss: 0.9176 - val_accuracy: 0.7500\n",
      "Epoch 65/70\n",
      "10/10 [==============================] - 1856s 182s/step - loss: 0.1997 - accuracy: 0.9980 - val_loss: 0.9167 - val_accuracy: 0.7500\n",
      "Epoch 66/70\n",
      "10/10 [==============================] - 1505s 150s/step - loss: 0.1927 - accuracy: 0.9923 - val_loss: 0.9353 - val_accuracy: 0.7300\n",
      "Epoch 67/70\n",
      "10/10 [==============================] - 2517s 265s/step - loss: 0.1691 - accuracy: 0.9957 - val_loss: 1.0022 - val_accuracy: 0.7200\n",
      "Epoch 68/70\n",
      "10/10 [==============================] - 3250s 343s/step - loss: 0.2114 - accuracy: 0.9960 - val_loss: 0.8853 - val_accuracy: 0.7700\n",
      "Epoch 69/70\n",
      "10/10 [==============================] - 8537s 640s/step - loss: 0.1725 - accuracy: 0.9985 - val_loss: 0.9083 - val_accuracy: 0.7500\n",
      "Epoch 70/70\n",
      "10/10 [==============================] - 8844s 765s/step - loss: 0.1735 - accuracy: 0.9978 - val_loss: 0.9332 - val_accuracy: 0.7500\n"
     ]
    }
   ],
   "source": [
    "hybrid = model.fit(X_train, \n",
    "                   y_train,\n",
    "                   epochs = 70,\n",
    "                   batch_size = 64,\n",
    "                   shuffle = True, \n",
    "                   validation_data = (X_test, y_test))"
   ]
  },
  {
   "cell_type": "code",
   "execution_count": 13,
   "id": "07a2a88f",
   "metadata": {},
   "outputs": [
    {
     "name": "stdout",
     "output_type": "stream",
     "text": [
      "Model: \"sequential\"\n",
      "_________________________________________________________________\n",
      "Layer (type)                 Output Shape              Param #   \n",
      "=================================================================\n",
      "flatten (Flatten)            (None, 784)               0         \n",
      "_________________________________________________________________\n",
      "dense (Dense)                (None, 392)               307720    \n",
      "_________________________________________________________________\n",
      "dense_1 (Dense)              (None, 196)               77028     \n",
      "_________________________________________________________________\n",
      "dense_2 (Dense)              (None, 98)                19306     \n",
      "_________________________________________________________________\n",
      "dense_3 (Dense)              (None, 49)                4851      \n",
      "_________________________________________________________________\n",
      "dense_4 (Dense)              (None, 30)                1500      \n",
      "_________________________________________________________________\n",
      "keras_layer (KerasLayer)     (None, 4)                 128       \n",
      "=================================================================\n",
      "Total params: 410,533\n",
      "Trainable params: 410,533\n",
      "Non-trainable params: 0\n",
      "_________________________________________________________________\n"
     ]
    }
   ],
   "source": [
    "model.summary()"
   ]
  },
  {
   "cell_type": "markdown",
   "id": "49b07412",
   "metadata": {},
   "source": [
    "## 8. Loss and accuracy graphs"
   ]
  },
  {
   "cell_type": "code",
   "execution_count": 14,
   "id": "cfd7c39c",
   "metadata": {},
   "outputs": [
    {
     "data": {
      "image/png": "[encoded data removed]",
      "text/plain": [
       "<Figure size 640x480 with 1 Axes>"
      ]
     },
     "metadata": {},
     "output_type": "display_data"
    }
   ],
   "source": [
    "# ===================================================================================\n",
    "#                                  Loss History Plot\n",
    "# ===================================================================================\n",
    "\n",
    "plt.title('model loss')\n",
    "plt.plot(hybrid.history['loss'], '-g')\n",
    "plt.ylabel('loss')\n",
    "plt.show()"
   ]
  },
  {
   "cell_type": "code",
   "execution_count": 15,
   "id": "cc6435a2",
   "metadata": {},
   "outputs": [
    {
     "data": {
      "image/png": "[encoded data removed]",
      "text/plain": [
       "<Figure size 640x480 with 1 Axes>"
      ]
     },
     "metadata": {},
     "output_type": "display_data"
    }
   ],
   "source": [
    "# ===================================================================================\n",
    "#                                Accuracy History Plot\n",
    "# ===================================================================================\n",
    "\n",
    "plt.title('model accuracy')\n",
    "plt.plot(hybrid.history['accuracy'], '-g')\n",
    "plt.ylabel('accuracy')\n",
    "plt.show()"
   ]
  }
 ],
 "metadata": {
  "kernelspec": {
   "display_name": "Python 3",
   "language": "python",
   "name": "python3"
  },
  "language_info": {
   "codemirror_mode": {
    "name": "ipython",
    "version": 3
   },
   "file_extension": ".py",
   "mimetype": "text/x-python",
   "name": "python",
   "nbconvert_exporter": "python",
   "pygments_lexer": "ipython3",
   "version": "3.8.5"
  }
 },
 "nbformat": 4,
 "nbformat_minor": 5
}
